{
  "nbformat": 4,
  "nbformat_minor": 0,
  "metadata": {
    "colab": {
      "provenance": [],
      "authorship_tag": "ABX9TyMbDZRXeAAcwAWf3ZD/klgC",
      "include_colab_link": true
    },
    "kernelspec": {
      "name": "python3",
      "display_name": "Python 3"
    },
    "language_info": {
      "name": "python"
    },
    "accelerator": "TPU"
  },
  "cells": [
    {
      "cell_type": "markdown",
      "metadata": {
        "id": "view-in-github",
        "colab_type": "text"
      },
      "source": [
        "<a href=\"https://colab.research.google.com/github/sabiko1/Final-Project/blob/main/CNNs.ipynb\" target=\"_parent\"><img src=\"https://colab.research.google.com/assets/colab-badge.svg\" alt=\"Open In Colab\"/></a>"
      ]
    },
    {
      "cell_type": "code",
      "execution_count": null,
      "metadata": {
        "colab": {
          "base_uri": "https://localhost:8080/"
        },
        "id": "EnjHQ7obJ-lU",
        "outputId": "aac80644-88d6-4835-8638-ad69d778a06f"
      },
      "outputs": [
        {
          "output_type": "stream",
          "name": "stdout",
          "text": [
            "Mounted at /content/drive\n"
          ]
        }
      ],
      "source": [
        "import os\n",
        "import sys\n",
        "\n",
        "if 'google.colab' in sys.modules:\n",
        "    from google.colab import drive\n",
        "    drive.mount('/content/drive')\n",
        "    os.chdir('drive/My Drive/') # 'My Drive' is the default name of Google Drives\n",
        "    os.listdir()\n",
        "\n",
        "# use os.chdir(\"my-directory\") # to change directory, and\n",
        "# os.listdir()                 # to list its contents\n",
        "# os.getcwd()                  # to get the name of the current directory\n",
        "# os.mkdir(\"my-new-dir\")       # to create a new directory\n",
        "# See: https://realpython.com/working-with-files-in-python/"
      ]
    },
    {
      "cell_type": "code",
      "source": [
        "import numpy as np\n",
        "import tensorflow as tf\n",
        "import keras\n",
        "from keras import layers\n",
        "import matplotlib.pyplot as plt"
      ],
      "metadata": {
        "id": "81UonqEMKIFU"
      },
      "execution_count": null,
      "outputs": []
    },
    {
      "cell_type": "code",
      "source": [
        "# ファイルから読み込む\n",
        "x = np.load('images.npy')\n",
        "y = np.load('labels.npy')"
      ],
      "metadata": {
        "id": "bhgnS3OrKONZ"
      },
      "execution_count": null,
      "outputs": []
    },
    {
      "cell_type": "code",
      "source": [
        "import numpy as np\n",
        "\n",
        "train_ratio = 0.8 #define a ratio on train and test\n",
        "\n",
        "train_images, test_images = np.split(x, [int(len(x) * train_ratio)])  # separate data with the ratio\n",
        "train_targets, test_targets = np.split(y, [int(len(y) * train_ratio)]) # separate targets"
      ],
      "metadata": {
        "id": "L_tAf1y1LMM2"
      },
      "execution_count": null,
      "outputs": []
    },
    {
      "cell_type": "code",
      "source": [
        "# train_images = train_images.reshape((9660, 127 * 128)) # reshape flattens 127 x 128 arrays\n",
        "# test_images = test_images.reshape((2415, 127 * 128))   # to vectors of 16256 elements\n",
        "\n",
        "train_images /= 16   # cast as floats\n",
        "test_images /= 16     # and rescale to [0, 1]"
      ],
      "metadata": {
        "id": "Anl6gmdDLR8z"
      },
      "execution_count": null,
      "outputs": []
    },
    {
      "cell_type": "code",
      "source": [
        "from tensorflow.keras.utils import to_categorical # encode with the nifty `to_categorical` function\n",
        "\n",
        "train_labels = to_categorical(train_targets)\n",
        "test_labels  = to_categorical(test_targets)"
      ],
      "metadata": {
        "id": "qS59lUFnLXmg"
      },
      "execution_count": null,
      "outputs": []
    },
    {
      "cell_type": "code",
      "source": [
        "import keras\n",
        "from keras import layers\n",
        "\n",
        "inputs = keras.Input(shape=(127,128,1))\n",
        "\n",
        "# dense layers\n",
        "x = layers.Conv2D(filters=32, kernel_size=3, activation='relu')(inputs)\n",
        "x = layers.MaxPooling2D(pool_size=2)(x)\n",
        "x = layers.Conv2D(filters=32, kernel_size=3, activation='relu')(x)\n",
        "x = layers.MaxPooling2D(pool_size=2)(x)\n",
        "x = layers.Conv2D(filters=32, kernel_size=3, activation='relu')(x)\n",
        "x = layers.Flatten()(x)\n",
        "outputs = layers.Dense(75, activation='softmax')(x)\n",
        "\n",
        "# create a model\n",
        "model = keras.Model(inputs=inputs, outputs=outputs, name=\"model1\")\n",
        "\n",
        "# show the model1\n",
        "# keras.utils.plot_model(model2, \"model1.png\", show_shapes=True)\n",
        "model.summary()"
      ],
      "metadata": {
        "colab": {
          "base_uri": "https://localhost:8080/"
        },
        "id": "SyN2l3QpLdgJ",
        "outputId": "19f978c8-e0ab-4fce-fce3-479164d0c1af"
      },
      "execution_count": null,
      "outputs": [
        {
          "output_type": "stream",
          "name": "stdout",
          "text": [
            "Model: \"model1\"\n",
            "_________________________________________________________________\n",
            " Layer (type)                Output Shape              Param #   \n",
            "=================================================================\n",
            " input_2 (InputLayer)        [(None, 127, 128, 1)]     0         \n",
            "                                                                 \n",
            " conv2d_1 (Conv2D)           (None, 125, 126, 32)      320       \n",
            "                                                                 \n",
            " max_pooling2d (MaxPooling2D  (None, 62, 63, 32)       0         \n",
            " )                                                               \n",
            "                                                                 \n",
            " conv2d_2 (Conv2D)           (None, 60, 61, 32)        9248      \n",
            "                                                                 \n",
            " max_pooling2d_1 (MaxPooling  (None, 30, 30, 32)       0         \n",
            " 2D)                                                             \n",
            "                                                                 \n",
            " conv2d_3 (Conv2D)           (None, 28, 28, 32)        9248      \n",
            "                                                                 \n",
            " flatten (Flatten)           (None, 25088)             0         \n",
            "                                                                 \n",
            " dense (Dense)               (None, 75)                1881675   \n",
            "                                                                 \n",
            "=================================================================\n",
            "Total params: 1,900,491\n",
            "Trainable params: 1,900,491\n",
            "Non-trainable params: 0\n",
            "_________________________________________________________________\n"
          ]
        }
      ]
    },
    {
      "cell_type": "code",
      "source": [
        "model.compile(\n",
        "    loss='categorical_crossentropy',\n",
        "    optimizer='rmsprop',\n",
        "    metrics=['accuracy']\n",
        ")"
      ],
      "metadata": {
        "id": "ep2PiYWPO8kE"
      },
      "execution_count": null,
      "outputs": []
    },
    {
      "cell_type": "code",
      "source": [
        "callback = tf.keras.callbacks.EarlyStopping(monitor='val_loss', patience=5, restore_best_weights=True) # Early stop if val_loss sees no improvement\n",
        "\n",
        "history = model.fit(train_images, train_labels, validation_split=0.2, epochs=30, batch_size=128, callbacks=[callback]) # 0.2 for validation"
      ],
      "metadata": {
        "colab": {
          "base_uri": "https://localhost:8080/"
        },
        "id": "1D4pjDsQRsjV",
        "outputId": "b12378df-f9dc-4a25-90b0-b927fb10af54"
      },
      "execution_count": null,
      "outputs": [
        {
          "output_type": "stream",
          "name": "stdout",
          "text": [
            "Epoch 1/30\n",
            "61/61 [==============================] - 206s 3s/step - loss: 1.9652 - accuracy: 0.5083 - val_loss: 1.6640 - val_accuracy: 0.5792\n",
            "Epoch 2/30\n",
            "61/61 [==============================] - 205s 3s/step - loss: 0.9335 - accuracy: 0.7500 - val_loss: 1.2282 - val_accuracy: 0.6786\n",
            "Epoch 3/30\n",
            "61/61 [==============================] - 205s 3s/step - loss: 0.4691 - accuracy: 0.8623 - val_loss: 1.0157 - val_accuracy: 0.7345\n",
            "Epoch 4/30\n",
            "61/61 [==============================] - 211s 3s/step - loss: 0.2261 - accuracy: 0.9343 - val_loss: 1.0585 - val_accuracy: 0.7422\n",
            "Epoch 5/30\n",
            "61/61 [==============================] - 205s 3s/step - loss: 0.1081 - accuracy: 0.9687 - val_loss: 1.0377 - val_accuracy: 0.7484\n",
            "Epoch 6/30\n",
            "61/61 [==============================] - 206s 3s/step - loss: 0.0567 - accuracy: 0.9815 - val_loss: 1.1214 - val_accuracy: 0.7562\n",
            "Epoch 7/30\n",
            "61/61 [==============================] - 214s 3s/step - loss: 0.0378 - accuracy: 0.9884 - val_loss: 1.0244 - val_accuracy: 0.7852\n",
            "Epoch 8/30\n",
            "61/61 [==============================] - 202s 3s/step - loss: 0.0212 - accuracy: 0.9926 - val_loss: 1.1924 - val_accuracy: 0.7764\n"
          ]
        }
      ]
    },
    {
      "cell_type": "code",
      "source": [
        "import matplotlib.pyplot as plt"
      ],
      "metadata": {
        "id": "TStRL_jiU8VD"
      },
      "execution_count": null,
      "outputs": []
    },
    {
      "cell_type": "code",
      "source": [
        "def plot_loss(x):\n",
        "\n",
        "    history_dict = x.history\n",
        "    loss = history_dict['loss']\n",
        "    val_loss = history_dict['val_loss']\n",
        "\n",
        "    epochs = range(1, len(loss) + 1)\n",
        "\n",
        "    blue_dots = 'bo'\n",
        "    solid_blue_line = 'b'\n",
        "\n",
        "    plt.plot(epochs, loss, blue_dots, label = 'Training loss')\n",
        "    plt.plot(epochs, val_loss, solid_blue_line, label = 'Validation loss')\n",
        "    plt.title('Training and validation loss')\n",
        "    plt.xlabel('Epochs')\n",
        "    plt.ylabel('Loss')\n",
        "    plt.legend()\n",
        "    plt.show()"
      ],
      "metadata": {
        "id": "Shn-6VQgSWSq"
      },
      "execution_count": null,
      "outputs": []
    },
    {
      "cell_type": "code",
      "source": [
        "plot_loss(history)"
      ],
      "metadata": {
        "colab": {
          "base_uri": "https://localhost:8080/",
          "height": 472
        },
        "id": "JQ4uHDCSUzjA",
        "outputId": "6c37dec3-4b59-46f7-90f7-b3f77dd3c27a"
      },
      "execution_count": null,
      "outputs": [
        {
          "output_type": "display_data",
          "data": {
            "text/plain": [
              "<Figure size 640x480 with 1 Axes>"
            ],
            "image/png": "[encoded data removed]"
          },
          "metadata": {}
        }
      ]
    },
    {
      "cell_type": "code",
      "source": [
        "model1_loss, model1_acc = model.evaluate(test_images, test_labels)\n",
        "\n",
        "print('model_acc:', model1_acc)"
      ],
      "metadata": {
        "colab": {
          "base_uri": "https://localhost:8080/"
        },
        "id": "0rWnRSScVJta",
        "outputId": "438740a5-3843-4110-c791-36703af678a8"
      },
      "execution_count": null,
      "outputs": [
        {
          "output_type": "stream",
          "name": "stdout",
          "text": [
            "76/76 [==============================] - 16s 208ms/step - loss: 0.9118 - accuracy: 0.7702\n",
            "model_acc: 0.7701863646507263\n"
          ]
        }
      ]
    },
    {
      "cell_type": "markdown",
      "source": [
        "少ない層"
      ],
      "metadata": {
        "id": "otyRBlBQj4WX"
      }
    },
    {
      "cell_type": "code",
      "source": [
        "# dense layers\n",
        "x = layers.Conv2D(filters=32, kernel_size=3, activation='relu')(inputs)\n",
        "x = layers.MaxPooling2D(pool_size=2)(x)\n",
        "x = layers.Conv2D(filters=32, kernel_size=3, activation='relu')(x)\n",
        "x = layers.Flatten()(x)\n",
        "outputs = layers.Dense(75, activation='softmax')(x)\n",
        "\n",
        "# create a model\n",
        "model2 = keras.Model(inputs=inputs, outputs=outputs, name=\"model2\")\n",
        "\n",
        "# show the model1\n",
        "# keras.utils.plot_model(model2, \"model1.png\", show_shapes=True)\n",
        "model2.summary()"
      ],
      "metadata": {
        "colab": {
          "base_uri": "https://localhost:8080/"
        },
        "id": "Hv-mrMooVemd",
        "outputId": "9a3ab5c8-fd83-451d-ca95-508233088257"
      },
      "execution_count": null,
      "outputs": [
        {
          "output_type": "stream",
          "name": "stdout",
          "text": [
            "Model: \"model2\"\n",
            "_________________________________________________________________\n",
            " Layer (type)                Output Shape              Param #   \n",
            "=================================================================\n",
            " input_2 (InputLayer)        [(None, 127, 128, 1)]     0         \n",
            "                                                                 \n",
            " conv2d_4 (Conv2D)           (None, 125, 126, 32)      320       \n",
            "                                                                 \n",
            " max_pooling2d_2 (MaxPooling  (None, 62, 63, 32)       0         \n",
            " 2D)                                                             \n",
            "                                                                 \n",
            " conv2d_5 (Conv2D)           (None, 60, 61, 32)        9248      \n",
            "                                                                 \n",
            " flatten_1 (Flatten)         (None, 117120)            0         \n",
            "                                                                 \n",
            " dense_1 (Dense)             (None, 75)                8784075   \n",
            "                                                                 \n",
            "=================================================================\n",
            "Total params: 8,793,643\n",
            "Trainable params: 8,793,643\n",
            "Non-trainable params: 0\n",
            "_________________________________________________________________\n"
          ]
        }
      ]
    },
    {
      "cell_type": "code",
      "source": [
        "model2.compile(\n",
        "    loss='categorical_crossentropy',\n",
        "    optimizer='rmsprop',\n",
        "    metrics=['accuracy']\n",
        ")"
      ],
      "metadata": {
        "id": "9bDExrVLahLz"
      },
      "execution_count": null,
      "outputs": []
    },
    {
      "cell_type": "code",
      "source": [
        "callback = tf.keras.callbacks.EarlyStopping(monitor='val_loss', patience=5, restore_best_weights=True) # Early stop if val_loss sees no improvement\n",
        "\n",
        "history = model2.fit(train_images, train_labels, validation_split=0.2, epochs=30, batch_size=128, callbacks=[callback]) # 0.2 for validation"
      ],
      "metadata": {
        "colab": {
          "base_uri": "https://localhost:8080/"
        },
        "id": "AqZ8_oubaj72",
        "outputId": "15fcf0e7-8432-4a92-fa48-86d0e0ebf12a"
      },
      "execution_count": null,
      "outputs": [
        {
          "output_type": "stream",
          "name": "stdout",
          "text": [
            "Epoch 1/30\n",
            "61/61 [==============================] - 207s 3s/step - loss: 2.1560 - accuracy: 0.4687 - val_loss: 1.8787 - val_accuracy: 0.5507\n",
            "Epoch 2/30\n",
            "61/61 [==============================] - 192s 3s/step - loss: 1.0761 - accuracy: 0.7264 - val_loss: 1.5690 - val_accuracy: 0.5885\n",
            "Epoch 3/30\n",
            "61/61 [==============================] - 204s 3s/step - loss: 0.6038 - accuracy: 0.8403 - val_loss: 1.3527 - val_accuracy: 0.6465\n",
            "Epoch 4/30\n",
            "61/61 [==============================] - 208s 3s/step - loss: 0.2567 - accuracy: 0.9319 - val_loss: 1.3642 - val_accuracy: 0.6579\n",
            "Epoch 5/30\n",
            "61/61 [==============================] - 206s 3s/step - loss: 0.0866 - accuracy: 0.9766 - val_loss: 1.6495 - val_accuracy: 0.6615\n",
            "Epoch 6/30\n",
            "61/61 [==============================] - 226s 4s/step - loss: 0.0441 - accuracy: 0.9878 - val_loss: 1.5939 - val_accuracy: 0.7008\n",
            "Epoch 7/30\n",
            "61/61 [==============================] - 203s 3s/step - loss: 0.0184 - accuracy: 0.9940 - val_loss: 1.6493 - val_accuracy: 0.6915\n",
            "Epoch 8/30\n",
            "61/61 [==============================] - 206s 3s/step - loss: 0.0105 - accuracy: 0.9964 - val_loss: 1.7445 - val_accuracy: 0.6972\n"
          ]
        }
      ]
    },
    {
      "cell_type": "code",
      "source": [
        "plot_loss(history)"
      ],
      "metadata": {
        "colab": {
          "base_uri": "https://localhost:8080/",
          "height": 472
        },
        "id": "DFs8rT4oa2Dm",
        "outputId": "7824776f-6f1d-47e8-d220-d6965241bb85"
      },
      "execution_count": null,
      "outputs": [
        {
          "output_type": "display_data",
          "data": {
            "text/plain": [
              "<Figure size 640x480 with 1 Axes>"
            ],
            "image/png": "[encoded data removed]"
          },
          "metadata": {}
        }
      ]
    },
    {
      "cell_type": "code",
      "source": [
        "model1_loss, model1_acc = model2.evaluate(test_images, test_labels)\n",
        "\n",
        "print('model_acc:', model1_acc)"
      ],
      "metadata": {
        "colab": {
          "base_uri": "https://localhost:8080/"
        },
        "id": "hcfvLMiEa7Sg",
        "outputId": "00fa61e6-1e94-4f46-c292-ed3e4cadfe14"
      },
      "execution_count": null,
      "outputs": [
        {
          "output_type": "stream",
          "name": "stdout",
          "text": [
            "76/76 [==============================] - 16s 206ms/step - loss: 1.1411 - accuracy: 0.6973\n",
            "model_acc: 0.6973084807395935\n"
          ]
        }
      ]
    },
    {
      "cell_type": "markdown",
      "source": [
        "Gelu"
      ],
      "metadata": {
        "id": "znw-Y4SgjvAL"
      }
    },
    {
      "cell_type": "code",
      "source": [
        "# dense layers\n",
        "x = layers.Conv2D(filters=32, kernel_size=3, activation='gelu')(inputs) #gelu\n",
        "x = layers.MaxPooling2D(pool_size=2)(x)\n",
        "x = layers.Conv2D(filters=32, kernel_size=3, activation='gelu')(x)\n",
        "x = layers.MaxPooling2D(pool_size=2)(x)\n",
        "x = layers.Conv2D(filters=32, kernel_size=3, activation='gelu')(x)\n",
        "x = layers.Flatten()(x)\n",
        "outputs = layers.Dense(75, activation='softmax')(x)\n",
        "\n",
        "# create a model\n",
        "model3 = keras.Model(inputs=inputs, outputs=outputs, name=\"model3\")\n",
        "\n",
        "# show the model1\n",
        "# keras.utils.plot_model(model2, \"model1.png\", show_shapes=True)\n",
        "model3.summary()"
      ],
      "metadata": {
        "colab": {
          "base_uri": "https://localhost:8080/"
        },
        "id": "mXUxT0lYa3Ns",
        "outputId": "05def132-d9a4-45e8-c3d4-8f4cc3799f15"
      },
      "execution_count": null,
      "outputs": [
        {
          "output_type": "stream",
          "name": "stdout",
          "text": [
            "Model: \"model3\"\n",
            "_________________________________________________________________\n",
            " Layer (type)                Output Shape              Param #   \n",
            "=================================================================\n",
            " input_2 (InputLayer)        [(None, 127, 128, 1)]     0         \n",
            "                                                                 \n",
            " conv2d_6 (Conv2D)           (None, 125, 126, 32)      320       \n",
            "                                                                 \n",
            " max_pooling2d_3 (MaxPooling  (None, 62, 63, 32)       0         \n",
            " 2D)                                                             \n",
            "                                                                 \n",
            " conv2d_7 (Conv2D)           (None, 60, 61, 32)        9248      \n",
            "                                                                 \n",
            " max_pooling2d_4 (MaxPooling  (None, 30, 30, 32)       0         \n",
            " 2D)                                                             \n",
            "                                                                 \n",
            " conv2d_8 (Conv2D)           (None, 28, 28, 32)        9248      \n",
            "                                                                 \n",
            " flatten_2 (Flatten)         (None, 25088)             0         \n",
            "                                                                 \n",
            " dense_2 (Dense)             (None, 75)                1881675   \n",
            "                                                                 \n",
            "=================================================================\n",
            "Total params: 1,900,491\n",
            "Trainable params: 1,900,491\n",
            "Non-trainable params: 0\n",
            "_________________________________________________________________\n"
          ]
        }
      ]
    },
    {
      "cell_type": "code",
      "source": [
        "model3.compile(\n",
        "    loss='categorical_crossentropy',\n",
        "    optimizer='rmsprop',\n",
        "    metrics=['accuracy']\n",
        ")"
      ],
      "metadata": {
        "id": "9l-UmyABV7ci"
      },
      "execution_count": null,
      "outputs": []
    },
    {
      "cell_type": "code",
      "source": [
        "callback = tf.keras.callbacks.EarlyStopping(monitor='val_loss', patience=5, restore_best_weights=True) # Early stop if val_loss sees no improvement\n",
        "\n",
        "history3 = model3.fit(train_images, train_labels, validation_split=0.2, epochs=15, batch_size=128, callbacks=[callback])"
      ],
      "metadata": {
        "colab": {
          "base_uri": "https://localhost:8080/"
        },
        "id": "eH72-UEfV8EG",
        "outputId": "bd4356be-b7e9-43a1-d21e-52926833ae6d"
      },
      "execution_count": null,
      "outputs": [
        {
          "output_type": "stream",
          "name": "stdout",
          "text": [
            "Epoch 1/15\n",
            "61/61 [==============================] - 330s 5s/step - loss: 2.3703 - accuracy: 0.4227 - val_loss: 1.8266 - val_accuracy: 0.5274\n",
            "Epoch 2/15\n",
            "61/61 [==============================] - 329s 5s/step - loss: 1.1253 - accuracy: 0.6953 - val_loss: 1.4232 - val_accuracy: 0.6294\n",
            "Epoch 3/15\n",
            "61/61 [==============================] - 304s 5s/step - loss: 0.7526 - accuracy: 0.7974 - val_loss: 1.2049 - val_accuracy: 0.6749\n",
            "Epoch 4/15\n",
            "61/61 [==============================] - 295s 5s/step - loss: 0.4778 - accuracy: 0.8659 - val_loss: 1.0934 - val_accuracy: 0.6941\n",
            "Epoch 5/15\n",
            "61/61 [==============================] - 316s 5s/step - loss: 0.2826 - accuracy: 0.9213 - val_loss: 1.1117 - val_accuracy: 0.7189\n",
            "Epoch 6/15\n",
            "61/61 [==============================] - 300s 5s/step - loss: 0.1574 - accuracy: 0.9546 - val_loss: 1.1258 - val_accuracy: 0.7220\n",
            "Epoch 7/15\n",
            "61/61 [==============================] - 298s 5s/step - loss: 0.0846 - accuracy: 0.9745 - val_loss: 1.2533 - val_accuracy: 0.7360\n",
            "Epoch 8/15\n",
            "61/61 [==============================] - 316s 5s/step - loss: 0.0511 - accuracy: 0.9847 - val_loss: 1.4099 - val_accuracy: 0.7371\n",
            "Epoch 9/15\n",
            "61/61 [==============================] - 300s 5s/step - loss: 0.0328 - accuracy: 0.9895 - val_loss: 1.3716 - val_accuracy: 0.7319\n"
          ]
        }
      ]
    },
    {
      "cell_type": "code",
      "source": [
        "plot_loss(history3)"
      ],
      "metadata": {
        "colab": {
          "base_uri": "https://localhost:8080/",
          "height": 472
        },
        "id": "QMDBu2LRW1po",
        "outputId": "62dd0ee2-d4b3-4a2b-bd3b-6d44fea810af"
      },
      "execution_count": null,
      "outputs": [
        {
          "output_type": "display_data",
          "data": {
            "text/plain": [
              "<Figure size 640x480 with 1 Axes>"
            ],
            "image/png": "[encoded data removed]"
          },
          "metadata": {}
        }
      ]
    },
    {
      "cell_type": "code",
      "source": [
        "model1_loss, model1_acc = model3.evaluate(test_images, test_labels)\n",
        "\n",
        "print('model3_acc:', model1_acc)"
      ],
      "metadata": {
        "colab": {
          "base_uri": "https://localhost:8080/"
        },
        "id": "UAG7ubPGXUuh",
        "outputId": "d0aa21d9-564a-45f4-e28e-908c0b3f85d4"
      },
      "execution_count": null,
      "outputs": [
        {
          "output_type": "stream",
          "name": "stdout",
          "text": [
            "76/76 [==============================] - 27s 352ms/step - loss: 0.9542 - accuracy: 0.7474\n",
            "model3_acc: 0.7474120259284973\n"
          ]
        }
      ]
    },
    {
      "cell_type": "markdown",
      "source": [
        "dropout"
      ],
      "metadata": {
        "id": "MxWtjkwZtElr"
      }
    },
    {
      "cell_type": "code",
      "source": [
        "import keras\n",
        "from keras import layers\n",
        "\n",
        "inputs = keras.Input(shape=(127,128,1))\n",
        "\n",
        "# dense layers\n",
        "x = layers.Conv2D(filters=32, kernel_size=3, activation='relu')(inputs)\n",
        "x = layers.MaxPooling2D(pool_size=2)(x)\n",
        "x = layers.Conv2D(filters=32, kernel_size=3, activation='relu')(x)\n",
        "x = layers.MaxPooling2D(pool_size=2)(x)\n",
        "x = layers.Conv2D(filters=32, kernel_size=3, activation='relu')(x)\n",
        "x = layers.Flatten()(x)\n",
        "x = layers.Dropout(0.5)(x)\n",
        "outputs = layers.Dense(75, activation='softmax')(x)\n",
        "\n",
        "# create a model\n",
        "model4 = keras.Model(inputs=inputs, outputs=outputs, name=\"model4\")\n",
        "\n",
        "# show the model1\n",
        "# keras.utils.plot_model(model4, \"model4.png\", show_shapes=True)\n",
        "model4.summary()"
      ],
      "metadata": {
        "colab": {
          "base_uri": "https://localhost:8080/"
        },
        "id": "zC5N-SLCX5VC",
        "outputId": "cadf1dec-1015-411d-ace3-fd8fa9c6a4a0"
      },
      "execution_count": null,
      "outputs": [
        {
          "output_type": "stream",
          "name": "stdout",
          "text": [
            "Model: \"model4\"\n",
            "_________________________________________________________________\n",
            " Layer (type)                Output Shape              Param #   \n",
            "=================================================================\n",
            " input_5 (InputLayer)        [(None, 127, 128, 1)]     0         \n",
            "                                                                 \n",
            " conv2d_13 (Conv2D)          (None, 125, 126, 32)      320       \n",
            "                                                                 \n",
            " max_pooling2d_7 (MaxPooling  (None, 62, 63, 32)       0         \n",
            " 2D)                                                             \n",
            "                                                                 \n",
            " conv2d_14 (Conv2D)          (None, 60, 61, 32)        9248      \n",
            "                                                                 \n",
            " max_pooling2d_8 (MaxPooling  (None, 30, 30, 32)       0         \n",
            " 2D)                                                             \n",
            "                                                                 \n",
            " conv2d_15 (Conv2D)          (None, 28, 28, 32)        9248      \n",
            "                                                                 \n",
            " flatten_4 (Flatten)         (None, 25088)             0         \n",
            "                                                                 \n",
            " dropout (Dropout)           (None, 25088)             0         \n",
            "                                                                 \n",
            " dense_3 (Dense)             (None, 75)                1881675   \n",
            "                                                                 \n",
            "=================================================================\n",
            "Total params: 1,900,491\n",
            "Trainable params: 1,900,491\n",
            "Non-trainable params: 0\n",
            "_________________________________________________________________\n"
          ]
        }
      ]
    },
    {
      "cell_type": "code",
      "source": [
        "model4.compile(\n",
        "    loss='categorical_crossentropy',\n",
        "    optimizer='rmsprop',\n",
        "    metrics=['accuracy']\n",
        ")"
      ],
      "metadata": {
        "id": "L7F55QBYeNKB"
      },
      "execution_count": null,
      "outputs": []
    },
    {
      "cell_type": "code",
      "source": [
        "callback = tf.keras.callbacks.EarlyStopping(monitor='val_loss', patience=10, restore_best_weights=True) # Early stop if val_loss sees no improvement\n",
        "\n",
        "history4 = model4.fit(train_images, train_labels, validation_split=0.2, epochs=15, batch_size=128, callbacks=[callback])"
      ],
      "metadata": {
        "colab": {
          "base_uri": "https://localhost:8080/"
        },
        "id": "1OvgVVC2eSXd",
        "outputId": "b310a132-5e29-4797-992b-f7fb0d6ac45c"
      },
      "execution_count": null,
      "outputs": [
        {
          "output_type": "stream",
          "name": "stdout",
          "text": [
            "Epoch 1/15\n",
            "61/61 [==============================] - 215s 3s/step - loss: 2.1143 - accuracy: 0.4682 - val_loss: 1.7001 - val_accuracy: 0.5455\n",
            "Epoch 2/15\n",
            "61/61 [==============================] - 208s 3s/step - loss: 1.0758 - accuracy: 0.7114 - val_loss: 1.3275 - val_accuracy: 0.6434\n",
            "Epoch 3/15\n",
            "61/61 [==============================] - 204s 3s/step - loss: 0.7041 - accuracy: 0.8050 - val_loss: 1.0828 - val_accuracy: 0.7076\n",
            "Epoch 4/15\n",
            "61/61 [==============================] - 216s 4s/step - loss: 0.4579 - accuracy: 0.8692 - val_loss: 0.9307 - val_accuracy: 0.7438\n",
            "Epoch 5/15\n",
            "61/61 [==============================] - 203s 3s/step - loss: 0.3065 - accuracy: 0.9076 - val_loss: 0.9473 - val_accuracy: 0.7567\n",
            "Epoch 6/15\n",
            "61/61 [==============================] - 204s 3s/step - loss: 0.2067 - accuracy: 0.9392 - val_loss: 0.8229 - val_accuracy: 0.7867\n",
            "Epoch 7/15\n",
            "61/61 [==============================] - 199s 3s/step - loss: 0.1470 - accuracy: 0.9537 - val_loss: 0.8145 - val_accuracy: 0.7857\n",
            "Epoch 8/15\n",
            "61/61 [==============================] - 224s 4s/step - loss: 0.1136 - accuracy: 0.9647 - val_loss: 0.8927 - val_accuracy: 0.7935\n",
            "Epoch 9/15\n",
            "61/61 [==============================] - 207s 3s/step - loss: 0.0816 - accuracy: 0.9740 - val_loss: 0.8608 - val_accuracy: 0.8033\n",
            "Epoch 10/15\n",
            "61/61 [==============================] - 199s 3s/step - loss: 0.0649 - accuracy: 0.9796 - val_loss: 1.0077 - val_accuracy: 0.7754\n",
            "Epoch 11/15\n",
            "61/61 [==============================] - 206s 3s/step - loss: 0.0534 - accuracy: 0.9818 - val_loss: 0.9081 - val_accuracy: 0.8111\n",
            "Epoch 12/15\n",
            "61/61 [==============================] - 206s 3s/step - loss: 0.0522 - accuracy: 0.9837 - val_loss: 0.8553 - val_accuracy: 0.8230\n",
            "Epoch 13/15\n",
            "61/61 [==============================] - 205s 3s/step - loss: 0.0394 - accuracy: 0.9868 - val_loss: 0.9782 - val_accuracy: 0.8007\n",
            "Epoch 14/15\n",
            "61/61 [==============================] - 204s 3s/step - loss: 0.0345 - accuracy: 0.9886 - val_loss: 0.9964 - val_accuracy: 0.8111\n",
            "Epoch 15/15\n",
            "61/61 [==============================] - 204s 3s/step - loss: 0.0270 - accuracy: 0.9908 - val_loss: 1.0179 - val_accuracy: 0.8121\n"
          ]
        }
      ]
    },
    {
      "cell_type": "code",
      "source": [
        "plot_loss(history4)"
      ],
      "metadata": {
        "colab": {
          "base_uri": "https://localhost:8080/",
          "height": 472
        },
        "id": "QmQ6C1KDfE-e",
        "outputId": "e8153f53-82de-4cde-a5bc-697e9c8c584d"
      },
      "execution_count": null,
      "outputs": [
        {
          "output_type": "display_data",
          "data": {
            "text/plain": [
              "<Figure size 640x480 with 1 Axes>"
            ],
            "image/png": "[encoded data removed]"
          },
          "metadata": {}
        }
      ]
    },
    {
      "cell_type": "code",
      "source": [
        "model1_loss, model1_acc = model4.evaluate(test_images, test_labels)\n",
        "\n",
        "print('model4_acc:', model1_acc)"
      ],
      "metadata": {
        "colab": {
          "base_uri": "https://localhost:8080/"
        },
        "id": "7bCj_XXTgLWv",
        "outputId": "9ea15864-be31-46d3-cdcf-7237b97ba936"
      },
      "execution_count": null,
      "outputs": [
        {
          "output_type": "stream",
          "name": "stdout",
          "text": [
            "76/76 [==============================] - 16s 208ms/step - loss: 0.9351 - accuracy: 0.8356\n",
            "model4_acc: 0.8356107473373413\n"
          ]
        }
      ]
    },
    {
      "cell_type": "markdown",
      "source": [
        "Dropoutの場所"
      ],
      "metadata": {
        "id": "3igCfZwtzwIz"
      }
    },
    {
      "cell_type": "code",
      "source": [
        "# dense layers\n",
        "x = layers.Conv2D(filters=32, kernel_size=3, activation='relu')(inputs)\n",
        "x = layers.MaxPooling2D(pool_size=2)(x)\n",
        "x = layers.Conv2D(filters=32, kernel_size=3, activation='relu')(x)\n",
        "x = layers.MaxPooling2D(pool_size=2)(x)\n",
        "x = layers.Dropout(0.5)(x)\n",
        "x = layers.Conv2D(filters=32, kernel_size=3, activation='relu')(x)\n",
        "x = layers.Flatten()(x)\n",
        "outputs = layers.Dense(75, activation='softmax')(x)\n",
        "\n",
        "# create a model\n",
        "model5 = keras.Model(inputs=inputs, outputs=outputs, name=\"model5\")\n",
        "\n",
        "# show the model1\n",
        "# keras.utils.plot_model(model4, \"model4.png\", show_shapes=True)\n",
        "model5.summary()"
      ],
      "metadata": {
        "colab": {
          "base_uri": "https://localhost:8080/"
        },
        "id": "4Zrp3gP6w2gY",
        "outputId": "3be69dc3-d15c-4baa-bf10-4e377c673970"
      },
      "execution_count": null,
      "outputs": [
        {
          "output_type": "stream",
          "name": "stdout",
          "text": [
            "Model: \"model5\"\n",
            "_________________________________________________________________\n",
            " Layer (type)                Output Shape              Param #   \n",
            "=================================================================\n",
            " input_5 (InputLayer)        [(None, 127, 128, 1)]     0         \n",
            "                                                                 \n",
            " conv2d_16 (Conv2D)          (None, 125, 126, 32)      320       \n",
            "                                                                 \n",
            " max_pooling2d_9 (MaxPooling  (None, 62, 63, 32)       0         \n",
            " 2D)                                                             \n",
            "                                                                 \n",
            " conv2d_17 (Conv2D)          (None, 60, 61, 32)        9248      \n",
            "                                                                 \n",
            " max_pooling2d_10 (MaxPoolin  (None, 30, 30, 32)       0         \n",
            " g2D)                                                            \n",
            "                                                                 \n",
            " dropout_1 (Dropout)         (None, 30, 30, 32)        0         \n",
            "                                                                 \n",
            " conv2d_18 (Conv2D)          (None, 28, 28, 32)        9248      \n",
            "                                                                 \n",
            " flatten_5 (Flatten)         (None, 25088)             0         \n",
            "                                                                 \n",
            " dense_4 (Dense)             (None, 75)                1881675   \n",
            "                                                                 \n",
            "=================================================================\n",
            "Total params: 1,900,491\n",
            "Trainable params: 1,900,491\n",
            "Non-trainable params: 0\n",
            "_________________________________________________________________\n"
          ]
        }
      ]
    },
    {
      "cell_type": "code",
      "source": [
        "model5.compile(\n",
        "    loss='categorical_crossentropy',\n",
        "    optimizer='rmsprop',\n",
        "    metrics=['accuracy']\n",
        ")"
      ],
      "metadata": {
        "id": "5-kk8gtLhxUT"
      },
      "execution_count": null,
      "outputs": []
    },
    {
      "cell_type": "code",
      "source": [
        "callback = tf.keras.callbacks.EarlyStopping(monitor='val_loss', patience=10, restore_best_weights=True) # Early stop if val_loss sees no improvement\n",
        "\n",
        "history5 = model5.fit(train_images, train_labels, validation_split=0.2, epochs=15, batch_size=128, callbacks=[callback])"
      ],
      "metadata": {
        "colab": {
          "base_uri": "https://localhost:8080/"
        },
        "id": "HelspEw7ubEW",
        "outputId": "4c202d65-8f35-44ba-ebbb-fb8734cf9c92"
      },
      "execution_count": null,
      "outputs": [
        {
          "output_type": "stream",
          "name": "stdout",
          "text": [
            "Epoch 1/15\n",
            "61/61 [==============================] - 199s 3s/step - loss: 2.1344 - accuracy: 0.4718 - val_loss: 1.7762 - val_accuracy: 0.5409\n",
            "Epoch 2/15\n",
            "61/61 [==============================] - 200s 3s/step - loss: 1.1379 - accuracy: 0.6932 - val_loss: 1.4623 - val_accuracy: 0.6170\n",
            "Epoch 3/15\n",
            "61/61 [==============================] - 212s 3s/step - loss: 0.7140 - accuracy: 0.8006 - val_loss: 1.1329 - val_accuracy: 0.7101\n",
            "Epoch 4/15\n",
            "61/61 [==============================] - 210s 3s/step - loss: 0.4104 - accuracy: 0.8837 - val_loss: 0.9835 - val_accuracy: 0.7350\n",
            "Epoch 5/15\n",
            "61/61 [==============================] - 208s 3s/step - loss: 0.2292 - accuracy: 0.9315 - val_loss: 0.9179 - val_accuracy: 0.7640\n",
            "Epoch 6/15\n",
            "61/61 [==============================] - 207s 3s/step - loss: 0.1302 - accuracy: 0.9603 - val_loss: 0.9579 - val_accuracy: 0.7562\n",
            "Epoch 7/15\n",
            "61/61 [==============================] - 208s 3s/step - loss: 0.0760 - accuracy: 0.9764 - val_loss: 1.0259 - val_accuracy: 0.7780\n",
            "Epoch 8/15\n",
            "61/61 [==============================] - 197s 3s/step - loss: 0.0514 - accuracy: 0.9827 - val_loss: 1.1140 - val_accuracy: 0.7780\n",
            "Epoch 9/15\n",
            "61/61 [==============================] - 231s 4s/step - loss: 0.0420 - accuracy: 0.9871 - val_loss: 1.0423 - val_accuracy: 0.7826\n",
            "Epoch 10/15\n",
            "61/61 [==============================] - 211s 3s/step - loss: 0.0303 - accuracy: 0.9900 - val_loss: 1.1090 - val_accuracy: 0.7857\n",
            "Epoch 11/15\n",
            "61/61 [==============================] - 205s 3s/step - loss: 0.0255 - accuracy: 0.9915 - val_loss: 1.1649 - val_accuracy: 0.7764\n",
            "Epoch 12/15\n",
            "61/61 [==============================] - 205s 3s/step - loss: 0.0207 - accuracy: 0.9929 - val_loss: 1.1712 - val_accuracy: 0.7805\n",
            "Epoch 13/15\n",
            "61/61 [==============================] - 207s 3s/step - loss: 0.0128 - accuracy: 0.9952 - val_loss: 1.3245 - val_accuracy: 0.7743\n",
            "Epoch 14/15\n",
            "61/61 [==============================] - 207s 3s/step - loss: 0.0126 - accuracy: 0.9951 - val_loss: 1.2477 - val_accuracy: 0.7785\n",
            "Epoch 15/15\n",
            "61/61 [==============================] - 210s 3s/step - loss: 0.0131 - accuracy: 0.9956 - val_loss: 1.2336 - val_accuracy: 0.7805\n"
          ]
        }
      ]
    },
    {
      "cell_type": "code",
      "source": [
        "plot_loss(history5)"
      ],
      "metadata": {
        "colab": {
          "base_uri": "https://localhost:8080/",
          "height": 472
        },
        "id": "uSrDuU27rut2",
        "outputId": "28005537-2621-476e-ba4f-483e1b98129f"
      },
      "execution_count": null,
      "outputs": [
        {
          "output_type": "display_data",
          "data": {
            "text/plain": [
              "<Figure size 640x480 with 1 Axes>"
            ],
            "image/png": "[encoded data removed]"
          },
          "metadata": {}
        }
      ]
    },
    {
      "cell_type": "code",
      "source": [
        "model1_loss, model1_acc = model5.evaluate(test_images, test_labels)\n",
        "\n",
        "print('model5_acc:', model1_acc)"
      ],
      "metadata": {
        "colab": {
          "base_uri": "https://localhost:8080/"
        },
        "id": "S2_CFFnsrzlZ",
        "outputId": "b90f5d9a-e495-4600-b2f6-7677c56de94c"
      },
      "execution_count": null,
      "outputs": [
        {
          "output_type": "stream",
          "name": "stdout",
          "text": [
            "76/76 [==============================] - 16s 213ms/step - loss: 0.8040 - accuracy: 0.8012\n",
            "model5_acc: 0.8012422323226929\n"
          ]
        }
      ]
    },
    {
      "cell_type": "markdown",
      "source": [
        "正規化"
      ],
      "metadata": {
        "id": "aw9E5VAZzqNc"
      }
    },
    {
      "cell_type": "code",
      "source": [
        "kernel_regularizer=regularizers.l2(0.02)"
      ],
      "metadata": {
        "id": "Ws17KQAZzscR"
      },
      "execution_count": null,
      "outputs": []
    },
    {
      "cell_type": "code",
      "source": [
        "from tensorflow.keras import regularizers\n",
        "\n",
        "inputs = keras.Input(shape=(127,128,1))\n",
        "\n",
        "# dense layers\n",
        "x = layers.Conv2D(filters=32, kernel_size=3, activation='relu')(inputs)\n",
        "x = layers.MaxPooling2D(pool_size=2)(x)\n",
        "x = layers.Conv2D(filters=32, kernel_size=3, kernel_regularizer=regularizers.l2(0.02), activation='relu')(x)\n",
        "x = layers.MaxPooling2D(pool_size=2)(x)\n",
        "x = layers.Conv2D(filters=32, kernel_size=3, kernel_regularizer=regularizers.l2(0.02), activation='relu')(x)\n",
        "x = layers.Flatten()(x)\n",
        "outputs = layers.Dense(75, activation='softmax')(x)\n",
        "\n",
        "# create a model\n",
        "model6 = keras.Model(inputs=inputs, outputs=outputs, name=\"model6\")\n",
        "\n",
        "# show the model1\n",
        "keras.utils.plot_model(model6, \"model6.png\", show_shapes=True)\n",
        "model6.summary()"
      ],
      "metadata": {
        "colab": {
          "base_uri": "https://localhost:8080/"
        },
        "id": "cGjestwqvDGF",
        "outputId": "40551194-e154-42d1-e4d6-f25865c1d255"
      },
      "execution_count": null,
      "outputs": [
        {
          "output_type": "stream",
          "name": "stdout",
          "text": [
            "Model: \"model6\"\n",
            "_________________________________________________________________\n",
            " Layer (type)                Output Shape              Param #   \n",
            "=================================================================\n",
            " input_2 (InputLayer)        [(None, 127, 128, 1)]     0         \n",
            "                                                                 \n",
            " conv2d_1 (Conv2D)           (None, 125, 126, 32)      320       \n",
            "                                                                 \n",
            " max_pooling2d_1 (MaxPooling  (None, 62, 63, 32)       0         \n",
            " 2D)                                                             \n",
            "                                                                 \n",
            " conv2d_2 (Conv2D)           (None, 60, 61, 32)        9248      \n",
            "                                                                 \n",
            " max_pooling2d_2 (MaxPooling  (None, 30, 30, 32)       0         \n",
            " 2D)                                                             \n",
            "                                                                 \n",
            " conv2d_3 (Conv2D)           (None, 28, 28, 32)        9248      \n",
            "                                                                 \n",
            " flatten (Flatten)           (None, 25088)             0         \n",
            "                                                                 \n",
            " dense (Dense)               (None, 75)                1881675   \n",
            "                                                                 \n",
            "=================================================================\n",
            "Total params: 1,900,491\n",
            "Trainable params: 1,900,491\n",
            "Non-trainable params: 0\n",
            "_________________________________________________________________\n"
          ]
        }
      ]
    },
    {
      "cell_type": "code",
      "source": [
        "model6.compile(\n",
        "    loss='categorical_crossentropy',\n",
        "    optimizer='rmsprop',\n",
        "    metrics=['accuracy']\n",
        ")"
      ],
      "metadata": {
        "id": "4HF8vUCWvTOf"
      },
      "execution_count": null,
      "outputs": []
    },
    {
      "cell_type": "code",
      "source": [
        "callback = tf.keras.callbacks.EarlyStopping(monitor='val_loss', patience=10, restore_best_weights=True) # Early stop if val_loss sees no improvement\n",
        "\n",
        "history6 = model6.fit(train_images, train_labels, validation_split=0.2, epochs=15, batch_size=128, callbacks=[callback])"
      ],
      "metadata": {
        "colab": {
          "base_uri": "https://localhost:8080/"
        },
        "id": "O4a9G_-KvYZ8",
        "outputId": "f5ed24c5-6aab-44eb-99e4-98844bab2b4b"
      },
      "execution_count": null,
      "outputs": [
        {
          "output_type": "stream",
          "name": "stdout",
          "text": [
            "Epoch 1/15\n",
            "61/61 [==============================] - 213s 3s/step - loss: 2.7180 - accuracy: 0.4741 - val_loss: 2.0236 - val_accuracy: 0.5518\n",
            "Epoch 2/15\n",
            "61/61 [==============================] - 205s 3s/step - loss: 1.2501 - accuracy: 0.7157 - val_loss: 1.4865 - val_accuracy: 0.6506\n",
            "Epoch 3/15\n",
            "61/61 [==============================] - 203s 3s/step - loss: 0.7647 - accuracy: 0.8273 - val_loss: 1.2686 - val_accuracy: 0.6977\n",
            "Epoch 4/15\n",
            "61/61 [==============================] - 215s 4s/step - loss: 0.4817 - accuracy: 0.8974 - val_loss: 1.1788 - val_accuracy: 0.7117\n",
            "Epoch 5/15\n",
            "61/61 [==============================] - 197s 3s/step - loss: 0.3279 - accuracy: 0.9376 - val_loss: 1.1163 - val_accuracy: 0.7340\n",
            "Epoch 6/15\n",
            "61/61 [==============================] - 203s 3s/step - loss: 0.2317 - accuracy: 0.9604 - val_loss: 1.2354 - val_accuracy: 0.7241\n",
            "Epoch 7/15\n",
            "61/61 [==============================] - 214s 4s/step - loss: 0.1830 - accuracy: 0.9688 - val_loss: 1.1736 - val_accuracy: 0.7365\n",
            "Epoch 8/15\n",
            "61/61 [==============================] - 204s 3s/step - loss: 0.1475 - accuracy: 0.9776 - val_loss: 1.2389 - val_accuracy: 0.7448\n",
            "Epoch 9/15\n",
            "61/61 [==============================] - 205s 3s/step - loss: 0.1134 - accuracy: 0.9849 - val_loss: 1.2932 - val_accuracy: 0.7293\n",
            "Epoch 10/15\n",
            "61/61 [==============================] - 219s 4s/step - loss: 0.1022 - accuracy: 0.9865 - val_loss: 1.2235 - val_accuracy: 0.7386\n",
            "Epoch 11/15\n",
            "61/61 [==============================] - 203s 3s/step - loss: 0.0827 - accuracy: 0.9889 - val_loss: 1.2481 - val_accuracy: 0.7505\n",
            "Epoch 12/15\n",
            "61/61 [==============================] - 204s 3s/step - loss: 0.0730 - accuracy: 0.9917 - val_loss: 1.4782 - val_accuracy: 0.7226\n",
            "Epoch 13/15\n",
            "61/61 [==============================] - 216s 4s/step - loss: 0.0641 - accuracy: 0.9931 - val_loss: 1.3626 - val_accuracy: 0.7402\n",
            "Epoch 14/15\n",
            "61/61 [==============================] - 204s 3s/step - loss: 0.0613 - accuracy: 0.9928 - val_loss: 1.3100 - val_accuracy: 0.7572\n",
            "Epoch 15/15\n",
            "61/61 [==============================] - 203s 3s/step - loss: 0.0544 - accuracy: 0.9946 - val_loss: 1.2980 - val_accuracy: 0.7495\n"
          ]
        }
      ]
    },
    {
      "cell_type": "code",
      "source": [
        "plot_loss(history6)"
      ],
      "metadata": {
        "colab": {
          "base_uri": "https://localhost:8080/",
          "height": 472
        },
        "id": "eC_WBQABvenE",
        "outputId": "931d7ddd-40cb-4433-86ae-65beb5cf28b9"
      },
      "execution_count": null,
      "outputs": [
        {
          "output_type": "display_data",
          "data": {
            "text/plain": [
              "<Figure size 640x480 with 1 Axes>"
            ],
            "image/png": "[encoded data removed]"
          },
          "metadata": {}
        }
      ]
    },
    {
      "cell_type": "code",
      "source": [
        "model1_loss, model1_acc = model6.evaluate(test_images, test_labels)\n",
        "\n",
        "print('model6_acc:', model1_acc)"
      ],
      "metadata": {
        "colab": {
          "base_uri": "https://localhost:8080/"
        },
        "id": "uaorALrnvjvK",
        "outputId": "fd775fa1-c310-4362-b244-4468a7b03476"
      },
      "execution_count": null,
      "outputs": [
        {
          "output_type": "stream",
          "name": "stdout",
          "text": [
            "76/76 [==============================] - 25s 330ms/step - loss: 0.9738 - accuracy: 0.7760\n",
            "model6_acc: 0.775983452796936\n"
          ]
        }
      ]
    },
    {
      "cell_type": "markdown",
      "source": [
        "normalizationのいち"
      ],
      "metadata": {
        "id": "YELCyxHeLkeT"
      }
    },
    {
      "cell_type": "code",
      "source": [
        "# dense layers\n",
        "x = layers.Conv2D(filters=32, kernel_size=3, activation='relu')(inputs)\n",
        "x = layers.MaxPooling2D(pool_size=2)(x)\n",
        "x = layers.Conv2D(filters=32, kernel_size=3, kernel_regularizer=regularizers.l2(0.02), activation='relu')(x)\n",
        "x = layers.MaxPooling2D(pool_size=2)(x)\n",
        "x = layers.Conv2D(filters=32, kernel_size=3, activation='relu')(x)\n",
        "x = layers.Flatten()(x)\n",
        "outputs = layers.Dense(75, activation='softmax')(x)\n",
        "\n",
        "# create a model\n",
        "model7 = keras.Model(inputs=inputs, outputs=outputs, name=\"model7\")\n",
        "\n",
        "# show the model1\n",
        "# keras.utils.plot_model(model7, \"model7.png\", show_shapes=True)\n",
        "model7.summary()"
      ],
      "metadata": {
        "colab": {
          "base_uri": "https://localhost:8080/"
        },
        "id": "vfUCKa8MlV79",
        "outputId": "7b08420b-babf-49b3-cfa0-5410309e4233"
      },
      "execution_count": null,
      "outputs": [
        {
          "output_type": "stream",
          "name": "stdout",
          "text": [
            "Model: \"model7\"\n",
            "_________________________________________________________________\n",
            " Layer (type)                Output Shape              Param #   \n",
            "=================================================================\n",
            " input_2 (InputLayer)        [(None, 127, 128, 1)]     0         \n",
            "                                                                 \n",
            " conv2d_7 (Conv2D)           (None, 125, 126, 32)      320       \n",
            "                                                                 \n",
            " max_pooling2d_5 (MaxPooling  (None, 62, 63, 32)       0         \n",
            " 2D)                                                             \n",
            "                                                                 \n",
            " conv2d_8 (Conv2D)           (None, 60, 61, 32)        9248      \n",
            "                                                                 \n",
            " max_pooling2d_6 (MaxPooling  (None, 30, 30, 32)       0         \n",
            " 2D)                                                             \n",
            "                                                                 \n",
            " conv2d_9 (Conv2D)           (None, 28, 28, 32)        9248      \n",
            "                                                                 \n",
            " flatten_2 (Flatten)         (None, 25088)             0         \n",
            "                                                                 \n",
            " dense_2 (Dense)             (None, 75)                1881675   \n",
            "                                                                 \n",
            "=================================================================\n",
            "Total params: 1,900,491\n",
            "Trainable params: 1,900,491\n",
            "Non-trainable params: 0\n",
            "_________________________________________________________________\n"
          ]
        }
      ]
    },
    {
      "cell_type": "code",
      "source": [
        "model7.compile(\n",
        "    loss='categorical_crossentropy',\n",
        "    optimizer='rmsprop',\n",
        "    metrics=['accuracy']\n",
        ")"
      ],
      "metadata": {
        "id": "L8ISAHuClrQG"
      },
      "execution_count": null,
      "outputs": []
    },
    {
      "cell_type": "code",
      "source": [
        "callback = tf.keras.callbacks.EarlyStopping(monitor='val_loss', patience=10, restore_best_weights=True) # Early stop if val_loss sees no improvement\n",
        "\n",
        "history7 = model7.fit(train_images, train_labels, validation_split=0.2, epochs=15, batch_size=128, callbacks=[callback])"
      ],
      "metadata": {
        "colab": {
          "base_uri": "https://localhost:8080/"
        },
        "id": "6zuq-97ewNM8",
        "outputId": "9837f502-d9bc-4992-92db-b85a9005a1e9"
      },
      "execution_count": null,
      "outputs": [
        {
          "output_type": "stream",
          "name": "stdout",
          "text": [
            "Epoch 1/15\n",
            "61/61 [==============================] - 210s 3s/step - loss: 2.4119 - accuracy: 0.4783 - val_loss: 1.8959 - val_accuracy: 0.5704\n",
            "Epoch 2/15\n",
            "61/61 [==============================] - 204s 3s/step - loss: 1.1201 - accuracy: 0.7242 - val_loss: 1.4012 - val_accuracy: 0.6506\n",
            "Epoch 3/15\n",
            "61/61 [==============================] - 203s 3s/step - loss: 0.6572 - accuracy: 0.8327 - val_loss: 1.1131 - val_accuracy: 0.7226\n",
            "Epoch 4/15\n",
            "61/61 [==============================] - 197s 3s/step - loss: 0.3737 - accuracy: 0.9063 - val_loss: 1.1543 - val_accuracy: 0.7277\n",
            "Epoch 5/15\n",
            "61/61 [==============================] - 204s 3s/step - loss: 0.2182 - accuracy: 0.9442 - val_loss: 1.1328 - val_accuracy: 0.7583\n",
            "Epoch 6/15\n",
            "61/61 [==============================] - 206s 3s/step - loss: 0.1267 - accuracy: 0.9717 - val_loss: 1.2319 - val_accuracy: 0.7386\n",
            "Epoch 7/15\n",
            "61/61 [==============================] - 204s 3s/step - loss: 0.0874 - accuracy: 0.9789 - val_loss: 1.3483 - val_accuracy: 0.7257\n",
            "Epoch 8/15\n",
            "61/61 [==============================] - 205s 3s/step - loss: 0.0647 - accuracy: 0.9851 - val_loss: 1.3424 - val_accuracy: 0.7236\n",
            "Epoch 9/15\n",
            "61/61 [==============================] - 201s 3s/step - loss: 0.0482 - accuracy: 0.9890 - val_loss: 1.4308 - val_accuracy: 0.7164\n",
            "Epoch 10/15\n",
            "61/61 [==============================] - 194s 3s/step - loss: 0.0386 - accuracy: 0.9906 - val_loss: 1.4903 - val_accuracy: 0.7360\n",
            "Epoch 11/15\n",
            "61/61 [==============================] - 202s 3s/step - loss: 0.0317 - accuracy: 0.9934 - val_loss: 1.2964 - val_accuracy: 0.7521\n",
            "Epoch 12/15\n",
            "61/61 [==============================] - 203s 3s/step - loss: 0.0266 - accuracy: 0.9934 - val_loss: 1.4020 - val_accuracy: 0.7293\n",
            "Epoch 13/15\n",
            "61/61 [==============================] - 202s 3s/step - loss: 0.0229 - accuracy: 0.9942 - val_loss: 1.4954 - val_accuracy: 0.7552\n"
          ]
        }
      ]
    },
    {
      "cell_type": "code",
      "source": [
        "plot_loss(history7)"
      ],
      "metadata": {
        "colab": {
          "base_uri": "https://localhost:8080/",
          "height": 472
        },
        "id": "9wqUDrQesDqt",
        "outputId": "b07c3ce9-da29-402b-e375-6d67d8ac19fd"
      },
      "execution_count": null,
      "outputs": [
        {
          "output_type": "display_data",
          "data": {
            "text/plain": [
              "<Figure size 640x480 with 1 Axes>"
            ],
            "image/png": "[encoded data removed]"
          },
          "metadata": {}
        }
      ]
    },
    {
      "cell_type": "code",
      "source": [
        "model1_loss, model1_acc = model7.evaluate(test_images, test_labels)\n",
        "\n",
        "print('model7_acc:', model1_acc)"
      ],
      "metadata": {
        "colab": {
          "base_uri": "https://localhost:8080/"
        },
        "id": "DZRB4qTVr2xH",
        "outputId": "29eb3a05-38f9-4061-ad36-8e5cc352ded3"
      },
      "execution_count": null,
      "outputs": [
        {
          "output_type": "stream",
          "name": "stdout",
          "text": [
            "76/76 [==============================] - 15s 198ms/step - loss: 0.9452 - accuracy: 0.7644\n",
            "model7_acc: 0.7643892168998718\n"
          ]
        }
      ]
    },
    {
      "cell_type": "markdown",
      "source": [
        "adamsで"
      ],
      "metadata": {
        "id": "8xGmmLtcL_yz"
      }
    },
    {
      "cell_type": "code",
      "source": [],
      "metadata": {
        "id": "oirbHV_0MBeL"
      },
      "execution_count": null,
      "outputs": []
    },
    {
      "cell_type": "code",
      "source": [
        "# dense layers\n",
        "x = layers.Conv2D(filters=32, kernel_size=3, activation='relu')(inputs)\n",
        "x = layers.MaxPooling2D(pool_size=2)(x)\n",
        "x = layers.Conv2D(filters=32, kernel_size=3, activation='relu')(x)\n",
        "x = layers.MaxPooling2D(pool_size=2)(x)\n",
        "x = layers.Conv2D(filters=32, kernel_size=3, activation='relu')(x)\n",
        "x = layers.Flatten()(x)\n",
        "x = layers.Dropout(0.5)(x)\n",
        "outputs = layers.Dense(75, activation='softmax')(x)\n",
        "\n",
        "# create a model\n",
        "model8 = keras.Model(inputs=inputs, outputs=outputs, name=\"model8\")\n",
        "\n",
        "# show the model1\n",
        "# keras.utils.plot_model(model8, \"model8.png\", show_shapes=True)\n",
        "model8.summary()"
      ],
      "metadata": {
        "colab": {
          "base_uri": "https://localhost:8080/"
        },
        "id": "ykTRFlelqKZ1",
        "outputId": "0edec0ae-d711-488c-80e4-34279c6e5e00"
      },
      "execution_count": null,
      "outputs": [
        {
          "output_type": "stream",
          "name": "stdout",
          "text": [
            "Model: \"model8\"\n",
            "_________________________________________________________________\n",
            " Layer (type)                Output Shape              Param #   \n",
            "=================================================================\n",
            " input_2 (InputLayer)        [(None, 127, 128, 1)]     0         \n",
            "                                                                 \n",
            " conv2d_10 (Conv2D)          (None, 125, 126, 32)      320       \n",
            "                                                                 \n",
            " max_pooling2d_7 (MaxPooling  (None, 62, 63, 32)       0         \n",
            " 2D)                                                             \n",
            "                                                                 \n",
            " conv2d_11 (Conv2D)          (None, 60, 61, 32)        9248      \n",
            "                                                                 \n",
            " max_pooling2d_8 (MaxPooling  (None, 30, 30, 32)       0         \n",
            " 2D)                                                             \n",
            "                                                                 \n",
            " conv2d_12 (Conv2D)          (None, 28, 28, 32)        9248      \n",
            "                                                                 \n",
            " flatten_3 (Flatten)         (None, 25088)             0         \n",
            "                                                                 \n",
            " dropout (Dropout)           (None, 25088)             0         \n",
            "                                                                 \n",
            " dense_3 (Dense)             (None, 75)                1881675   \n",
            "                                                                 \n",
            "=================================================================\n",
            "Total params: 1,900,491\n",
            "Trainable params: 1,900,491\n",
            "Non-trainable params: 0\n",
            "_________________________________________________________________\n"
          ]
        }
      ]
    },
    {
      "cell_type": "code",
      "source": [
        "model8.compile(\n",
        "    loss='categorical_crossentropy',\n",
        "    optimizer='adam', # adam で\n",
        "    metrics=['accuracy']\n",
        ")"
      ],
      "metadata": {
        "id": "UStp4QITqMRE"
      },
      "execution_count": null,
      "outputs": []
    },
    {
      "cell_type": "code",
      "source": [
        "callback = tf.keras.callbacks.EarlyStopping(monitor='val_loss', patience=10, restore_best_weights=True) # Early stop if val_loss sees no improvement\n",
        "\n",
        "history8 = model8.fit(train_images, train_labels, validation_split=0.2, epochs=15, batch_size=128, callbacks=[callback])"
      ],
      "metadata": {
        "colab": {
          "base_uri": "https://localhost:8080/"
        },
        "id": "ZRNasRzUwzoo",
        "outputId": "14c68cc3-43c3-4d38-81df-16a7e6a6ecfc"
      },
      "execution_count": null,
      "outputs": [
        {
          "output_type": "stream",
          "name": "stdout",
          "text": [
            "Epoch 1/15\n",
            "61/61 [==============================] - 203s 3s/step - loss: 2.1333 - accuracy: 0.4758 - val_loss: 1.5448 - val_accuracy: 0.6004\n",
            "Epoch 2/15\n",
            "61/61 [==============================] - 206s 3s/step - loss: 0.9957 - accuracy: 0.7270 - val_loss: 1.3347 - val_accuracy: 0.6532\n",
            "Epoch 3/15\n",
            "61/61 [==============================] - 199s 3s/step - loss: 0.6745 - accuracy: 0.8090 - val_loss: 1.0905 - val_accuracy: 0.6977\n",
            "Epoch 4/15\n",
            "61/61 [==============================] - 199s 3s/step - loss: 0.4020 - accuracy: 0.8825 - val_loss: 0.9893 - val_accuracy: 0.7340\n",
            "Epoch 5/15\n",
            "61/61 [==============================] - 206s 3s/step - loss: 0.2436 - accuracy: 0.9242 - val_loss: 0.9636 - val_accuracy: 0.7604\n",
            "Epoch 6/15\n",
            "61/61 [==============================] - 206s 3s/step - loss: 0.1602 - accuracy: 0.9471 - val_loss: 0.8543 - val_accuracy: 0.7857\n",
            "Epoch 7/15\n",
            "61/61 [==============================] - 205s 3s/step - loss: 0.1108 - accuracy: 0.9635 - val_loss: 0.9294 - val_accuracy: 0.7919\n",
            "Epoch 8/15\n",
            "61/61 [==============================] - 196s 3s/step - loss: 0.0906 - accuracy: 0.9708 - val_loss: 0.9549 - val_accuracy: 0.7873\n",
            "Epoch 9/15\n",
            "61/61 [==============================] - 206s 3s/step - loss: 0.0863 - accuracy: 0.9715 - val_loss: 0.9573 - val_accuracy: 0.7940\n",
            "Epoch 10/15\n",
            "61/61 [==============================] - 208s 3s/step - loss: 0.0509 - accuracy: 0.9841 - val_loss: 0.9744 - val_accuracy: 0.7971\n",
            "Epoch 11/15\n",
            "61/61 [==============================] - 206s 3s/step - loss: 0.0453 - accuracy: 0.9858 - val_loss: 1.0515 - val_accuracy: 0.8002\n",
            "Epoch 12/15\n",
            "61/61 [==============================] - 205s 3s/step - loss: 0.0491 - accuracy: 0.9840 - val_loss: 1.0051 - val_accuracy: 0.8069\n",
            "Epoch 13/15\n",
            "61/61 [==============================] - 206s 3s/step - loss: 0.0464 - accuracy: 0.9842 - val_loss: 1.0320 - val_accuracy: 0.8069\n",
            "Epoch 14/15\n",
            "61/61 [==============================] - 206s 3s/step - loss: 0.0424 - accuracy: 0.9869 - val_loss: 0.9946 - val_accuracy: 0.8049\n",
            "Epoch 15/15\n",
            "61/61 [==============================] - 206s 3s/step - loss: 0.0378 - accuracy: 0.9880 - val_loss: 0.9688 - val_accuracy: 0.8152\n"
          ]
        }
      ]
    },
    {
      "cell_type": "code",
      "source": [
        "plot_loss(history8)"
      ],
      "metadata": {
        "colab": {
          "base_uri": "https://localhost:8080/",
          "height": 472
        },
        "id": "UPKvH_MzsGUd",
        "outputId": "7fb9a344-a4e3-454a-dff9-0c2561780ed8"
      },
      "execution_count": null,
      "outputs": [
        {
          "output_type": "display_data",
          "data": {
            "text/plain": [
              "<Figure size 640x480 with 1 Axes>"
            ],
            "image/png": "[encoded data removed]"
          },
          "metadata": {}
        }
      ]
    },
    {
      "cell_type": "code",
      "source": [
        "model1_loss, model1_acc = model8.evaluate(test_images, test_labels)\n",
        "\n",
        "print('model8_acc:', model1_acc)"
      ],
      "metadata": {
        "colab": {
          "base_uri": "https://localhost:8080/"
        },
        "id": "X2pmwtMcr583",
        "outputId": "096e5912-5733-46f8-a1bc-22b4b4af736a"
      },
      "execution_count": null,
      "outputs": [
        {
          "output_type": "stream",
          "name": "stdout",
          "text": [
            "76/76 [==============================] - 15s 196ms/step - loss: 0.9071 - accuracy: 0.8522\n",
            "model8_acc: 0.852173924446106\n"
          ]
        }
      ]
    },
    {
      "cell_type": "markdown",
      "source": [
        "フィルタ数変更"
      ],
      "metadata": {
        "id": "0QUqeL9VqkZo"
      }
    },
    {
      "cell_type": "code",
      "source": [
        "from tensorflow.keras import regularizers\n",
        "\n",
        "inputs = keras.Input(shape=(127,128,1))\n",
        "\n",
        "# dense layers\n",
        "x = layers.Conv2D(filters=16, kernel_size=3, activation='relu')(inputs)\n",
        "x = layers.MaxPooling2D(pool_size=2)(x)\n",
        "x = layers.Conv2D(filters=32, kernel_size=3, activation='relu')(x)\n",
        "x = layers.MaxPooling2D(pool_size=2)(x)\n",
        "x = layers.Conv2D(filters=64, kernel_size=3, activation='relu')(x)\n",
        "x = layers.Flatten()(x)\n",
        "x = layers.Dropout(0.5)(x)\n",
        "outputs = layers.Dense(75, activation='softmax')(x)\n",
        "\n",
        "# create a model\n",
        "model9 = keras.Model(inputs=inputs, outputs=outputs, name=\"model9\")\n",
        "\n",
        "# show the model1\n",
        "# keras.utils.plot_model(model8, \"model8.png\", show_shapes=True)\n",
        "model9.summary()\n",
        "\n",
        "model9.compile(\n",
        "    loss='categorical_crossentropy',\n",
        "    optimizer='rmsprop',\n",
        "    metrics=['accuracy']\n",
        ")"
      ],
      "metadata": {
        "colab": {
          "base_uri": "https://localhost:8080/"
        },
        "id": "ANFj-HJoqnaR",
        "outputId": "3791cd8e-0104-40b7-fee2-5464fcf00091"
      },
      "execution_count": null,
      "outputs": [
        {
          "output_type": "stream",
          "name": "stdout",
          "text": [
            "Model: \"model9\"\n",
            "_________________________________________________________________\n",
            " Layer (type)                Output Shape              Param #   \n",
            "=================================================================\n",
            " input_1 (InputLayer)        [(None, 127, 128, 1)]     0         \n",
            "                                                                 \n",
            " conv2d (Conv2D)             (None, 125, 126, 16)      160       \n",
            "                                                                 \n",
            " max_pooling2d (MaxPooling2D  (None, 62, 63, 16)       0         \n",
            " )                                                               \n",
            "                                                                 \n",
            " conv2d_1 (Conv2D)           (None, 60, 61, 32)        4640      \n",
            "                                                                 \n",
            " max_pooling2d_1 (MaxPooling  (None, 30, 30, 32)       0         \n",
            " 2D)                                                             \n",
            "                                                                 \n",
            " conv2d_2 (Conv2D)           (None, 28, 28, 64)        18496     \n",
            "                                                                 \n",
            " flatten (Flatten)           (None, 50176)             0         \n",
            "                                                                 \n",
            " dropout (Dropout)           (None, 50176)             0         \n",
            "                                                                 \n",
            " dense (Dense)               (None, 75)                3763275   \n",
            "                                                                 \n",
            "=================================================================\n",
            "Total params: 3,786,571\n",
            "Trainable params: 3,786,571\n",
            "Non-trainable params: 0\n",
            "_________________________________________________________________\n"
          ]
        }
      ]
    },
    {
      "cell_type": "code",
      "source": [
        "callback = tf.keras.callbacks.EarlyStopping(monitor='val_loss', patience=10, restore_best_weights=True) # Early stop if val_loss sees no improvement\n",
        "\n",
        "history9 = model9.fit(train_images, train_labels, validation_split=0.2, epochs=15, batch_size=128, callbacks=[callback])"
      ],
      "metadata": {
        "colab": {
          "base_uri": "https://localhost:8080/"
        },
        "id": "gvq-n2fxq2A9",
        "outputId": "e2d2fc18-797a-4928-ca5e-e7a43f8ad1c3"
      },
      "execution_count": null,
      "outputs": [
        {
          "output_type": "stream",
          "name": "stdout",
          "text": [
            "Epoch 1/15\n",
            "61/61 [==============================] - 173s 3s/step - loss: 2.0785 - accuracy: 0.4797 - val_loss: 1.6514 - val_accuracy: 0.5833\n",
            "Epoch 2/15\n",
            "61/61 [==============================] - 151s 2s/step - loss: 0.9189 - accuracy: 0.7549 - val_loss: 1.1339 - val_accuracy: 0.7008\n",
            "Epoch 3/15\n",
            "61/61 [==============================] - 144s 2s/step - loss: 0.5143 - accuracy: 0.8496 - val_loss: 1.0247 - val_accuracy: 0.7314\n",
            "Epoch 4/15\n",
            "61/61 [==============================] - 156s 3s/step - loss: 0.3116 - accuracy: 0.9076 - val_loss: 0.9040 - val_accuracy: 0.7552\n",
            "Epoch 5/15\n",
            "61/61 [==============================] - 145s 2s/step - loss: 0.1911 - accuracy: 0.9427 - val_loss: 0.9349 - val_accuracy: 0.7702\n",
            "Epoch 6/15\n",
            "61/61 [==============================] - 154s 3s/step - loss: 0.1276 - accuracy: 0.9604 - val_loss: 0.9292 - val_accuracy: 0.7759\n",
            "Epoch 7/15\n",
            "61/61 [==============================] - 147s 2s/step - loss: 0.0827 - accuracy: 0.9705 - val_loss: 0.9972 - val_accuracy: 0.8007\n",
            "Epoch 8/15\n",
            "61/61 [==============================] - 147s 2s/step - loss: 0.0646 - accuracy: 0.9788 - val_loss: 0.8793 - val_accuracy: 0.7961\n",
            "Epoch 9/15\n",
            "61/61 [==============================] - 157s 3s/step - loss: 0.0458 - accuracy: 0.9851 - val_loss: 1.0502 - val_accuracy: 0.7971\n",
            "Epoch 10/15\n",
            "61/61 [==============================] - 153s 3s/step - loss: 0.0415 - accuracy: 0.9885 - val_loss: 0.9836 - val_accuracy: 0.8018\n",
            "Epoch 11/15\n",
            "61/61 [==============================] - 147s 2s/step - loss: 0.0300 - accuracy: 0.9896 - val_loss: 1.0892 - val_accuracy: 0.8023\n",
            "Epoch 12/15\n",
            "61/61 [==============================] - 148s 2s/step - loss: 0.0339 - accuracy: 0.9894 - val_loss: 1.2332 - val_accuracy: 0.7702\n",
            "Epoch 13/15\n",
            "61/61 [==============================] - 158s 3s/step - loss: 0.0281 - accuracy: 0.9904 - val_loss: 1.0087 - val_accuracy: 0.8085\n",
            "Epoch 14/15\n",
            "61/61 [==============================] - 163s 3s/step - loss: 0.0243 - accuracy: 0.9918 - val_loss: 0.9393 - val_accuracy: 0.8054\n",
            "Epoch 15/15\n",
            "61/61 [==============================] - 149s 2s/step - loss: 0.0186 - accuracy: 0.9948 - val_loss: 1.0360 - val_accuracy: 0.7981\n"
          ]
        }
      ]
    },
    {
      "cell_type": "code",
      "source": [
        "plot_loss(history9)\n",
        "\n",
        "model1_loss, model1_acc = model9.evaluate(test_images, test_labels)\n",
        "\n",
        "print('model9_acc:', model1_acc)"
      ],
      "metadata": {
        "colab": {
          "base_uri": "https://localhost:8080/",
          "height": 528
        },
        "id": "HmRZNAGWr_6Q",
        "outputId": "178ecc11-0dd1-4b8c-bdda-0fad2c2e23c5"
      },
      "execution_count": null,
      "outputs": [
        {
          "output_type": "display_data",
          "data": {
            "text/plain": [
              "<Figure size 640x480 with 1 Axes>"
            ],
            "image/png": "[encoded data removed]"
          },
          "metadata": {}
        },
        {
          "output_type": "stream",
          "name": "stdout",
          "text": [
            "76/76 [==============================] - 12s 156ms/step - loss: 0.9439 - accuracy: 0.8340\n",
            "model9_acc: 0.8339544534683228\n"
          ]
        }
      ]
    },
    {
      "cell_type": "code",
      "source": [
        "from tensorflow.keras import regularizers\n",
        "\n",
        "inputs = keras.Input(shape=(127,128,1))\n",
        "\n",
        "# dense layers\n",
        "x = layers.Conv2D(filters=32, kernel_size=3, activation='relu')(inputs)\n",
        "x = layers.MaxPooling2D(pool_size=2)(x)\n",
        "x = layers.Dropout(0.5)(x) #追加\n",
        "x = layers.Conv2D(filters=32, kernel_size=3, activation='relu')(x)\n",
        "x = layers.MaxPooling2D(pool_size=2)(x)\n",
        "x = layers.Conv2D(filters=32, kernel_size=3, activation='relu')(x)\n",
        "x = layers.Flatten()(x)\n",
        "x = layers.Dropout(0.5)(x)\n",
        "outputs = layers.Dense(75, activation='softmax')(x)\n",
        "\n",
        "# create a model\n",
        "model10 = keras.Model(inputs=inputs, outputs=outputs, name=\"model10\")\n",
        "\n",
        "# show the model1\n",
        "# keras.utils.plot_model(model8, \"model8.png\", show_shapes=True)\n",
        "model10.summary()\n",
        "\n",
        "model10.compile(\n",
        "    loss='categorical_crossentropy',\n",
        "    optimizer='adam',\n",
        "    metrics=['accuracy']\n",
        ")"
      ],
      "metadata": {
        "colab": {
          "base_uri": "https://localhost:8080/"
        },
        "id": "CwtwOXeK1z3U",
        "outputId": "686f999c-40ed-48eb-a2c0-ee6d5cc49c66"
      },
      "execution_count": null,
      "outputs": [
        {
          "output_type": "stream",
          "name": "stdout",
          "text": [
            "Model: \"model10\"\n",
            "_________________________________________________________________\n",
            " Layer (type)                Output Shape              Param #   \n",
            "=================================================================\n",
            " input_2 (InputLayer)        [(None, 127, 128, 1)]     0         \n",
            "                                                                 \n",
            " conv2d_3 (Conv2D)           (None, 125, 126, 32)      320       \n",
            "                                                                 \n",
            " max_pooling2d_2 (MaxPooling  (None, 62, 63, 32)       0         \n",
            " 2D)                                                             \n",
            "                                                                 \n",
            " dropout_1 (Dropout)         (None, 62, 63, 32)        0         \n",
            "                                                                 \n",
            " conv2d_4 (Conv2D)           (None, 60, 61, 32)        9248      \n",
            "                                                                 \n",
            " max_pooling2d_3 (MaxPooling  (None, 30, 30, 32)       0         \n",
            " 2D)                                                             \n",
            "                                                                 \n",
            " conv2d_5 (Conv2D)           (None, 28, 28, 32)        9248      \n",
            "                                                                 \n",
            " flatten_1 (Flatten)         (None, 25088)             0         \n",
            "                                                                 \n",
            " dropout_2 (Dropout)         (None, 25088)             0         \n",
            "                                                                 \n",
            " dense_1 (Dense)             (None, 75)                1881675   \n",
            "                                                                 \n",
            "=================================================================\n",
            "Total params: 1,900,491\n",
            "Trainable params: 1,900,491\n",
            "Non-trainable params: 0\n",
            "_________________________________________________________________\n"
          ]
        }
      ]
    },
    {
      "cell_type": "code",
      "source": [
        "callback = tf.keras.callbacks.EarlyStopping(monitor='val_loss', patience=10, restore_best_weights=True) # Early stop if val_loss sees no improvement\n",
        "\n",
        "history9 = model10.fit(train_images, train_labels, validation_split=0.2, epochs=15, batch_size=128, callbacks=[callback])"
      ],
      "metadata": {
        "colab": {
          "base_uri": "https://localhost:8080/"
        },
        "id": "bpKGcpdp2k-6",
        "outputId": "dad226f3-dd48-4df4-a433-323a7f628ca8"
      },
      "execution_count": null,
      "outputs": [
        {
          "output_type": "stream",
          "name": "stdout",
          "text": [
            "Epoch 1/15\n",
            "61/61 [==============================] - 233s 4s/step - loss: 2.0992 - accuracy: 0.4801 - val_loss: 1.6243 - val_accuracy: 0.6092\n",
            "Epoch 2/15\n",
            "61/61 [==============================] - 223s 4s/step - loss: 0.9801 - accuracy: 0.7382 - val_loss: 1.2485 - val_accuracy: 0.6718\n",
            "Epoch 3/15\n",
            "61/61 [==============================] - 227s 4s/step - loss: 0.5966 - accuracy: 0.8288 - val_loss: 1.0221 - val_accuracy: 0.7226\n",
            "Epoch 4/15\n",
            "61/61 [==============================] - 222s 4s/step - loss: 0.3644 - accuracy: 0.8901 - val_loss: 0.9734 - val_accuracy: 0.7510\n",
            "Epoch 5/15\n",
            "61/61 [==============================] - 212s 3s/step - loss: 0.2456 - accuracy: 0.9227 - val_loss: 0.9774 - val_accuracy: 0.7531\n",
            "Epoch 6/15\n",
            "61/61 [==============================] - 222s 4s/step - loss: 0.1912 - accuracy: 0.9370 - val_loss: 1.0556 - val_accuracy: 0.7417\n",
            "Epoch 7/15\n",
            "61/61 [==============================] - 221s 4s/step - loss: 0.1497 - accuracy: 0.9533 - val_loss: 1.0454 - val_accuracy: 0.7635\n",
            "Epoch 8/15\n",
            "61/61 [==============================] - 221s 4s/step - loss: 0.1211 - accuracy: 0.9576 - val_loss: 1.0429 - val_accuracy: 0.7754\n",
            "Epoch 9/15\n",
            "61/61 [==============================] - 213s 4s/step - loss: 0.1155 - accuracy: 0.9614 - val_loss: 1.0536 - val_accuracy: 0.7655\n",
            "Epoch 10/15\n",
            "61/61 [==============================] - 213s 4s/step - loss: 0.0957 - accuracy: 0.9705 - val_loss: 1.0330 - val_accuracy: 0.7774\n",
            "Epoch 11/15\n",
            "61/61 [==============================] - 218s 4s/step - loss: 0.0815 - accuracy: 0.9727 - val_loss: 1.0773 - val_accuracy: 0.7686\n",
            "Epoch 12/15\n",
            "61/61 [==============================] - 220s 4s/step - loss: 0.0818 - accuracy: 0.9737 - val_loss: 1.1055 - val_accuracy: 0.7774\n",
            "Epoch 13/15\n",
            "61/61 [==============================] - 220s 4s/step - loss: 0.0622 - accuracy: 0.9789 - val_loss: 1.0800 - val_accuracy: 0.7655\n",
            "Epoch 14/15\n",
            "61/61 [==============================] - 220s 4s/step - loss: 0.0525 - accuracy: 0.9820 - val_loss: 1.1995 - val_accuracy: 0.7805\n"
          ]
        }
      ]
    },
    {
      "cell_type": "code",
      "source": [
        "plot_loss(history9)\n",
        "\n",
        "model1_loss, model1_acc = model10.evaluate(test_images, test_labels)\n",
        "\n",
        "print('model10_acc:', model1_acc)"
      ],
      "metadata": {
        "colab": {
          "base_uri": "https://localhost:8080/",
          "height": 528
        },
        "id": "0ACqzOzRClkW",
        "outputId": "73c8a9cf-4e86-4303-952e-5830d5c3de88"
      },
      "execution_count": null,
      "outputs": [
        {
          "output_type": "display_data",
          "data": {
            "text/plain": [
              "<Figure size 640x480 with 1 Axes>"
            ],
            "image/png": "[encoded data removed]"
          },
          "metadata": {}
        },
        {
          "output_type": "stream",
          "name": "stdout",
          "text": [
            "76/76 [==============================] - 14s 186ms/step - loss: 0.8493 - accuracy: 0.7946\n",
            "model10_acc: 0.7946169972419739\n"
          ]
        }
      ]
    },
    {
      "cell_type": "markdown",
      "source": [
        "ここまでだとModel7が一番良さそう。"
      ],
      "metadata": {
        "id": "Bln6hAGcyX97"
      }
    },
    {
      "cell_type": "code",
      "source": [],
      "metadata": {
        "id": "1dtdK1bBA3kg"
      },
      "execution_count": null,
      "outputs": []
    },
    {
      "cell_type": "markdown",
      "source": [
        "L2 regularization"
      ],
      "metadata": {
        "id": "MF7OxOND_nsA"
      }
    },
    {
      "cell_type": "code",
      "source": [
        "from tensorflow.keras import regularizers\n",
        "\n",
        "inputs = keras.Input(shape=(127*128,))\n",
        "\n",
        "# dense layers\n",
        "dense = layers.Dense(512, kernel_regularizer=regularizers.l2(0.02), activation='gelu') #gelu\n",
        "x = dense(inputs)\n",
        "x = layers.Dense(512, kernel_regularizer=regularizers.l2(0.02), activation='gelu')(x)\n",
        "x = layers.Dense(256, kernel_regularizer=regularizers.l2(0.02), activation='gelu')(x)\n",
        "outputs = layers.Dense(75, activation='softmax')(x)\n",
        "\n",
        "# create a model\n",
        "model9 = keras.Model(inputs=inputs, outputs=outputs, name=\"model9\")\n",
        "\n",
        "# show the model1\n",
        "keras.utils.plot_model(model9, \"model9.png\", show_shapes=True)\n",
        "model9.summary()\n",
        "\n",
        "model9.compile(\n",
        "    loss='categorical_crossentropy',\n",
        "    optimizer='rmsprop',\n",
        "    metrics=['accuracy']\n",
        ")"
      ],
      "metadata": {
        "id": "gglI7ctK9Ekw",
        "colab": {
          "base_uri": "https://localhost:8080/"
        },
        "outputId": "e559e387-6612-4f66-fa35-a66c8448b758"
      },
      "execution_count": null,
      "outputs": [
        {
          "output_type": "stream",
          "name": "stdout",
          "text": [
            "Model: \"model9\"\n",
            "_________________________________________________________________\n",
            " Layer (type)                Output Shape              Param #   \n",
            "=================================================================\n",
            " input_2 (InputLayer)        [(None, 16256)]           0         \n",
            "                                                                 \n",
            " dense (Dense)               (None, 512)               8323584   \n",
            "                                                                 \n",
            " dense_1 (Dense)             (None, 512)               262656    \n",
            "                                                                 \n",
            " dense_2 (Dense)             (None, 256)               131328    \n",
            "                                                                 \n",
            " dense_3 (Dense)             (None, 75)                19275     \n",
            "                                                                 \n",
            "=================================================================\n",
            "Total params: 8,736,843\n",
            "Trainable params: 8,736,843\n",
            "Non-trainable params: 0\n",
            "_________________________________________________________________\n"
          ]
        }
      ]
    },
    {
      "cell_type": "code",
      "source": [
        "callback = tf.keras.callbacks.EarlyStopping(monitor='val_loss', patience=10, restore_best_weights=True) # Early stop if val_loss sees no improvement\n",
        "\n",
        "history9 = model9.fit(train_images, train_labels, validation_split=0.2, epochs=15, batch_size=128, callbacks=[callback])"
      ],
      "metadata": {
        "id": "T2EBSBvq96C0",
        "colab": {
          "base_uri": "https://localhost:8080/"
        },
        "outputId": "35456d3f-3bc2-4d69-bdb9-2f7ff737d65e"
      },
      "execution_count": null,
      "outputs": [
        {
          "output_type": "stream",
          "name": "stdout",
          "text": [
            "Epoch 1/15\n",
            "61/61 [==============================] - 15s 221ms/step - loss: 10.9532 - accuracy: 0.0245 - val_loss: 4.7613 - val_accuracy: 0.0135\n",
            "Epoch 2/15\n",
            "61/61 [==============================] - 11s 173ms/step - loss: 4.3942 - accuracy: 0.0109 - val_loss: 4.3175 - val_accuracy: 0.0135\n",
            "Epoch 3/15\n",
            "61/61 [==============================] - 11s 184ms/step - loss: 4.3183 - accuracy: 0.0096 - val_loss: 4.3175 - val_accuracy: 0.0135\n",
            "Epoch 4/15\n",
            "61/61 [==============================] - 12s 203ms/step - loss: 4.3182 - accuracy: 0.0096 - val_loss: 4.3175 - val_accuracy: 0.0135\n",
            "Epoch 5/15\n",
            "61/61 [==============================] - 11s 184ms/step - loss: 4.3183 - accuracy: 0.0118 - val_loss: 4.3175 - val_accuracy: 0.0129\n",
            "Epoch 6/15\n",
            "61/61 [==============================] - 10s 168ms/step - loss: 4.3182 - accuracy: 0.0110 - val_loss: 4.3175 - val_accuracy: 0.0135\n",
            "Epoch 7/15\n",
            "61/61 [==============================] - 14s 229ms/step - loss: 4.3182 - accuracy: 0.0107 - val_loss: 4.3175 - val_accuracy: 0.0129\n",
            "Epoch 8/15\n",
            "61/61 [==============================] - 12s 204ms/step - loss: 4.3183 - accuracy: 0.0107 - val_loss: 4.3175 - val_accuracy: 0.0135\n",
            "Epoch 9/15\n",
            "61/61 [==============================] - 11s 180ms/step - loss: 4.3182 - accuracy: 0.0106 - val_loss: 4.3175 - val_accuracy: 0.0129\n",
            "Epoch 10/15\n",
            "61/61 [==============================] - 11s 177ms/step - loss: 4.3182 - accuracy: 0.0096 - val_loss: 4.3175 - val_accuracy: 0.0129\n",
            "Epoch 11/15\n",
            "61/61 [==============================] - 12s 203ms/step - loss: 4.3182 - accuracy: 0.0102 - val_loss: 4.3175 - val_accuracy: 0.0129\n",
            "Epoch 12/15\n",
            "61/61 [==============================] - 12s 193ms/step - loss: 4.3182 - accuracy: 0.0120 - val_loss: 4.3175 - val_accuracy: 0.0129\n",
            "Epoch 13/15\n",
            "61/61 [==============================] - 10s 167ms/step - loss: 4.3182 - accuracy: 0.0115 - val_loss: 4.3175 - val_accuracy: 0.0129\n"
          ]
        }
      ]
    },
    {
      "cell_type": "code",
      "source": [
        "plot_loss(history9)"
      ],
      "metadata": {
        "id": "8MvtiHCQ-LkE",
        "colab": {
          "base_uri": "https://localhost:8080/",
          "height": 472
        },
        "outputId": "ddc7b034-29b0-43cc-e194-1a92a401a99b"
      },
      "execution_count": null,
      "outputs": [
        {
          "output_type": "display_data",
          "data": {
            "text/plain": [
              "<Figure size 640x480 with 1 Axes>"
            ],
            "image/png": "[encoded data removed]"
          },
          "metadata": {}
        }
      ]
    },
    {
      "cell_type": "code",
      "source": [
        "model1_loss, model1_acc = model9.evaluate(test_images, test_labels)\n",
        "\n",
        "print('model9_acc:', model1_acc)"
      ],
      "metadata": {
        "id": "SjzydJM0-NB2",
        "colab": {
          "base_uri": "https://localhost:8080/"
        },
        "outputId": "14bf16ad-4e85-4aae-f09a-af504ea4b1b6"
      },
      "execution_count": null,
      "outputs": [
        {
          "output_type": "stream",
          "name": "stdout",
          "text": [
            "76/76 [==============================] - 2s 22ms/step - loss: 4.3175 - accuracy: 0.0133\n",
            "model9_acc: 0.013250517658889294\n"
          ]
        }
      ]
    },
    {
      "cell_type": "code",
      "source": [
        "# dense layers\n",
        "dense = layers.Dense(512, kernel_regularizer=regularizers.l2(0.02), activation='gelu') #gelu\n",
        "x = dense(inputs)\n",
        "x = layers.Dense(512, activation='gelu')(x)\n",
        "x = layers.Dense(256, activation='gelu')(x)\n",
        "outputs = layers.Dense(75, activation='softmax')(x)\n",
        "\n",
        "# create a model\n",
        "model10 = keras.Model(inputs=inputs, outputs=outputs, name=\"model10\")\n",
        "\n",
        "# show the model1\n",
        "keras.utils.plot_model(model10, \"model10.png\", show_shapes=True)\n",
        "model10.summary()\n",
        "\n",
        "model10.compile(\n",
        "    loss='categorical_crossentropy',\n",
        "    optimizer='rmsprop',\n",
        "    metrics=['accuracy']\n",
        ")"
      ],
      "metadata": {
        "colab": {
          "base_uri": "https://localhost:8080/"
        },
        "id": "SW7N8uJ7DEhC",
        "outputId": "2572abd3-3c38-4a4b-f10b-0ea0d7d364f3"
      },
      "execution_count": null,
      "outputs": [
        {
          "output_type": "stream",
          "name": "stdout",
          "text": [
            "Model: \"model10\"\n",
            "_________________________________________________________________\n",
            " Layer (type)                Output Shape              Param #   \n",
            "=================================================================\n",
            " input_2 (InputLayer)        [(None, 16256)]           0         \n",
            "                                                                 \n",
            " dense_8 (Dense)             (None, 512)               8323584   \n",
            "                                                                 \n",
            " dense_9 (Dense)             (None, 512)               262656    \n",
            "                                                                 \n",
            " dense_10 (Dense)            (None, 256)               131328    \n",
            "                                                                 \n",
            " dense_11 (Dense)            (None, 75)                19275     \n",
            "                                                                 \n",
            "=================================================================\n",
            "Total params: 8,736,843\n",
            "Trainable params: 8,736,843\n",
            "Non-trainable params: 0\n",
            "_________________________________________________________________\n"
          ]
        }
      ]
    },
    {
      "cell_type": "code",
      "source": [
        "callback = tf.keras.callbacks.EarlyStopping(monitor='val_loss', patience=10, restore_best_weights=True) # Early stop if val_loss sees no improvement\n",
        "\n",
        "history10 = model10.fit(train_images, train_labels, validation_split=0.2, epochs=30, batch_size=128, callbacks=[callback])"
      ],
      "metadata": {
        "colab": {
          "base_uri": "https://localhost:8080/"
        },
        "id": "09xYsCaxDWGf",
        "outputId": "d5120dce-08ac-4f91-b458-2d90a8fe4c28"
      },
      "execution_count": null,
      "outputs": [
        {
          "output_type": "stream",
          "name": "stdout",
          "text": [
            "Epoch 1/30\n",
            "61/61 [==============================] - 15s 230ms/step - loss: 5.7147 - accuracy: 0.1024 - val_loss: 3.7043 - val_accuracy: 0.2143\n",
            "Epoch 2/30\n",
            "61/61 [==============================] - 13s 214ms/step - loss: 3.1814 - accuracy: 0.3283 - val_loss: 3.4255 - val_accuracy: 0.3033\n",
            "Epoch 3/30\n",
            "61/61 [==============================] - 13s 211ms/step - loss: 2.8141 - accuracy: 0.4252 - val_loss: 3.1832 - val_accuracy: 0.3313\n",
            "Epoch 4/30\n",
            "61/61 [==============================] - 16s 264ms/step - loss: 2.5749 - accuracy: 0.4776 - val_loss: 3.1936 - val_accuracy: 0.3256\n",
            "Epoch 5/30\n",
            "61/61 [==============================] - 11s 187ms/step - loss: 2.4048 - accuracy: 0.5173 - val_loss: 2.7200 - val_accuracy: 0.4534\n",
            "Epoch 6/30\n",
            "61/61 [==============================] - 13s 205ms/step - loss: 2.2683 - accuracy: 0.5483 - val_loss: 2.5897 - val_accuracy: 0.4591\n",
            "Epoch 7/30\n",
            "61/61 [==============================] - 13s 220ms/step - loss: 2.1165 - accuracy: 0.5791 - val_loss: 2.9826 - val_accuracy: 0.3701\n",
            "Epoch 8/30\n",
            "61/61 [==============================] - 13s 221ms/step - loss: 2.0467 - accuracy: 0.5987 - val_loss: 2.5839 - val_accuracy: 0.4436\n",
            "Epoch 9/30\n",
            "61/61 [==============================] - 14s 227ms/step - loss: 1.9442 - accuracy: 0.6207 - val_loss: 2.3571 - val_accuracy: 0.5238\n",
            "Epoch 10/30\n",
            "61/61 [==============================] - 11s 187ms/step - loss: 1.8656 - accuracy: 0.6373 - val_loss: 2.4761 - val_accuracy: 0.5078\n",
            "Epoch 11/30\n",
            "61/61 [==============================] - 11s 182ms/step - loss: 1.7796 - accuracy: 0.6654 - val_loss: 2.4854 - val_accuracy: 0.5192\n",
            "Epoch 12/30\n",
            "61/61 [==============================] - 13s 210ms/step - loss: 1.7089 - accuracy: 0.6783 - val_loss: 2.1382 - val_accuracy: 0.5642\n",
            "Epoch 13/30\n",
            "61/61 [==============================] - 13s 212ms/step - loss: 1.6650 - accuracy: 0.6843 - val_loss: 2.1469 - val_accuracy: 0.5699\n",
            "Epoch 14/30\n",
            "61/61 [==============================] - 12s 192ms/step - loss: 1.6071 - accuracy: 0.7051 - val_loss: 2.2779 - val_accuracy: 0.5435\n",
            "Epoch 15/30\n",
            "61/61 [==============================] - 12s 189ms/step - loss: 1.5314 - accuracy: 0.7177 - val_loss: 2.0552 - val_accuracy: 0.6004\n",
            "Epoch 16/30\n",
            "61/61 [==============================] - 13s 213ms/step - loss: 1.5054 - accuracy: 0.7252 - val_loss: 2.5638 - val_accuracy: 0.4943\n",
            "Epoch 17/30\n",
            "61/61 [==============================] - 13s 216ms/step - loss: 1.4559 - accuracy: 0.7391 - val_loss: 1.8917 - val_accuracy: 0.6180\n",
            "Epoch 18/30\n",
            "61/61 [==============================] - 13s 206ms/step - loss: 1.4051 - accuracy: 0.7512 - val_loss: 1.9287 - val_accuracy: 0.6242\n",
            "Epoch 19/30\n",
            "61/61 [==============================] - 11s 179ms/step - loss: 1.3567 - accuracy: 0.7605 - val_loss: 1.9365 - val_accuracy: 0.6128\n",
            "Epoch 20/30\n",
            "61/61 [==============================] - 13s 205ms/step - loss: 1.3375 - accuracy: 0.7637 - val_loss: 1.9362 - val_accuracy: 0.6273\n",
            "Epoch 21/30\n",
            "61/61 [==============================] - 13s 210ms/step - loss: 1.2859 - accuracy: 0.7726 - val_loss: 2.1504 - val_accuracy: 0.5663\n",
            "Epoch 22/30\n",
            "61/61 [==============================] - 12s 199ms/step - loss: 1.2571 - accuracy: 0.7869 - val_loss: 1.9751 - val_accuracy: 0.6087\n",
            "Epoch 23/30\n",
            "61/61 [==============================] - 11s 186ms/step - loss: 1.2761 - accuracy: 0.7821 - val_loss: 1.9647 - val_accuracy: 0.6273\n",
            "Epoch 24/30\n",
            "61/61 [==============================] - 11s 187ms/step - loss: 1.1897 - accuracy: 0.8031 - val_loss: 2.3815 - val_accuracy: 0.5492\n",
            "Epoch 25/30\n",
            "61/61 [==============================] - 13s 216ms/step - loss: 1.2167 - accuracy: 0.7928 - val_loss: 1.7955 - val_accuracy: 0.6708\n",
            "Epoch 26/30\n",
            "61/61 [==============================] - 13s 214ms/step - loss: 1.1592 - accuracy: 0.8043 - val_loss: 2.1817 - val_accuracy: 0.5875\n",
            "Epoch 27/30\n",
            "61/61 [==============================] - 13s 207ms/step - loss: 1.1222 - accuracy: 0.8219 - val_loss: 2.0218 - val_accuracy: 0.6242\n",
            "Epoch 28/30\n",
            "61/61 [==============================] - 11s 184ms/step - loss: 1.1247 - accuracy: 0.8169 - val_loss: 1.9140 - val_accuracy: 0.6372\n",
            "Epoch 29/30\n",
            "61/61 [==============================] - 13s 205ms/step - loss: 1.0952 - accuracy: 0.8216 - val_loss: 1.8546 - val_accuracy: 0.6579\n",
            "Epoch 30/30\n",
            "61/61 [==============================] - 13s 211ms/step - loss: 1.0603 - accuracy: 0.8329 - val_loss: 2.4092 - val_accuracy: 0.5543\n"
          ]
        }
      ]
    },
    {
      "cell_type": "code",
      "source": [
        "plot_loss(history10)"
      ],
      "metadata": {
        "colab": {
          "base_uri": "https://localhost:8080/",
          "height": 472
        },
        "id": "QHzlGUygEQF9",
        "outputId": "eb5488f9-81b2-47f8-c4cb-b9c5f59858d7"
      },
      "execution_count": null,
      "outputs": [
        {
          "output_type": "display_data",
          "data": {
            "text/plain": [
              "<Figure size 640x480 with 1 Axes>"
            ],
            "image/png": "[encoded data removed]"
          },
          "metadata": {}
        }
      ]
    },
    {
      "cell_type": "code",
      "source": [
        "model1_loss, model1_acc = model10.evaluate(test_images, test_labels)\n",
        "\n",
        "print('model10_acc:', model1_acc)"
      ],
      "metadata": {
        "colab": {
          "base_uri": "https://localhost:8080/"
        },
        "id": "oJT0XTovEd3A",
        "outputId": "b94ac5f9-5f65-4bc3-a8f4-e94e07efd0c4"
      },
      "execution_count": null,
      "outputs": [
        {
          "output_type": "stream",
          "name": "stdout",
          "text": [
            "76/76 [==============================] - 2s 21ms/step - loss: 2.3498 - accuracy: 0.5867\n",
            "model10_acc: 0.5867494940757751\n"
          ]
        }
      ]
    },
    {
      "cell_type": "markdown",
      "source": [
        "dropout"
      ],
      "metadata": {
        "id": "pxtpB8WA_kz1"
      }
    },
    {
      "cell_type": "code",
      "source": [
        "inputs = keras.Input(shape=(127*128,))\n",
        "\n",
        "# dense layers\n",
        "dense = layers.Dense(512, activation='gelu') #gelu\n",
        "x = dense(inputs)\n",
        "x = layers.Dropout(0.5)(x)\n",
        "x = layers.Dense(512, activation='gelu')(x)\n",
        "x = layers.Dropout(0.5)(x)\n",
        "x = layers.Dense(256, activation='gelu')(x)\n",
        "x = layers.Dropout(0.5)(x)\n",
        "outputs = layers.Dense(75, activation='softmax')(x)\n",
        "\n",
        "# create a model\n",
        "model11 = keras.Model(inputs=inputs, outputs=outputs, name=\"model11\")\n",
        "\n",
        "# show the model1\n",
        "keras.utils.plot_model(model11, \"model10.png\", show_shapes=True)\n",
        "model11.summary()\n",
        "\n",
        "model11.compile(\n",
        "    loss='categorical_crossentropy',\n",
        "    optimizer='rmsprop',\n",
        "    metrics=['accuracy']\n",
        ")"
      ],
      "metadata": {
        "colab": {
          "base_uri": "https://localhost:8080/"
        },
        "id": "-S6BH8sj_jcD",
        "outputId": "146b4813-834a-4174-ddb0-3993de789d02"
      },
      "execution_count": null,
      "outputs": [
        {
          "output_type": "stream",
          "name": "stdout",
          "text": [
            "Model: \"model11\"\n",
            "_________________________________________________________________\n",
            " Layer (type)                Output Shape              Param #   \n",
            "=================================================================\n",
            " input_5 (InputLayer)        [(None, 16256)]           0         \n",
            "                                                                 \n",
            " dense_20 (Dense)            (None, 512)               8323584   \n",
            "                                                                 \n",
            " dropout_3 (Dropout)         (None, 512)               0         \n",
            "                                                                 \n",
            " dense_21 (Dense)            (None, 512)               262656    \n",
            "                                                                 \n",
            " dropout_4 (Dropout)         (None, 512)               0         \n",
            "                                                                 \n",
            " dense_22 (Dense)            (None, 256)               131328    \n",
            "                                                                 \n",
            " dropout_5 (Dropout)         (None, 256)               0         \n",
            "                                                                 \n",
            " dense_23 (Dense)            (None, 75)                19275     \n",
            "                                                                 \n",
            "=================================================================\n",
            "Total params: 8,736,843\n",
            "Trainable params: 8,736,843\n",
            "Non-trainable params: 0\n",
            "_________________________________________________________________\n"
          ]
        }
      ]
    },
    {
      "cell_type": "code",
      "source": [
        "callback = tf.keras.callbacks.EarlyStopping(monitor='val_loss', patience=10, restore_best_weights=True) # Early stop if val_loss sees no improvement\n",
        "\n",
        "history11 = model11.fit(train_images, train_labels, validation_split=0.2, epochs=30, batch_size=128, callbacks=[callback])"
      ],
      "metadata": {
        "colab": {
          "base_uri": "https://localhost:8080/"
        },
        "id": "oe4MmnewAXP6",
        "outputId": "6fe48a93-de60-4229-e1bb-0f7d20a559ee"
      },
      "execution_count": null,
      "outputs": [
        {
          "output_type": "stream",
          "name": "stdout",
          "text": [
            "Epoch 1/30\n",
            "61/61 [==============================] - 13s 204ms/step - loss: 3.7584 - accuracy: 0.1090 - val_loss: 3.0721 - val_accuracy: 0.3235\n",
            "Epoch 2/30\n",
            "61/61 [==============================] - 11s 179ms/step - loss: 2.6325 - accuracy: 0.3222 - val_loss: 2.3013 - val_accuracy: 0.4720\n",
            "Epoch 3/30\n",
            "61/61 [==============================] - 19s 313ms/step - loss: 2.0011 - accuracy: 0.4613 - val_loss: 1.8750 - val_accuracy: 0.5388\n",
            "Epoch 4/30\n",
            "61/61 [==============================] - 13s 205ms/step - loss: 1.6236 - accuracy: 0.5424 - val_loss: 1.5780 - val_accuracy: 0.5968\n",
            "Epoch 5/30\n",
            "61/61 [==============================] - 13s 222ms/step - loss: 1.3380 - accuracy: 0.6132 - val_loss: 1.4206 - val_accuracy: 0.6190\n",
            "Epoch 6/30\n",
            "61/61 [==============================] - 12s 205ms/step - loss: 1.1670 - accuracy: 0.6497 - val_loss: 1.3147 - val_accuracy: 0.6335\n",
            "Epoch 7/30\n",
            "61/61 [==============================] - 12s 199ms/step - loss: 0.9775 - accuracy: 0.7013 - val_loss: 1.2392 - val_accuracy: 0.6605\n",
            "Epoch 8/30\n",
            "61/61 [==============================] - 11s 176ms/step - loss: 0.8362 - accuracy: 0.7457 - val_loss: 1.1799 - val_accuracy: 0.6744\n",
            "Epoch 9/30\n",
            "61/61 [==============================] - 12s 193ms/step - loss: 0.7386 - accuracy: 0.7605 - val_loss: 1.1563 - val_accuracy: 0.6848\n",
            "Epoch 10/30\n",
            "61/61 [==============================] - 13s 218ms/step - loss: 0.6553 - accuracy: 0.7901 - val_loss: 1.1212 - val_accuracy: 0.6936\n",
            "Epoch 11/30\n",
            "61/61 [==============================] - 13s 219ms/step - loss: 0.5804 - accuracy: 0.8148 - val_loss: 1.1454 - val_accuracy: 0.6869\n",
            "Epoch 12/30\n",
            "61/61 [==============================] - 12s 202ms/step - loss: 0.5429 - accuracy: 0.8283 - val_loss: 1.1005 - val_accuracy: 0.7019\n",
            "Epoch 13/30\n",
            "61/61 [==============================] - 11s 185ms/step - loss: 0.4871 - accuracy: 0.8412 - val_loss: 1.0700 - val_accuracy: 0.7101\n",
            "Epoch 14/30\n",
            "61/61 [==============================] - 13s 213ms/step - loss: 0.4341 - accuracy: 0.8618 - val_loss: 1.1020 - val_accuracy: 0.7039\n",
            "Epoch 15/30\n",
            "61/61 [==============================] - 13s 211ms/step - loss: 0.4114 - accuracy: 0.8678 - val_loss: 1.1720 - val_accuracy: 0.7029\n",
            "Epoch 16/30\n",
            "61/61 [==============================] - 12s 201ms/step - loss: 0.3943 - accuracy: 0.8729 - val_loss: 1.1272 - val_accuracy: 0.7096\n",
            "Epoch 17/30\n",
            "61/61 [==============================] - 11s 174ms/step - loss: 0.3467 - accuracy: 0.8866 - val_loss: 1.1272 - val_accuracy: 0.7174\n",
            "Epoch 18/30\n",
            "61/61 [==============================] - 13s 207ms/step - loss: 0.3361 - accuracy: 0.8896 - val_loss: 1.1196 - val_accuracy: 0.7096\n",
            "Epoch 19/30\n",
            "61/61 [==============================] - 13s 209ms/step - loss: 0.3263 - accuracy: 0.8954 - val_loss: 1.1158 - val_accuracy: 0.7215\n",
            "Epoch 20/30\n",
            "61/61 [==============================] - 13s 213ms/step - loss: 0.3117 - accuracy: 0.8976 - val_loss: 1.1619 - val_accuracy: 0.7195\n",
            "Epoch 21/30\n",
            "61/61 [==============================] - 12s 192ms/step - loss: 0.2927 - accuracy: 0.9037 - val_loss: 1.1133 - val_accuracy: 0.7174\n",
            "Epoch 22/30\n",
            "61/61 [==============================] - 12s 192ms/step - loss: 0.2749 - accuracy: 0.9105 - val_loss: 1.1972 - val_accuracy: 0.7091\n",
            "Epoch 23/30\n",
            "61/61 [==============================] - 13s 213ms/step - loss: 0.2708 - accuracy: 0.9173 - val_loss: 1.1577 - val_accuracy: 0.7195\n"
          ]
        }
      ]
    },
    {
      "cell_type": "code",
      "source": [
        "plot_loss(history11)"
      ],
      "metadata": {
        "colab": {
          "base_uri": "https://localhost:8080/",
          "height": 472
        },
        "id": "XJYym3QjHji8",
        "outputId": "dc85d41d-2d34-41c1-e35c-5110c55375a7"
      },
      "execution_count": null,
      "outputs": [
        {
          "output_type": "display_data",
          "data": {
            "text/plain": [
              "<Figure size 640x480 with 1 Axes>"
            ],
            "image/png": "[encoded data removed]"
          },
          "metadata": {}
        }
      ]
    },
    {
      "cell_type": "code",
      "source": [
        "model1_loss, model1_acc = model11.evaluate(test_images, test_labels)\n",
        "\n",
        "print('model11_acc:', model1_acc)"
      ],
      "metadata": {
        "colab": {
          "base_uri": "https://localhost:8080/"
        },
        "id": "lP3gRJjgHpqI",
        "outputId": "e723b1de-cf82-4be5-cc05-f07d8c19bc0a"
      },
      "execution_count": null,
      "outputs": [
        {
          "output_type": "stream",
          "name": "stdout",
          "text": [
            "76/76 [==============================] - 3s 32ms/step - loss: 0.8878 - accuracy: 0.7565\n",
            "model11_acc: 0.7565217614173889\n"
          ]
        }
      ]
    }
  ]
}