{
  "nbformat": 4,
  "nbformat_minor": 0,
  "metadata": {
    "colab": {
      "provenance": [],
      "authorship_tag": "ABX9TyMGoYeCzzWd1webwPoS9uzg",
      "include_colab_link": true
    },
    "kernelspec": {
      "name": "python3",
      "display_name": "Python 3"
    },
    "language_info": {
      "name": "python"
    },
    "accelerator": "TPU"
  },
  "cells": [
    {
      "cell_type": "markdown",
      "metadata": {
        "id": "view-in-github",
        "colab_type": "text"
      },
      "source": [
        "<a href=\"https://colab.research.google.com/github/sabiko1/Final-Project/blob/main/dense_models.ipynb\" target=\"_parent\"><img src=\"https://colab.research.google.com/assets/colab-badge.svg\" alt=\"Open In Colab\"/></a>"
      ]
    },
    {
      "cell_type": "code",
      "execution_count": null,
      "metadata": {
        "colab": {
          "base_uri": "https://localhost:8080/"
        },
        "id": "EnjHQ7obJ-lU",
        "outputId": "b25c66ea-a5a4-4197-fa33-47ee6c450c59"
      },
      "outputs": [
        {
          "output_type": "stream",
          "name": "stdout",
          "text": [
            "Mounted at /content/drive\n"
          ]
        }
      ],
      "source": [
        "import os\n",
        "import sys\n",
        "\n",
        "if 'google.colab' in sys.modules:\n",
        "    from google.colab import drive\n",
        "    drive.mount('/content/drive')\n",
        "    os.chdir('drive/My Drive/') # 'My Drive' is the default name of Google Drives\n",
        "    os.listdir()\n",
        "\n",
        "# use os.chdir(\"my-directory\") # to change directory, and\n",
        "# os.listdir()                 # to list its contents\n",
        "# os.getcwd()                  # to get the name of the current directory\n",
        "# os.mkdir(\"my-new-dir\")       # to create a new directory\n",
        "# See: https://realpython.com/working-with-files-in-python/"
      ]
    },
    {
      "cell_type": "code",
      "source": [
        "import numpy as np\n",
        "import tensorflow as tf\n",
        "import keras\n",
        "from keras import layers\n",
        "import matplotlib.pyplot as plt"
      ],
      "metadata": {
        "id": "81UonqEMKIFU"
      },
      "execution_count": null,
      "outputs": []
    },
    {
      "cell_type": "code",
      "source": [
        "# ファイルから読み込む\n",
        "x = np.load('images.npy')\n",
        "y = np.load('labels.npy')"
      ],
      "metadata": {
        "id": "bhgnS3OrKONZ"
      },
      "execution_count": null,
      "outputs": []
    },
    {
      "cell_type": "code",
      "source": [
        "import numpy as np\n",
        "\n",
        "train_ratio = 0.8 #define a ratio on train and test\n",
        "\n",
        "train_images, test_images = np.split(x, [int(len(x) * train_ratio)])  # separate data with the ratio\n",
        "train_targets, test_targets = np.split(y, [int(len(y) * train_ratio)]) # separate targets"
      ],
      "metadata": {
        "id": "L_tAf1y1LMM2"
      },
      "execution_count": null,
      "outputs": []
    },
    {
      "cell_type": "code",
      "source": [
        "train_images = train_images.reshape((9660, 127 * 128)) # reshape flattens 127 x 128 arrays\n",
        "test_images = test_images.reshape((2415, 127 * 128))   # to vectors of 16256 elements\n",
        "\n",
        "train_images /= 16   # cast as floats\n",
        "test_images /= 16     # and rescale to [0, 1]"
      ],
      "metadata": {
        "id": "Anl6gmdDLR8z"
      },
      "execution_count": null,
      "outputs": []
    },
    {
      "cell_type": "code",
      "source": [
        "from tensorflow.keras.utils import to_categorical # encode with the nifty `to_categorical` function\n",
        "\n",
        "train_labels = to_categorical(train_targets)\n",
        "test_labels  = to_categorical(test_targets)"
      ],
      "metadata": {
        "id": "qS59lUFnLXmg"
      },
      "execution_count": null,
      "outputs": []
    },
    {
      "cell_type": "code",
      "source": [
        "import keras\n",
        "from keras import layers\n",
        "\n",
        "inputs = keras.Input(shape=(127*128,))\n",
        "\n",
        "# dense layers\n",
        "x = layers.Dense(512, activation='relu')(inputs)\n",
        "x = layers.Dense(256, activation='relu')(x)\n",
        "x = layers.Dense(256, activation='relu')(x)　#増えた\n",
        "outputs = layers.Dense(75, activation='softmax')(x)\n",
        "\n",
        "# create a model\n",
        "model2 = keras.Model(inputs=inputs, outputs=outputs, name=\"model1\")\n",
        "\n",
        "# show the model1\n",
        "keras.utils.plot_model(model2, \"model1.png\", show_shapes=True)\n",
        "model2.summary()"
      ],
      "metadata": {
        "colab": {
          "base_uri": "https://localhost:8080/"
        },
        "id": "SyN2l3QpLdgJ",
        "outputId": "68149aad-5db4-4272-818a-0517108fd25d"
      },
      "execution_count": null,
      "outputs": [
        {
          "output_type": "stream",
          "name": "stdout",
          "text": [
            "Model: \"model1\"\n",
            "_________________________________________________________________\n",
            " Layer (type)                Output Shape              Param #   \n",
            "=================================================================\n",
            " input_2 (InputLayer)        [(None, 16256)]           0         \n",
            "                                                                 \n",
            " dense_4 (Dense)             (None, 512)               8323584   \n",
            "                                                                 \n",
            " dense_5 (Dense)             (None, 256)               131328    \n",
            "                                                                 \n",
            " dense_6 (Dense)             (None, 256)               65792     \n",
            "                                                                 \n",
            " dense_7 (Dense)             (None, 75)                19275     \n",
            "                                                                 \n",
            "=================================================================\n",
            "Total params: 8,539,979\n",
            "Trainable params: 8,539,979\n",
            "Non-trainable params: 0\n",
            "_________________________________________________________________\n"
          ]
        }
      ]
    },
    {
      "cell_type": "code",
      "source": [
        "model2.compile(\n",
        "    loss='categorical_crossentropy',\n",
        "    optimizer='rmsprop',\n",
        "    metrics=['accuracy']\n",
        ")"
      ],
      "metadata": {
        "id": "ep2PiYWPO8kE"
      },
      "execution_count": null,
      "outputs": []
    },
    {
      "cell_type": "code",
      "source": [
        "callback = tf.keras.callbacks.EarlyStopping(monitor='val_loss', patience=5, restore_best_weights=True) # Early stop if val_loss sees no improvement\n",
        "\n",
        "history2 = model2.fit(train_images, train_labels, validation_split=0.2, epochs=15, batch_size=128, callbacks=[callback]) # 0.2 for validation"
      ],
      "metadata": {
        "colab": {
          "base_uri": "https://localhost:8080/"
        },
        "id": "1D4pjDsQRsjV",
        "outputId": "21db44e7-2c37-486c-b8c5-59b0d40820f5"
      },
      "execution_count": null,
      "outputs": [
        {
          "output_type": "stream",
          "name": "stdout",
          "text": [
            "Epoch 1/15\n",
            "61/61 [==============================] - 15s 226ms/step - loss: 2.9972 - accuracy: 0.2645 - val_loss: 2.4585 - val_accuracy: 0.3566\n",
            "Epoch 2/15\n",
            "61/61 [==============================] - 13s 211ms/step - loss: 1.5116 - accuracy: 0.6022 - val_loss: 1.8700 - val_accuracy: 0.5078\n",
            "Epoch 3/15\n",
            "61/61 [==============================] - 12s 191ms/step - loss: 0.9906 - accuracy: 0.7275 - val_loss: 1.6202 - val_accuracy: 0.5730\n",
            "Epoch 4/15\n",
            "61/61 [==============================] - 12s 188ms/step - loss: 0.6516 - accuracy: 0.8157 - val_loss: 1.5424 - val_accuracy: 0.5937\n",
            "Epoch 5/15\n",
            "61/61 [==============================] - 13s 215ms/step - loss: 0.4198 - accuracy: 0.8788 - val_loss: 1.7410 - val_accuracy: 0.5538\n",
            "Epoch 6/15\n",
            "61/61 [==============================] - 13s 221ms/step - loss: 0.2819 - accuracy: 0.9209 - val_loss: 1.4741 - val_accuracy: 0.6190\n",
            "Epoch 7/15\n",
            "61/61 [==============================] - 14s 225ms/step - loss: 0.1717 - accuracy: 0.9559 - val_loss: 1.6357 - val_accuracy: 0.6020\n",
            "Epoch 8/15\n",
            "61/61 [==============================] - 13s 221ms/step - loss: 0.1182 - accuracy: 0.9697 - val_loss: 1.8045 - val_accuracy: 0.5782\n",
            "Epoch 9/15\n",
            "61/61 [==============================] - 11s 179ms/step - loss: 0.0829 - accuracy: 0.9806 - val_loss: 1.6893 - val_accuracy: 0.6247\n",
            "Epoch 10/15\n",
            "61/61 [==============================] - 13s 216ms/step - loss: 0.0703 - accuracy: 0.9834 - val_loss: 1.4100 - val_accuracy: 0.6646\n",
            "Epoch 11/15\n",
            "61/61 [==============================] - 13s 211ms/step - loss: 0.0604 - accuracy: 0.9841 - val_loss: 1.3560 - val_accuracy: 0.6832\n",
            "Epoch 12/15\n",
            "61/61 [==============================] - 13s 221ms/step - loss: 0.0295 - accuracy: 0.9933 - val_loss: 1.7091 - val_accuracy: 0.6610\n",
            "Epoch 13/15\n",
            "61/61 [==============================] - 13s 218ms/step - loss: 0.0258 - accuracy: 0.9935 - val_loss: 1.4505 - val_accuracy: 0.6889\n",
            "Epoch 14/15\n",
            "61/61 [==============================] - 12s 195ms/step - loss: 0.0257 - accuracy: 0.9935 - val_loss: 1.6913 - val_accuracy: 0.6630\n",
            "Epoch 15/15\n",
            "61/61 [==============================] - 14s 221ms/step - loss: 0.0265 - accuracy: 0.9943 - val_loss: 1.7192 - val_accuracy: 0.6724\n"
          ]
        }
      ]
    },
    {
      "cell_type": "code",
      "source": [
        "import matplotlib.pyplot as plt"
      ],
      "metadata": {
        "id": "TStRL_jiU8VD"
      },
      "execution_count": null,
      "outputs": []
    },
    {
      "cell_type": "code",
      "source": [
        "def plot_loss(x):\n",
        "\n",
        "    history_dict = x.history\n",
        "    loss = history_dict['loss']\n",
        "    val_loss = history_dict['val_loss']\n",
        "\n",
        "    epochs = range(1, len(loss) + 1)\n",
        "\n",
        "    blue_dots = 'bo'\n",
        "    solid_blue_line = 'b'\n",
        "\n",
        "    plt.plot(epochs, loss, blue_dots, label = 'Training loss')\n",
        "    plt.plot(epochs, val_loss, solid_blue_line, label = 'Validation loss')\n",
        "    plt.title('Training and validation loss')\n",
        "    plt.xlabel('Epochs')\n",
        "    plt.ylabel('Loss')\n",
        "    plt.legend()\n",
        "    plt.show()"
      ],
      "metadata": {
        "id": "Shn-6VQgSWSq"
      },
      "execution_count": null,
      "outputs": []
    },
    {
      "cell_type": "code",
      "source": [
        "plot_loss(history2)"
      ],
      "metadata": {
        "colab": {
          "base_uri": "https://localhost:8080/",
          "height": 472
        },
        "id": "JQ4uHDCSUzjA",
        "outputId": "47e60cff-cf29-4d5b-98fa-dc3fd7050f19"
      },
      "execution_count": null,
      "outputs": [
        {
          "output_type": "display_data",
          "data": {
            "text/plain": [
              "<Figure size 640x480 with 1 Axes>"
            ],
            "image/png": "[encoded data removed]"
          },
          "metadata": {}
        }
      ]
    },
    {
      "cell_type": "code",
      "source": [
        "model1_loss, model1_acc = model2.evaluate(test_images, test_labels)\n",
        "\n",
        "print('model2_acc:', model1_acc)"
      ],
      "metadata": {
        "colab": {
          "base_uri": "https://localhost:8080/"
        },
        "id": "0rWnRSScVJta",
        "outputId": "81079b82-d9e7-4daf-b7c5-b569482e5975"
      },
      "execution_count": null,
      "outputs": [
        {
          "output_type": "stream",
          "name": "stdout",
          "text": [
            "76/76 [==============================] - 1s 19ms/step - loss: 1.5686 - accuracy: 0.7242\n",
            "model2_acc: 0.7242236137390137\n"
          ]
        }
      ]
    },
    {
      "cell_type": "code",
      "source": [
        "inputs = keras.Input(shape=(127*128,))\n",
        "\n",
        "# dense layers\n",
        "x = layers.Dense(512, activation='relu')(inputs)\n",
        "x = layers.Dense(512, activation='relu')(x)\n",
        "x = layers.Dense(256, activation='relu')(x)\n",
        "x = layers.Dense(256, activation='relu')(x)\n",
        "outputs = layers.Dense(75, activation='softmax')(x)\n",
        "\n",
        "# create a model\n",
        "model3 = keras.Model(inputs=inputs, outputs=outputs, name=\"model3\")\n",
        "\n",
        "# show the model1\n",
        "keras.utils.plot_model(model3, \"model3.png\", show_shapes=True)\n",
        "model3.summary()"
      ],
      "metadata": {
        "colab": {
          "base_uri": "https://localhost:8080/"
        },
        "id": "Hv-mrMooVemd",
        "outputId": "9913e9d4-9775-444c-acaa-acd251b738c9"
      },
      "execution_count": null,
      "outputs": [
        {
          "output_type": "stream",
          "name": "stdout",
          "text": [
            "Model: \"model3\"\n",
            "_________________________________________________________________\n",
            " Layer (type)                Output Shape              Param #   \n",
            "=================================================================\n",
            " input_3 (InputLayer)        [(None, 16256)]           0         \n",
            "                                                                 \n",
            " dense_8 (Dense)             (None, 512)               8323584   \n",
            "                                                                 \n",
            " dense_9 (Dense)             (None, 512)               262656    \n",
            "                                                                 \n",
            " dense_10 (Dense)            (None, 256)               131328    \n",
            "                                                                 \n",
            " dense_11 (Dense)            (None, 256)               65792     \n",
            "                                                                 \n",
            " dense_12 (Dense)            (None, 75)                19275     \n",
            "                                                                 \n",
            "=================================================================\n",
            "Total params: 8,802,635\n",
            "Trainable params: 8,802,635\n",
            "Non-trainable params: 0\n",
            "_________________________________________________________________\n"
          ]
        }
      ]
    },
    {
      "cell_type": "code",
      "source": [
        "model3.compile(\n",
        "    loss='categorical_crossentropy',\n",
        "    optimizer='rmsprop',\n",
        "    metrics=['accuracy']\n",
        ")"
      ],
      "metadata": {
        "id": "9l-UmyABV7ci"
      },
      "execution_count": null,
      "outputs": []
    },
    {
      "cell_type": "code",
      "source": [
        "callback = tf.keras.callbacks.EarlyStopping(monitor='val_loss', patience=5, restore_best_weights=True) # Early stop if val_loss sees no improvement\n",
        "\n",
        "history3 = model3.fit(train_images, train_labels, validation_split=0.2, epochs=15, batch_size=128, callbacks=[callback])"
      ],
      "metadata": {
        "colab": {
          "base_uri": "https://localhost:8080/"
        },
        "id": "eH72-UEfV8EG",
        "outputId": "0536846b-4bd2-4fbf-909a-484c370e4855"
      },
      "execution_count": null,
      "outputs": [
        {
          "output_type": "stream",
          "name": "stdout",
          "text": [
            "Epoch 1/15\n",
            "61/61 [==============================] - 15s 239ms/step - loss: 3.3190 - accuracy: 0.1822 - val_loss: 2.7287 - val_accuracy: 0.2702\n",
            "Epoch 2/15\n",
            "61/61 [==============================] - 14s 234ms/step - loss: 1.6767 - accuracy: 0.5367 - val_loss: 1.9543 - val_accuracy: 0.4648\n",
            "Epoch 3/15\n",
            "61/61 [==============================] - 13s 220ms/step - loss: 1.0613 - accuracy: 0.6891 - val_loss: 1.5596 - val_accuracy: 0.5523\n",
            "Epoch 4/15\n",
            "61/61 [==============================] - 14s 228ms/step - loss: 0.6774 - accuracy: 0.7939 - val_loss: 1.5534 - val_accuracy: 0.5709\n",
            "Epoch 5/15\n",
            "61/61 [==============================] - 14s 237ms/step - loss: 0.4264 - accuracy: 0.8630 - val_loss: 1.3548 - val_accuracy: 0.6341\n",
            "Epoch 6/15\n",
            "61/61 [==============================] - 13s 206ms/step - loss: 0.3004 - accuracy: 0.9017 - val_loss: 1.4527 - val_accuracy: 0.6211\n",
            "Epoch 7/15\n",
            "61/61 [==============================] - 14s 228ms/step - loss: 0.1839 - accuracy: 0.9438 - val_loss: 1.4565 - val_accuracy: 0.6532\n",
            "Epoch 8/15\n",
            "61/61 [==============================] - 14s 231ms/step - loss: 0.1361 - accuracy: 0.9587 - val_loss: 1.7799 - val_accuracy: 0.5859\n",
            "Epoch 9/15\n",
            "61/61 [==============================] - 14s 233ms/step - loss: 0.1058 - accuracy: 0.9693 - val_loss: 1.8320 - val_accuracy: 0.6165\n",
            "Epoch 10/15\n",
            "61/61 [==============================] - 14s 237ms/step - loss: 0.1036 - accuracy: 0.9735 - val_loss: 1.3735 - val_accuracy: 0.6837\n"
          ]
        }
      ]
    },
    {
      "cell_type": "code",
      "source": [
        "plot_loss(history3)"
      ],
      "metadata": {
        "colab": {
          "base_uri": "https://localhost:8080/",
          "height": 472
        },
        "id": "QMDBu2LRW1po",
        "outputId": "a327bf69-a0b4-44cc-a24b-b285741a9d5c"
      },
      "execution_count": null,
      "outputs": [
        {
          "output_type": "display_data",
          "data": {
            "text/plain": [
              "<Figure size 640x480 with 1 Axes>"
            ],
            "image/png": "[encoded data removed]"
          },
          "metadata": {}
        }
      ]
    },
    {
      "cell_type": "code",
      "source": [
        "model1_loss, model1_acc = model3.evaluate(test_images, test_labels)\n",
        "\n",
        "print('model3_acc:', model1_acc)"
      ],
      "metadata": {
        "colab": {
          "base_uri": "https://localhost:8080/"
        },
        "id": "UAG7ubPGXUuh",
        "outputId": "f26f87fd-ff8a-42d2-c202-f9d608e442fa"
      },
      "execution_count": null,
      "outputs": [
        {
          "output_type": "stream",
          "name": "stdout",
          "text": [
            "76/76 [==============================] - 2s 28ms/step - loss: 1.3249 - accuracy: 0.6766\n",
            "model3_acc: 0.6766045689582825\n"
          ]
        }
      ]
    },
    {
      "cell_type": "code",
      "source": [
        "import keras\n",
        "from keras import layers\n",
        "\n",
        "inputs = keras.Input(shape=(127*128,))\n",
        "\n",
        "# dense layers\n",
        "x = layers.Dense(512, activation='relu')(inputs)\n",
        "x = layers.Dense(512, activation='relu')(x)\n",
        "x = layers.Dense(512, activation='relu')(x)\n",
        "x = layers.Dense(256, activation='relu')(x)\n",
        "x = layers.Dense(256, activation='relu')(x)\n",
        "outputs = layers.Dense(75, activation='softmax')(x)\n",
        "\n",
        "# create a model\n",
        "model4 = keras.Model(inputs=inputs, outputs=outputs, name=\"model3\")\n",
        "\n",
        "# show the model1\n",
        "keras.utils.plot_model(model4, \"model4.png\", show_shapes=True)\n",
        "model4.summary()"
      ],
      "metadata": {
        "colab": {
          "base_uri": "https://localhost:8080/"
        },
        "id": "zC5N-SLCX5VC",
        "outputId": "b35e2e6e-3335-4837-cddc-f22d47f585f1"
      },
      "execution_count": null,
      "outputs": [
        {
          "output_type": "stream",
          "name": "stdout",
          "text": [
            "Model: \"model3\"\n",
            "_________________________________________________________________\n",
            " Layer (type)                Output Shape              Param #   \n",
            "=================================================================\n",
            " input_1 (InputLayer)        [(None, 16256)]           0         \n",
            "                                                                 \n",
            " dense (Dense)               (None, 512)               8323584   \n",
            "                                                                 \n",
            " dense_1 (Dense)             (None, 512)               262656    \n",
            "                                                                 \n",
            " dense_2 (Dense)             (None, 512)               262656    \n",
            "                                                                 \n",
            " dense_3 (Dense)             (None, 256)               131328    \n",
            "                                                                 \n",
            " dense_4 (Dense)             (None, 256)               65792     \n",
            "                                                                 \n",
            " dense_5 (Dense)             (None, 75)                19275     \n",
            "                                                                 \n",
            "=================================================================\n",
            "Total params: 9,065,291\n",
            "Trainable params: 9,065,291\n",
            "Non-trainable params: 0\n",
            "_________________________________________________________________\n"
          ]
        }
      ]
    },
    {
      "cell_type": "code",
      "source": [
        "model4.compile(\n",
        "    loss='categorical_crossentropy',\n",
        "    optimizer='rmsprop',\n",
        "    metrics=['accuracy']\n",
        ")"
      ],
      "metadata": {
        "id": "L7F55QBYeNKB"
      },
      "execution_count": null,
      "outputs": []
    },
    {
      "cell_type": "code",
      "source": [
        "callback = tf.keras.callbacks.EarlyStopping(monitor='val_loss', patience=10, restore_best_weights=True) # Early stop if val_loss sees no improvement\n",
        "\n",
        "history4 = model4.fit(train_images, train_labels, validation_split=0.2, epochs=15, batch_size=128, callbacks=[callback])"
      ],
      "metadata": {
        "colab": {
          "base_uri": "https://localhost:8080/"
        },
        "id": "1OvgVVC2eSXd",
        "outputId": "dc0cdb7d-f098-4a1b-d56a-98c4843f7315"
      },
      "execution_count": null,
      "outputs": [
        {
          "output_type": "stream",
          "name": "stdout",
          "text": [
            "Epoch 1/15\n",
            "61/61 [==============================] - 15s 221ms/step - loss: 3.7398 - accuracy: 0.0911 - val_loss: 3.0432 - val_accuracy: 0.2340\n",
            "Epoch 2/15\n",
            "61/61 [==============================] - 12s 197ms/step - loss: 2.1390 - accuracy: 0.4005 - val_loss: 2.3372 - val_accuracy: 0.3582\n",
            "Epoch 3/15\n",
            "61/61 [==============================] - 14s 228ms/step - loss: 1.3202 - accuracy: 0.6122 - val_loss: 1.8132 - val_accuracy: 0.5016\n",
            "Epoch 4/15\n",
            "61/61 [==============================] - 14s 234ms/step - loss: 0.8248 - accuracy: 0.7428 - val_loss: 1.7167 - val_accuracy: 0.5393\n",
            "Epoch 5/15\n",
            "61/61 [==============================] - 13s 219ms/step - loss: 0.5701 - accuracy: 0.8195 - val_loss: 1.2096 - val_accuracy: 0.6454\n",
            "Epoch 6/15\n",
            "61/61 [==============================] - 15s 245ms/step - loss: 0.3734 - accuracy: 0.8804 - val_loss: 1.7359 - val_accuracy: 0.5709\n",
            "Epoch 7/15\n",
            "61/61 [==============================] - 14s 223ms/step - loss: 0.2762 - accuracy: 0.9145 - val_loss: 1.3067 - val_accuracy: 0.6703\n",
            "Epoch 8/15\n",
            "61/61 [==============================] - 11s 186ms/step - loss: 0.1954 - accuracy: 0.9365 - val_loss: 1.7761 - val_accuracy: 0.5999\n",
            "Epoch 9/15\n",
            "61/61 [==============================] - 13s 219ms/step - loss: 0.1578 - accuracy: 0.9523 - val_loss: 1.4527 - val_accuracy: 0.6739\n",
            "Epoch 10/15\n",
            "61/61 [==============================] - 14s 233ms/step - loss: 0.1301 - accuracy: 0.9648 - val_loss: 1.3722 - val_accuracy: 0.6770\n",
            "Epoch 11/15\n",
            "61/61 [==============================] - 13s 216ms/step - loss: 0.1190 - accuracy: 0.9683 - val_loss: 1.4990 - val_accuracy: 0.6713\n",
            "Epoch 12/15\n",
            "61/61 [==============================] - 14s 235ms/step - loss: 0.0608 - accuracy: 0.9816 - val_loss: 1.7463 - val_accuracy: 0.6661\n",
            "Epoch 13/15\n",
            "61/61 [==============================] - 13s 205ms/step - loss: 0.0684 - accuracy: 0.9836 - val_loss: 1.4441 - val_accuracy: 0.7101\n",
            "Epoch 14/15\n",
            "61/61 [==============================] - 12s 203ms/step - loss: 0.0587 - accuracy: 0.9846 - val_loss: 1.5092 - val_accuracy: 0.6988\n",
            "Epoch 15/15\n",
            "61/61 [==============================] - 17s 280ms/step - loss: 0.0459 - accuracy: 0.9876 - val_loss: 2.0767 - val_accuracy: 0.6475\n"
          ]
        }
      ]
    },
    {
      "cell_type": "code",
      "source": [
        "plot_loss(history4)"
      ],
      "metadata": {
        "colab": {
          "base_uri": "https://localhost:8080/",
          "height": 472
        },
        "id": "QmQ6C1KDfE-e",
        "outputId": "36b6c715-dbc0-47fd-f7d3-088ab7e7992a"
      },
      "execution_count": null,
      "outputs": [
        {
          "output_type": "display_data",
          "data": {
            "text/plain": [
              "<Figure size 640x480 with 1 Axes>"
            ],
            "image/png": "[encoded data removed]"
          },
          "metadata": {}
        }
      ]
    },
    {
      "cell_type": "code",
      "source": [
        "model1_loss, model1_acc = model4.evaluate(test_images, test_labels)\n",
        "\n",
        "print('model4_acc:', model1_acc)"
      ],
      "metadata": {
        "colab": {
          "base_uri": "https://localhost:8080/"
        },
        "id": "7bCj_XXTgLWv",
        "outputId": "2811cd1d-c6f6-4a86-b138-9f949fa63538"
      },
      "execution_count": null,
      "outputs": [
        {
          "output_type": "stream",
          "name": "stdout",
          "text": [
            "76/76 [==============================] - 2s 24ms/step - loss: 1.0934 - accuracy: 0.6936\n",
            "model4_acc: 0.693581759929657\n"
          ]
        }
      ]
    },
    {
      "cell_type": "code",
      "source": [
        "import keras\n",
        "from keras import layers\n",
        "\n",
        "inputs = keras.Input(shape=(127*128,))\n",
        "\n",
        "# dense layers\n",
        "x = layers.Dense(512, activation='relu')(inputs)\n",
        "x = layers.Dense(512, activation='relu')(x) #ここ増やした\n",
        "x = layers.Dense(256, activation='relu')(x)\n",
        "outputs = layers.Dense(75, activation='softmax')(x)\n",
        "\n",
        "# create a model\n",
        "model5 = keras.Model(inputs=inputs, outputs=outputs, name=\"model5\")\n",
        "\n",
        "# show the model1\n",
        "keras.utils.plot_model(model5, \"model5.png\", show_shapes=True)\n",
        "model5.summary()"
      ],
      "metadata": {
        "colab": {
          "base_uri": "https://localhost:8080/"
        },
        "id": "DxFtUeUHhK5n",
        "outputId": "929cb8f1-d955-424f-d84a-1ef037780134"
      },
      "execution_count": null,
      "outputs": [
        {
          "output_type": "stream",
          "name": "stdout",
          "text": [
            "Model: \"model5\"\n",
            "_________________________________________________________________\n",
            " Layer (type)                Output Shape              Param #   \n",
            "=================================================================\n",
            " input_1 (InputLayer)        [(None, 16256)]           0         \n",
            "                                                                 \n",
            " dense (Dense)               (None, 512)               8323584   \n",
            "                                                                 \n",
            " dense_1 (Dense)             (None, 512)               262656    \n",
            "                                                                 \n",
            " dense_2 (Dense)             (None, 256)               131328    \n",
            "                                                                 \n",
            " dense_3 (Dense)             (None, 75)                19275     \n",
            "                                                                 \n",
            "=================================================================\n",
            "Total params: 8736843 (33.33 MB)\n",
            "Trainable params: 8736843 (33.33 MB)\n",
            "Non-trainable params: 0 (0.00 Byte)\n",
            "_________________________________________________________________\n"
          ]
        }
      ]
    },
    {
      "cell_type": "code",
      "source": [
        "model5.compile(\n",
        "    loss='categorical_crossentropy',\n",
        "    optimizer='rmsprop',\n",
        "    metrics=['accuracy']\n",
        ")"
      ],
      "metadata": {
        "id": "5-kk8gtLhxUT"
      },
      "execution_count": null,
      "outputs": []
    },
    {
      "cell_type": "code",
      "source": [
        "callback = tf.keras.callbacks.EarlyStopping(monitor='val_loss', patience=10, restore_best_weights=True) # Early stop if val_loss sees no improvement\n",
        "\n",
        "history5 = model5.fit(train_images, train_labels, validation_split=0.2, epochs=15, batch_size=128, callbacks=[callback])"
      ],
      "metadata": {
        "colab": {
          "base_uri": "https://localhost:8080/"
        },
        "id": "HelspEw7ubEW",
        "outputId": "d854b336-e53e-4b4a-fe6c-ecb49783b7b7"
      },
      "execution_count": null,
      "outputs": [
        {
          "output_type": "stream",
          "name": "stdout",
          "text": [
            "Epoch 1/15\n",
            "61/61 [==============================] - 8s 23ms/step - loss: 2.9784 - accuracy: 0.2655 - val_loss: 2.5117 - val_accuracy: 0.3447\n",
            "Epoch 2/15\n",
            "61/61 [==============================] - 1s 14ms/step - loss: 1.4403 - accuracy: 0.6131 - val_loss: 1.8589 - val_accuracy: 0.5104\n",
            "Epoch 3/15\n",
            "61/61 [==============================] - 1s 13ms/step - loss: 0.9047 - accuracy: 0.7479 - val_loss: 1.8552 - val_accuracy: 0.4959\n",
            "Epoch 4/15\n",
            "61/61 [==============================] - 1s 13ms/step - loss: 0.5554 - accuracy: 0.8373 - val_loss: 1.6476 - val_accuracy: 0.5487\n",
            "Epoch 5/15\n",
            "61/61 [==============================] - 1s 13ms/step - loss: 0.3439 - accuracy: 0.9027 - val_loss: 1.1601 - val_accuracy: 0.6786\n",
            "Epoch 6/15\n",
            "61/61 [==============================] - 1s 12ms/step - loss: 0.2110 - accuracy: 0.9380 - val_loss: 1.3391 - val_accuracy: 0.6454\n",
            "Epoch 7/15\n",
            "61/61 [==============================] - 1s 12ms/step - loss: 0.1257 - accuracy: 0.9660 - val_loss: 1.2920 - val_accuracy: 0.6677\n",
            "Epoch 8/15\n",
            "61/61 [==============================] - 1s 17ms/step - loss: 0.0881 - accuracy: 0.9785 - val_loss: 1.4198 - val_accuracy: 0.6698\n",
            "Epoch 9/15\n",
            "61/61 [==============================] - 1s 16ms/step - loss: 0.0620 - accuracy: 0.9858 - val_loss: 1.2568 - val_accuracy: 0.6962\n",
            "Epoch 10/15\n",
            "61/61 [==============================] - 1s 16ms/step - loss: 0.0441 - accuracy: 0.9890 - val_loss: 1.4610 - val_accuracy: 0.6812\n",
            "Epoch 11/15\n",
            "61/61 [==============================] - 1s 16ms/step - loss: 0.0563 - accuracy: 0.9863 - val_loss: 1.2699 - val_accuracy: 0.7019\n",
            "Epoch 12/15\n",
            "61/61 [==============================] - 1s 18ms/step - loss: 0.0263 - accuracy: 0.9928 - val_loss: 1.6669 - val_accuracy: 0.6770\n",
            "Epoch 13/15\n",
            "61/61 [==============================] - 1s 14ms/step - loss: 0.0216 - accuracy: 0.9946 - val_loss: 1.4992 - val_accuracy: 0.7013\n",
            "Epoch 14/15\n",
            "61/61 [==============================] - 1s 13ms/step - loss: 0.0207 - accuracy: 0.9951 - val_loss: 1.4558 - val_accuracy: 0.7158\n",
            "Epoch 15/15\n",
            "61/61 [==============================] - 1s 13ms/step - loss: 0.0218 - accuracy: 0.9956 - val_loss: 1.4408 - val_accuracy: 0.7024\n"
          ]
        }
      ]
    },
    {
      "cell_type": "code",
      "source": [
        "plot_loss(history5)"
      ],
      "metadata": {
        "colab": {
          "base_uri": "https://localhost:8080/",
          "height": 472
        },
        "id": "uSrDuU27rut2",
        "outputId": "7e588d83-fbe9-4d6c-d4e9-97327a2ae63b"
      },
      "execution_count": null,
      "outputs": [
        {
          "output_type": "display_data",
          "data": {
            "text/plain": [
              "<Figure size 640x480 with 1 Axes>"
            ],
            "image/png": "[encoded data removed]"
          },
          "metadata": {}
        }
      ]
    },
    {
      "cell_type": "code",
      "source": [
        "model1_loss, model1_acc = model5.evaluate(test_images, test_labels)\n",
        "\n",
        "print('model5_acc:', model1_acc)"
      ],
      "metadata": {
        "colab": {
          "base_uri": "https://localhost:8080/"
        },
        "id": "S2_CFFnsrzlZ",
        "outputId": "37e706ae-37d3-4351-ef22-b5205e45aa7e"
      },
      "execution_count": null,
      "outputs": [
        {
          "output_type": "stream",
          "name": "stdout",
          "text": [
            "76/76 [==============================] - 0s 4ms/step - loss: 1.0377 - accuracy: 0.7226\n",
            "model5_acc: 0.7225672602653503\n"
          ]
        }
      ]
    },
    {
      "cell_type": "code",
      "source": [
        "inputs = keras.Input(shape=(127*128,))\n",
        "\n",
        "# dense layers\n",
        "x = layers.Dense(512, activation='relu')(inputs)\n",
        "x = layers.Dense(512, activation='relu')(x) #ここ増やした\n",
        "x = layers.Dense(512, activation='relu')(x)\n",
        "outputs = layers.Dense(75, activation='softmax')(x)\n",
        "\n",
        "# create a model\n",
        "model6 = keras.Model(inputs=inputs, outputs=outputs, name=\"model6\")\n",
        "\n",
        "# show the model1\n",
        "keras.utils.plot_model(model6, \"model6.png\", show_shapes=True)\n",
        "model6.summary()"
      ],
      "metadata": {
        "colab": {
          "base_uri": "https://localhost:8080/"
        },
        "id": "cGjestwqvDGF",
        "outputId": "3325457e-8d9f-45ac-91f7-f2b9203ad567"
      },
      "execution_count": null,
      "outputs": [
        {
          "output_type": "stream",
          "name": "stdout",
          "text": [
            "Model: \"model6\"\n",
            "_________________________________________________________________\n",
            " Layer (type)                Output Shape              Param #   \n",
            "=================================================================\n",
            " input_1 (InputLayer)        [(None, 16256)]           0         \n",
            "                                                                 \n",
            " dense (Dense)               (None, 512)               8323584   \n",
            "                                                                 \n",
            " dense_1 (Dense)             (None, 512)               262656    \n",
            "                                                                 \n",
            " dense_2 (Dense)             (None, 512)               262656    \n",
            "                                                                 \n",
            " dense_3 (Dense)             (None, 75)                38475     \n",
            "                                                                 \n",
            "=================================================================\n",
            "Total params: 8,887,371\n",
            "Trainable params: 8,887,371\n",
            "Non-trainable params: 0\n",
            "_________________________________________________________________\n"
          ]
        }
      ]
    },
    {
      "cell_type": "code",
      "source": [
        "model6.compile(\n",
        "    loss='categorical_crossentropy',\n",
        "    optimizer='rmsprop',\n",
        "    metrics=['accuracy']\n",
        ")"
      ],
      "metadata": {
        "id": "4HF8vUCWvTOf"
      },
      "execution_count": null,
      "outputs": []
    },
    {
      "cell_type": "code",
      "source": [
        "callback = tf.keras.callbacks.EarlyStopping(monitor='val_loss', patience=10, restore_best_weights=True) # Early stop if val_loss sees no improvement\n",
        "\n",
        "history6 = model6.fit(train_images, train_labels, validation_split=0.2, epochs=15, batch_size=128, callbacks=[callback])"
      ],
      "metadata": {
        "colab": {
          "base_uri": "https://localhost:8080/"
        },
        "id": "O4a9G_-KvYZ8",
        "outputId": "e30baa28-1801-4181-a99f-54efc91ce466"
      },
      "execution_count": null,
      "outputs": [
        {
          "output_type": "stream",
          "name": "stdout",
          "text": [
            "Epoch 1/15\n",
            "61/61 [==============================] - 18s 255ms/step - loss: 2.9930 - accuracy: 0.2528 - val_loss: 2.3047 - val_accuracy: 0.4006\n",
            "Epoch 2/15\n",
            "61/61 [==============================] - 13s 212ms/step - loss: 1.4325 - accuracy: 0.6137 - val_loss: 1.8201 - val_accuracy: 0.5212\n",
            "Epoch 3/15\n",
            "61/61 [==============================] - 12s 187ms/step - loss: 0.8760 - accuracy: 0.7519 - val_loss: 1.5258 - val_accuracy: 0.5828\n",
            "Epoch 4/15\n",
            "61/61 [==============================] - 13s 217ms/step - loss: 0.5179 - accuracy: 0.8487 - val_loss: 1.3251 - val_accuracy: 0.6201\n",
            "Epoch 5/15\n",
            "61/61 [==============================] - 13s 219ms/step - loss: 0.3277 - accuracy: 0.9006 - val_loss: 1.2597 - val_accuracy: 0.6558\n",
            "Epoch 6/15\n",
            "61/61 [==============================] - 15s 239ms/step - loss: 0.2066 - accuracy: 0.9423 - val_loss: 1.2833 - val_accuracy: 0.6661\n",
            "Epoch 7/15\n",
            "61/61 [==============================] - 13s 222ms/step - loss: 0.1541 - accuracy: 0.9569 - val_loss: 1.2866 - val_accuracy: 0.6641\n",
            "Epoch 8/15\n",
            "61/61 [==============================] - 11s 187ms/step - loss: 0.0742 - accuracy: 0.9797 - val_loss: 1.3527 - val_accuracy: 0.6672\n",
            "Epoch 9/15\n",
            "61/61 [==============================] - 12s 195ms/step - loss: 0.0587 - accuracy: 0.9841 - val_loss: 1.3559 - val_accuracy: 0.6941\n",
            "Epoch 10/15\n",
            "61/61 [==============================] - 13s 221ms/step - loss: 0.0494 - accuracy: 0.9878 - val_loss: 1.3269 - val_accuracy: 0.7086\n",
            "Epoch 11/15\n",
            "61/61 [==============================] - 13s 222ms/step - loss: 0.0285 - accuracy: 0.9931 - val_loss: 1.4290 - val_accuracy: 0.6998\n",
            "Epoch 12/15\n",
            "61/61 [==============================] - 13s 222ms/step - loss: 0.0201 - accuracy: 0.9962 - val_loss: 1.4446 - val_accuracy: 0.6905\n",
            "Epoch 13/15\n",
            "61/61 [==============================] - 13s 208ms/step - loss: 0.0071 - accuracy: 0.9984 - val_loss: 1.3767 - val_accuracy: 0.7112\n",
            "Epoch 14/15\n",
            "61/61 [==============================] - 12s 203ms/step - loss: 0.0062 - accuracy: 0.9988 - val_loss: 1.4066 - val_accuracy: 0.7210\n",
            "Epoch 15/15\n",
            "61/61 [==============================] - 13s 216ms/step - loss: 0.0068 - accuracy: 0.9984 - val_loss: 1.5200 - val_accuracy: 0.7081\n"
          ]
        }
      ]
    },
    {
      "cell_type": "code",
      "source": [
        "plot_loss(history6)"
      ],
      "metadata": {
        "colab": {
          "base_uri": "https://localhost:8080/",
          "height": 472
        },
        "id": "eC_WBQABvenE",
        "outputId": "e72b494d-51a5-4f1e-bfbb-04a9b1517b08"
      },
      "execution_count": null,
      "outputs": [
        {
          "output_type": "display_data",
          "data": {
            "text/plain": [
              "<Figure size 640x480 with 1 Axes>"
            ],
            "image/png": "[encoded data removed]"
          },
          "metadata": {}
        }
      ]
    },
    {
      "cell_type": "code",
      "source": [
        "model1_loss, model1_acc = model6.evaluate(test_images, test_labels)\n",
        "\n",
        "print('model6_acc:', model1_acc)"
      ],
      "metadata": {
        "colab": {
          "base_uri": "https://localhost:8080/"
        },
        "id": "uaorALrnvjvK",
        "outputId": "b07ad549-4971-4778-a54c-a9bda323adcc"
      },
      "execution_count": null,
      "outputs": [
        {
          "output_type": "stream",
          "name": "stdout",
          "text": [
            "76/76 [==============================] - 2s 24ms/step - loss: 1.1632 - accuracy: 0.6911\n",
            "model6_acc: 0.6910973191261292\n"
          ]
        }
      ]
    },
    {
      "cell_type": "code",
      "source": [
        "inputs = keras.Input(shape=(127*128,))\n",
        "\n",
        "# dense layers\n",
        "x = layers.Dense(512, activation='gelu')(inputs) #gelu(inputs)\n",
        "x = layers.Dense(512, activation='gelu')(x)\n",
        "x = layers.Dense(256, activation='gelu')(x)\n",
        "outputs = layers.Dense(75, activation='softmax')(x)\n",
        "\n",
        "# create a model\n",
        "model7 = keras.Model(inputs=inputs, outputs=outputs, name=\"model7\")\n",
        "\n",
        "# show the model1\n",
        "keras.utils.plot_model(model7, \"model7.png\", show_shapes=True)\n",
        "model7.summary()"
      ],
      "metadata": {
        "colab": {
          "base_uri": "https://localhost:8080/"
        },
        "id": "vfUCKa8MlV79",
        "outputId": "139bc615-6aa8-4381-9a34-c1283ab9f04c"
      },
      "execution_count": null,
      "outputs": [
        {
          "output_type": "stream",
          "name": "stdout",
          "text": [
            "Model: \"model7\"\n",
            "_________________________________________________________________\n",
            " Layer (type)                Output Shape              Param #   \n",
            "=================================================================\n",
            " input_2 (InputLayer)        [(None, 16256)]           0         \n",
            "                                                                 \n",
            " dense_8 (Dense)             (None, 512)               8323584   \n",
            "                                                                 \n",
            " dense_9 (Dense)             (None, 512)               262656    \n",
            "                                                                 \n",
            " dense_10 (Dense)            (None, 256)               131328    \n",
            "                                                                 \n",
            " dense_11 (Dense)            (None, 75)                19275     \n",
            "                                                                 \n",
            "=================================================================\n",
            "Total params: 8736843 (33.33 MB)\n",
            "Trainable params: 8736843 (33.33 MB)\n",
            "Non-trainable params: 0 (0.00 Byte)\n",
            "_________________________________________________________________\n"
          ]
        }
      ]
    },
    {
      "cell_type": "code",
      "source": [
        "model7.compile(\n",
        "    loss='categorical_crossentropy',\n",
        "    optimizer='rmsprop',\n",
        "    metrics=['accuracy']\n",
        ")"
      ],
      "metadata": {
        "id": "L8ISAHuClrQG"
      },
      "execution_count": null,
      "outputs": []
    },
    {
      "cell_type": "code",
      "source": [
        "callback = tf.keras.callbacks.EarlyStopping(monitor='val_loss', patience=10, restore_best_weights=True) # Early stop if val_loss sees no improvement\n",
        "\n",
        "history7 = model7.fit(train_images, train_labels, validation_split=0.2, epochs=15, batch_size=128, callbacks=[callback])"
      ],
      "metadata": {
        "colab": {
          "base_uri": "https://localhost:8080/"
        },
        "id": "6zuq-97ewNM8",
        "outputId": "91f59e53-0c00-43f8-9548-af20b33eb541"
      },
      "execution_count": null,
      "outputs": [
        {
          "output_type": "stream",
          "name": "stdout",
          "text": [
            "Epoch 1/15\n",
            "61/61 [==============================] - 3s 24ms/step - loss: 3.0375 - accuracy: 0.2706 - val_loss: 2.6690 - val_accuracy: 0.3349\n",
            "Epoch 2/15\n",
            "61/61 [==============================] - 1s 16ms/step - loss: 1.4338 - accuracy: 0.6218 - val_loss: 1.8381 - val_accuracy: 0.5228\n",
            "Epoch 3/15\n",
            "61/61 [==============================] - 1s 16ms/step - loss: 0.8851 - accuracy: 0.7544 - val_loss: 1.4491 - val_accuracy: 0.6289\n",
            "Epoch 4/15\n",
            "61/61 [==============================] - 1s 14ms/step - loss: 0.5558 - accuracy: 0.8376 - val_loss: 1.3215 - val_accuracy: 0.6486\n",
            "Epoch 5/15\n",
            "61/61 [==============================] - 1s 13ms/step - loss: 0.3487 - accuracy: 0.8925 - val_loss: 1.2353 - val_accuracy: 0.6641\n",
            "Epoch 6/15\n",
            "61/61 [==============================] - 1s 13ms/step - loss: 0.2297 - accuracy: 0.9308 - val_loss: 1.2113 - val_accuracy: 0.6594\n",
            "Epoch 7/15\n",
            "61/61 [==============================] - 1s 13ms/step - loss: 0.1427 - accuracy: 0.9604 - val_loss: 1.2784 - val_accuracy: 0.6853\n",
            "Epoch 8/15\n",
            "61/61 [==============================] - 1s 13ms/step - loss: 0.1020 - accuracy: 0.9704 - val_loss: 1.3327 - val_accuracy: 0.6827\n",
            "Epoch 9/15\n",
            "61/61 [==============================] - 1s 13ms/step - loss: 0.0626 - accuracy: 0.9849 - val_loss: 1.3588 - val_accuracy: 0.6967\n",
            "Epoch 10/15\n",
            "61/61 [==============================] - 1s 13ms/step - loss: 0.0542 - accuracy: 0.9850 - val_loss: 1.4236 - val_accuracy: 0.6967\n",
            "Epoch 11/15\n",
            "61/61 [==============================] - 1s 12ms/step - loss: 0.0396 - accuracy: 0.9903 - val_loss: 1.4851 - val_accuracy: 0.6894\n",
            "Epoch 12/15\n",
            "61/61 [==============================] - 1s 13ms/step - loss: 0.0332 - accuracy: 0.9918 - val_loss: 1.5023 - val_accuracy: 0.6946\n",
            "Epoch 13/15\n",
            "61/61 [==============================] - 1s 13ms/step - loss: 0.0289 - accuracy: 0.9929 - val_loss: 1.4960 - val_accuracy: 0.7096\n",
            "Epoch 14/15\n",
            "61/61 [==============================] - 1s 13ms/step - loss: 0.0227 - accuracy: 0.9943 - val_loss: 1.5974 - val_accuracy: 0.7065\n",
            "Epoch 15/15\n",
            "61/61 [==============================] - 1s 13ms/step - loss: 0.0150 - accuracy: 0.9961 - val_loss: 1.6156 - val_accuracy: 0.7055\n"
          ]
        }
      ]
    },
    {
      "cell_type": "code",
      "source": [
        "plot_loss(history7)"
      ],
      "metadata": {
        "colab": {
          "base_uri": "https://localhost:8080/",
          "height": 472
        },
        "id": "9wqUDrQesDqt",
        "outputId": "9aaefe3e-08ce-4885-84c6-8fbde7250d64"
      },
      "execution_count": null,
      "outputs": [
        {
          "output_type": "display_data",
          "data": {
            "text/plain": [
              "<Figure size 640x480 with 1 Axes>"
            ],
            "image/png": "[encoded data removed]"
          },
          "metadata": {}
        }
      ]
    },
    {
      "cell_type": "code",
      "source": [
        "model1_loss, model1_acc = model7.evaluate(test_images, test_labels)\n",
        "\n",
        "print('model7_acc:', model1_acc)"
      ],
      "metadata": {
        "colab": {
          "base_uri": "https://localhost:8080/"
        },
        "id": "DZRB4qTVr2xH",
        "outputId": "5dce4d83-87d5-433c-fd5e-8844726d71d5"
      },
      "execution_count": null,
      "outputs": [
        {
          "output_type": "stream",
          "name": "stdout",
          "text": [
            "76/76 [==============================] - 0s 4ms/step - loss: 1.5174 - accuracy: 0.7590\n",
            "model7_acc: 0.7590062022209167\n"
          ]
        }
      ]
    },
    {
      "cell_type": "code",
      "source": [
        "\n",
        "inputs = keras.Input(shape=(127*128,))\n",
        "\n",
        "# dense layers\n",
        "dense = layers.Dense(512, activation='gelu')\n",
        "x = dense(inputs)\n",
        "x = layers.Dense(512, activation='gelu')(x) #ここいい法で\n",
        "x = layers.Dense(256, activation='gelu')(x)\n",
        "outputs = layers.Dense(75, activation='softmax')(x)\n",
        "\n",
        "# create a model\n",
        "model8 = keras.Model(inputs=inputs, outputs=outputs, name=\"model8\")\n",
        "\n",
        "# show the model1\n",
        "keras.utils.plot_model(model8, \"model8.png\", show_shapes=True)\n",
        "model8.summary()"
      ],
      "metadata": {
        "colab": {
          "base_uri": "https://localhost:8080/"
        },
        "id": "ykTRFlelqKZ1",
        "outputId": "c911e4da-beba-46fc-b001-42354d7e4387"
      },
      "execution_count": null,
      "outputs": [
        {
          "output_type": "stream",
          "name": "stdout",
          "text": [
            "Model: \"model8\"\n",
            "_________________________________________________________________\n",
            " Layer (type)                Output Shape              Param #   \n",
            "=================================================================\n",
            " input_4 (InputLayer)        [(None, 16256)]           0         \n",
            "                                                                 \n",
            " dense_16 (Dense)            (None, 512)               8323584   \n",
            "                                                                 \n",
            " dense_17 (Dense)            (None, 512)               262656    \n",
            "                                                                 \n",
            " dense_18 (Dense)            (None, 256)               131328    \n",
            "                                                                 \n",
            " dense_19 (Dense)            (None, 75)                19275     \n",
            "                                                                 \n",
            "=================================================================\n",
            "Total params: 8736843 (33.33 MB)\n",
            "Trainable params: 8736843 (33.33 MB)\n",
            "Non-trainable params: 0 (0.00 Byte)\n",
            "_________________________________________________________________\n"
          ]
        }
      ]
    },
    {
      "cell_type": "code",
      "source": [
        "model8.compile(\n",
        "    loss='categorical_crossentropy',\n",
        "    optimizer='adam', # adam で\n",
        "    metrics=['accuracy']\n",
        ")"
      ],
      "metadata": {
        "id": "UStp4QITqMRE"
      },
      "execution_count": null,
      "outputs": []
    },
    {
      "cell_type": "code",
      "source": [
        "callback = tf.keras.callbacks.EarlyStopping(monitor='val_loss', patience=10, restore_best_weights=True) # Early stop if val_loss sees no improvement\n",
        "\n",
        "history8 = model8.fit(train_images, train_labels, validation_split=0.2, epochs=15, batch_size=128, callbacks=[callback])"
      ],
      "metadata": {
        "colab": {
          "base_uri": "https://localhost:8080/"
        },
        "id": "ZRNasRzUwzoo",
        "outputId": "d5f9d008-d5eb-40db-d213-852265c0c27c"
      },
      "execution_count": null,
      "outputs": [
        {
          "output_type": "stream",
          "name": "stdout",
          "text": [
            "Epoch 1/15\n",
            "61/61 [==============================] - 3s 23ms/step - loss: 2.5857 - accuracy: 0.3797 - val_loss: 1.8949 - val_accuracy: 0.5399\n",
            "Epoch 2/15\n",
            "61/61 [==============================] - 1s 15ms/step - loss: 1.0204 - accuracy: 0.7270 - val_loss: 1.4416 - val_accuracy: 0.6247\n",
            "Epoch 3/15\n",
            "61/61 [==============================] - 1s 18ms/step - loss: 0.5384 - accuracy: 0.8503 - val_loss: 1.3158 - val_accuracy: 0.6470\n",
            "Epoch 4/15\n",
            "61/61 [==============================] - 1s 20ms/step - loss: 0.2927 - accuracy: 0.9182 - val_loss: 1.2693 - val_accuracy: 0.6765\n",
            "Epoch 5/15\n",
            "61/61 [==============================] - 2s 25ms/step - loss: 0.1762 - accuracy: 0.9555 - val_loss: 1.2701 - val_accuracy: 0.6760\n",
            "Epoch 6/15\n",
            "61/61 [==============================] - 2s 29ms/step - loss: 0.1184 - accuracy: 0.9705 - val_loss: 1.2606 - val_accuracy: 0.6879\n",
            "Epoch 7/15\n",
            "61/61 [==============================] - 1s 20ms/step - loss: 0.0592 - accuracy: 0.9882 - val_loss: 1.3960 - val_accuracy: 0.6951\n",
            "Epoch 8/15\n",
            "61/61 [==============================] - 1s 15ms/step - loss: 0.0748 - accuracy: 0.9819 - val_loss: 1.3846 - val_accuracy: 0.6889\n",
            "Epoch 9/15\n",
            "61/61 [==============================] - 1s 14ms/step - loss: 0.0519 - accuracy: 0.9882 - val_loss: 1.3908 - val_accuracy: 0.6931\n",
            "Epoch 10/15\n",
            "61/61 [==============================] - 1s 13ms/step - loss: 0.0567 - accuracy: 0.9865 - val_loss: 1.4116 - val_accuracy: 0.6765\n",
            "Epoch 11/15\n",
            "61/61 [==============================] - 1s 13ms/step - loss: 0.0553 - accuracy: 0.9865 - val_loss: 1.4016 - val_accuracy: 0.6806\n",
            "Epoch 12/15\n",
            "61/61 [==============================] - 1s 13ms/step - loss: 0.0354 - accuracy: 0.9926 - val_loss: 1.4456 - val_accuracy: 0.6853\n",
            "Epoch 13/15\n",
            "61/61 [==============================] - 1s 14ms/step - loss: 0.0590 - accuracy: 0.9846 - val_loss: 1.5593 - val_accuracy: 0.6744\n",
            "Epoch 14/15\n",
            "61/61 [==============================] - 1s 14ms/step - loss: 0.0401 - accuracy: 0.9899 - val_loss: 1.6201 - val_accuracy: 0.6594\n",
            "Epoch 15/15\n",
            "61/61 [==============================] - 1s 14ms/step - loss: 0.0475 - accuracy: 0.9886 - val_loss: 1.4906 - val_accuracy: 0.6832\n"
          ]
        }
      ]
    },
    {
      "cell_type": "code",
      "source": [
        "plot_loss(history8)"
      ],
      "metadata": {
        "colab": {
          "base_uri": "https://localhost:8080/",
          "height": 472
        },
        "id": "UPKvH_MzsGUd",
        "outputId": "62bb3d04-2f51-4158-bfc4-f78351c69d68"
      },
      "execution_count": null,
      "outputs": [
        {
          "output_type": "display_data",
          "data": {
            "text/plain": [
              "<Figure size 640x480 with 1 Axes>"
            ],
            "image/png": "[encoded data removed]"
          },
          "metadata": {}
        }
      ]
    },
    {
      "cell_type": "code",
      "source": [
        "model1_loss, model1_acc = model8.evaluate(test_images, test_labels)\n",
        "\n",
        "print('model8_acc:', model1_acc)"
      ],
      "metadata": {
        "colab": {
          "base_uri": "https://localhost:8080/"
        },
        "id": "X2pmwtMcr583",
        "outputId": "1c06bc0c-ba45-42d5-8ff0-95ec38611b41"
      },
      "execution_count": null,
      "outputs": [
        {
          "output_type": "stream",
          "name": "stdout",
          "text": [
            "76/76 [==============================] - 0s 6ms/step - loss: 1.4002 - accuracy: 0.7400\n",
            "model8_acc: 0.7399585843086243\n"
          ]
        }
      ]
    },
    {
      "cell_type": "markdown",
      "source": [
        "ここまでだとModel7が一番良さそう。"
      ],
      "metadata": {
        "id": "Bln6hAGcyX97"
      }
    },
    {
      "cell_type": "markdown",
      "source": [
        "Model2改"
      ],
      "metadata": {
        "id": "nakfKMkxXA6H"
      }
    },
    {
      "cell_type": "code",
      "source": [
        "import keras\n",
        "from keras import layers\n",
        "\n",
        "inputs = keras.Input(shape=(127*128,))\n",
        "\n",
        "# dense layers\n",
        "x = layers.Dense(512, activation='gelu')(inputs) #gelu\n",
        "x = layers.Dense(256, activation='gelu')(x)\n",
        "x = layers.Dense(256, activation='gelu')(x)\n",
        "outputs = layers.Dense(75, activation='softmax')(x)\n",
        "\n",
        "# create a model\n",
        "model22 = keras.Model(inputs=inputs, outputs=outputs, name=\"model22\")\n",
        "\n",
        "# show the model1\n",
        "keras.utils.plot_model(model22, \"model22.png\", show_shapes=True)\n",
        "model22.summary()"
      ],
      "metadata": {
        "id": "1dtdK1bBA3kg",
        "colab": {
          "base_uri": "https://localhost:8080/"
        },
        "outputId": "ef546b90-7eee-4c91-b6fd-db61236e225f"
      },
      "execution_count": null,
      "outputs": [
        {
          "output_type": "stream",
          "name": "stdout",
          "text": [
            "Model: \"model22\"\n",
            "_________________________________________________________________\n",
            " Layer (type)                Output Shape              Param #   \n",
            "=================================================================\n",
            " input_1 (InputLayer)        [(None, 16256)]           0         \n",
            "                                                                 \n",
            " dense (Dense)               (None, 512)               8323584   \n",
            "                                                                 \n",
            " dense_1 (Dense)             (None, 256)               131328    \n",
            "                                                                 \n",
            " dense_2 (Dense)             (None, 256)               65792     \n",
            "                                                                 \n",
            " dense_3 (Dense)             (None, 75)                19275     \n",
            "                                                                 \n",
            "=================================================================\n",
            "Total params: 8,539,979\n",
            "Trainable params: 8,539,979\n",
            "Non-trainable params: 0\n",
            "_________________________________________________________________\n"
          ]
        }
      ]
    },
    {
      "cell_type": "code",
      "source": [
        "model22.compile(\n",
        "    loss='categorical_crossentropy',\n",
        "    optimizer='rmsprop', # rmsprop で\n",
        "    metrics=['accuracy']\n",
        ")"
      ],
      "metadata": {
        "id": "zLHT7-wjXjd8"
      },
      "execution_count": null,
      "outputs": []
    },
    {
      "cell_type": "code",
      "source": [
        "callback = tf.keras.callbacks.EarlyStopping(monitor='val_loss', patience=10, restore_best_weights=True) # Early stop if val_loss sees no improvement\n",
        "\n",
        "history22 = model22.fit(train_images, train_labels, validation_split=0.2, epochs=15, batch_size=128, callbacks=[callback])"
      ],
      "metadata": {
        "colab": {
          "base_uri": "https://localhost:8080/"
        },
        "id": "_Hgk37P8XlCu",
        "outputId": "f0421724-4d24-4161-a666-08036aea74ec"
      },
      "execution_count": null,
      "outputs": [
        {
          "output_type": "stream",
          "name": "stdout",
          "text": [
            "Epoch 1/15\n",
            "61/61 [==============================] - 17s 266ms/step - loss: 3.0933 - accuracy: 0.2528 - val_loss: 2.4143 - val_accuracy: 0.4156\n",
            "Epoch 2/15\n",
            "61/61 [==============================] - 13s 217ms/step - loss: 1.4978 - accuracy: 0.6143 - val_loss: 1.9140 - val_accuracy: 0.5186\n",
            "Epoch 3/15\n",
            "61/61 [==============================] - 12s 190ms/step - loss: 0.9430 - accuracy: 0.7475 - val_loss: 1.5329 - val_accuracy: 0.5947\n",
            "Epoch 4/15\n",
            "61/61 [==============================] - 12s 197ms/step - loss: 0.6207 - accuracy: 0.8266 - val_loss: 1.3769 - val_accuracy: 0.6310\n",
            "Epoch 5/15\n",
            "61/61 [==============================] - 14s 231ms/step - loss: 0.4103 - accuracy: 0.8850 - val_loss: 1.2073 - val_accuracy: 0.6718\n",
            "Epoch 6/15\n",
            "61/61 [==============================] - 13s 216ms/step - loss: 0.2670 - accuracy: 0.9253 - val_loss: 1.2947 - val_accuracy: 0.6558\n",
            "Epoch 7/15\n",
            "61/61 [==============================] - 14s 224ms/step - loss: 0.1711 - accuracy: 0.9557 - val_loss: 1.3045 - val_accuracy: 0.6775\n",
            "Epoch 8/15\n",
            "61/61 [==============================] - 12s 203ms/step - loss: 0.1281 - accuracy: 0.9657 - val_loss: 1.5108 - val_accuracy: 0.6444\n",
            "Epoch 9/15\n",
            "61/61 [==============================] - 11s 186ms/step - loss: 0.0840 - accuracy: 0.9790 - val_loss: 1.6032 - val_accuracy: 0.6496\n",
            "Epoch 10/15\n",
            "61/61 [==============================] - 13s 209ms/step - loss: 0.0605 - accuracy: 0.9865 - val_loss: 1.3616 - val_accuracy: 0.7065\n",
            "Epoch 11/15\n",
            "61/61 [==============================] - 13s 218ms/step - loss: 0.0568 - accuracy: 0.9851 - val_loss: 1.4578 - val_accuracy: 0.6806\n",
            "Epoch 12/15\n",
            "61/61 [==============================] - 12s 205ms/step - loss: 0.0350 - accuracy: 0.9918 - val_loss: 1.5739 - val_accuracy: 0.6796\n",
            "Epoch 13/15\n",
            "61/61 [==============================] - 11s 181ms/step - loss: 0.0232 - accuracy: 0.9959 - val_loss: 1.5690 - val_accuracy: 0.7024\n",
            "Epoch 14/15\n",
            "61/61 [==============================] - 13s 217ms/step - loss: 0.0394 - accuracy: 0.9912 - val_loss: 1.4782 - val_accuracy: 0.6998\n",
            "Epoch 15/15\n",
            "61/61 [==============================] - 18s 282ms/step - loss: 0.0119 - accuracy: 0.9981 - val_loss: 1.5654 - val_accuracy: 0.7122\n"
          ]
        }
      ]
    },
    {
      "cell_type": "code",
      "source": [
        "plot_loss(history22)"
      ],
      "metadata": {
        "colab": {
          "base_uri": "https://localhost:8080/",
          "height": 472
        },
        "id": "2NOZqo3oXsw2",
        "outputId": "cc429c4c-95b2-4ca2-ad62-3237ef8c2a80"
      },
      "execution_count": null,
      "outputs": [
        {
          "output_type": "display_data",
          "data": {
            "text/plain": [
              "<Figure size 640x480 with 1 Axes>"
            ],
            "image/png": "[encoded data removed]"
          },
          "metadata": {}
        }
      ]
    },
    {
      "cell_type": "code",
      "source": [
        "model1_loss, model1_acc = model22.evaluate(test_images, test_labels)\n",
        "\n",
        "print('model22_acc:', model1_acc)"
      ],
      "metadata": {
        "colab": {
          "base_uri": "https://localhost:8080/"
        },
        "id": "1qDeushaXyg4",
        "outputId": "f6098a3c-29bb-4d8f-ee1d-63263033cfa7"
      },
      "execution_count": null,
      "outputs": [
        {
          "output_type": "stream",
          "name": "stdout",
          "text": [
            "76/76 [==============================] - 2s 20ms/step - loss: 1.0949 - accuracy: 0.7271\n",
            "model22_acc: 0.7271221280097961\n"
          ]
        }
      ]
    },
    {
      "cell_type": "markdown",
      "source": [
        "L2 regularization"
      ],
      "metadata": {
        "id": "MF7OxOND_nsA"
      }
    },
    {
      "cell_type": "code",
      "source": [
        "from tensorflow.keras import regularizers\n",
        "\n",
        "inputs = keras.Input(shape=(127*128,))\n",
        "\n",
        "# dense layers\n",
        "dense = layers.Dense(512, kernel_regularizer=regularizers.l2(0.02), activation='gelu') #gelu\n",
        "x = dense(inputs)\n",
        "x = layers.Dense(512, kernel_regularizer=regularizers.l2(0.02), activation='gelu')(x)\n",
        "x = layers.Dense(256, kernel_regularizer=regularizers.l2(0.02), activation='gelu')(x)\n",
        "outputs = layers.Dense(75, activation='softmax')(x)\n",
        "\n",
        "# create a model\n",
        "model9 = keras.Model(inputs=inputs, outputs=outputs, name=\"model9\")\n",
        "\n",
        "# show the model1\n",
        "keras.utils.plot_model(model9, \"model9.png\", show_shapes=True)\n",
        "model9.summary()\n",
        "\n",
        "model9.compile(\n",
        "    loss='categorical_crossentropy',\n",
        "    optimizer='rmsprop',\n",
        "    metrics=['accuracy']\n",
        ")"
      ],
      "metadata": {
        "id": "gglI7ctK9Ekw",
        "colab": {
          "base_uri": "https://localhost:8080/"
        },
        "outputId": "e559e387-6612-4f66-fa35-a66c8448b758"
      },
      "execution_count": null,
      "outputs": [
        {
          "output_type": "stream",
          "name": "stdout",
          "text": [
            "Model: \"model9\"\n",
            "_________________________________________________________________\n",
            " Layer (type)                Output Shape              Param #   \n",
            "=================================================================\n",
            " input_2 (InputLayer)        [(None, 16256)]           0         \n",
            "                                                                 \n",
            " dense (Dense)               (None, 512)               8323584   \n",
            "                                                                 \n",
            " dense_1 (Dense)             (None, 512)               262656    \n",
            "                                                                 \n",
            " dense_2 (Dense)             (None, 256)               131328    \n",
            "                                                                 \n",
            " dense_3 (Dense)             (None, 75)                19275     \n",
            "                                                                 \n",
            "=================================================================\n",
            "Total params: 8,736,843\n",
            "Trainable params: 8,736,843\n",
            "Non-trainable params: 0\n",
            "_________________________________________________________________\n"
          ]
        }
      ]
    },
    {
      "cell_type": "code",
      "source": [
        "callback = tf.keras.callbacks.EarlyStopping(monitor='val_loss', patience=10, restore_best_weights=True) # Early stop if val_loss sees no improvement\n",
        "\n",
        "history9 = model9.fit(train_images, train_labels, validation_split=0.2, epochs=15, batch_size=128, callbacks=[callback])"
      ],
      "metadata": {
        "id": "T2EBSBvq96C0",
        "colab": {
          "base_uri": "https://localhost:8080/"
        },
        "outputId": "35456d3f-3bc2-4d69-bdb9-2f7ff737d65e"
      },
      "execution_count": null,
      "outputs": [
        {
          "output_type": "stream",
          "name": "stdout",
          "text": [
            "Epoch 1/15\n",
            "61/61 [==============================] - 15s 221ms/step - loss: 10.9532 - accuracy: 0.0245 - val_loss: 4.7613 - val_accuracy: 0.0135\n",
            "Epoch 2/15\n",
            "61/61 [==============================] - 11s 173ms/step - loss: 4.3942 - accuracy: 0.0109 - val_loss: 4.3175 - val_accuracy: 0.0135\n",
            "Epoch 3/15\n",
            "61/61 [==============================] - 11s 184ms/step - loss: 4.3183 - accuracy: 0.0096 - val_loss: 4.3175 - val_accuracy: 0.0135\n",
            "Epoch 4/15\n",
            "61/61 [==============================] - 12s 203ms/step - loss: 4.3182 - accuracy: 0.0096 - val_loss: 4.3175 - val_accuracy: 0.0135\n",
            "Epoch 5/15\n",
            "61/61 [==============================] - 11s 184ms/step - loss: 4.3183 - accuracy: 0.0118 - val_loss: 4.3175 - val_accuracy: 0.0129\n",
            "Epoch 6/15\n",
            "61/61 [==============================] - 10s 168ms/step - loss: 4.3182 - accuracy: 0.0110 - val_loss: 4.3175 - val_accuracy: 0.0135\n",
            "Epoch 7/15\n",
            "61/61 [==============================] - 14s 229ms/step - loss: 4.3182 - accuracy: 0.0107 - val_loss: 4.3175 - val_accuracy: 0.0129\n",
            "Epoch 8/15\n",
            "61/61 [==============================] - 12s 204ms/step - loss: 4.3183 - accuracy: 0.0107 - val_loss: 4.3175 - val_accuracy: 0.0135\n",
            "Epoch 9/15\n",
            "61/61 [==============================] - 11s 180ms/step - loss: 4.3182 - accuracy: 0.0106 - val_loss: 4.3175 - val_accuracy: 0.0129\n",
            "Epoch 10/15\n",
            "61/61 [==============================] - 11s 177ms/step - loss: 4.3182 - accuracy: 0.0096 - val_loss: 4.3175 - val_accuracy: 0.0129\n",
            "Epoch 11/15\n",
            "61/61 [==============================] - 12s 203ms/step - loss: 4.3182 - accuracy: 0.0102 - val_loss: 4.3175 - val_accuracy: 0.0129\n",
            "Epoch 12/15\n",
            "61/61 [==============================] - 12s 193ms/step - loss: 4.3182 - accuracy: 0.0120 - val_loss: 4.3175 - val_accuracy: 0.0129\n",
            "Epoch 13/15\n",
            "61/61 [==============================] - 10s 167ms/step - loss: 4.3182 - accuracy: 0.0115 - val_loss: 4.3175 - val_accuracy: 0.0129\n"
          ]
        }
      ]
    },
    {
      "cell_type": "code",
      "source": [
        "plot_loss(history9)"
      ],
      "metadata": {
        "id": "8MvtiHCQ-LkE",
        "colab": {
          "base_uri": "https://localhost:8080/",
          "height": 472
        },
        "outputId": "ddc7b034-29b0-43cc-e194-1a92a401a99b"
      },
      "execution_count": null,
      "outputs": [
        {
          "output_type": "display_data",
          "data": {
            "text/plain": [
              "<Figure size 640x480 with 1 Axes>"
            ],
            "image/png": "[encoded data removed]"
          },
          "metadata": {}
        }
      ]
    },
    {
      "cell_type": "code",
      "source": [
        "model1_loss, model1_acc = model9.evaluate(test_images, test_labels)\n",
        "\n",
        "print('model9_acc:', model1_acc)"
      ],
      "metadata": {
        "id": "SjzydJM0-NB2",
        "colab": {
          "base_uri": "https://localhost:8080/"
        },
        "outputId": "14bf16ad-4e85-4aae-f09a-af504ea4b1b6"
      },
      "execution_count": null,
      "outputs": [
        {
          "output_type": "stream",
          "name": "stdout",
          "text": [
            "76/76 [==============================] - 2s 22ms/step - loss: 4.3175 - accuracy: 0.0133\n",
            "model9_acc: 0.013250517658889294\n"
          ]
        }
      ]
    },
    {
      "cell_type": "code",
      "source": [
        "# dense layers\n",
        "dense = layers.Dense(512, kernel_regularizer=regularizers.l2(0.02), activation='gelu') #gelu\n",
        "x = dense(inputs)\n",
        "x = layers.Dense(512, activation='gelu')(x)\n",
        "x = layers.Dense(256, activation='gelu')(x)\n",
        "outputs = layers.Dense(75, activation='softmax')(x)\n",
        "\n",
        "# create a model\n",
        "model10 = keras.Model(inputs=inputs, outputs=outputs, name=\"model10\")\n",
        "\n",
        "# show the model1\n",
        "keras.utils.plot_model(model10, \"model10.png\", show_shapes=True)\n",
        "model10.summary()\n",
        "\n",
        "model10.compile(\n",
        "    loss='categorical_crossentropy',\n",
        "    optimizer='rmsprop',\n",
        "    metrics=['accuracy']\n",
        ")"
      ],
      "metadata": {
        "colab": {
          "base_uri": "https://localhost:8080/"
        },
        "id": "SW7N8uJ7DEhC",
        "outputId": "2572abd3-3c38-4a4b-f10b-0ea0d7d364f3"
      },
      "execution_count": null,
      "outputs": [
        {
          "output_type": "stream",
          "name": "stdout",
          "text": [
            "Model: \"model10\"\n",
            "_________________________________________________________________\n",
            " Layer (type)                Output Shape              Param #   \n",
            "=================================================================\n",
            " input_2 (InputLayer)        [(None, 16256)]           0         \n",
            "                                                                 \n",
            " dense_8 (Dense)             (None, 512)               8323584   \n",
            "                                                                 \n",
            " dense_9 (Dense)             (None, 512)               262656    \n",
            "                                                                 \n",
            " dense_10 (Dense)            (None, 256)               131328    \n",
            "                                                                 \n",
            " dense_11 (Dense)            (None, 75)                19275     \n",
            "                                                                 \n",
            "=================================================================\n",
            "Total params: 8,736,843\n",
            "Trainable params: 8,736,843\n",
            "Non-trainable params: 0\n",
            "_________________________________________________________________\n"
          ]
        }
      ]
    },
    {
      "cell_type": "code",
      "source": [
        "callback = tf.keras.callbacks.EarlyStopping(monitor='val_loss', patience=10, restore_best_weights=True) # Early stop if val_loss sees no improvement\n",
        "\n",
        "history10 = model10.fit(train_images, train_labels, validation_split=0.2, epochs=30, batch_size=128, callbacks=[callback])"
      ],
      "metadata": {
        "colab": {
          "base_uri": "https://localhost:8080/"
        },
        "id": "09xYsCaxDWGf",
        "outputId": "d5120dce-08ac-4f91-b458-2d90a8fe4c28"
      },
      "execution_count": null,
      "outputs": [
        {
          "output_type": "stream",
          "name": "stdout",
          "text": [
            "Epoch 1/30\n",
            "61/61 [==============================] - 15s 230ms/step - loss: 5.7147 - accuracy: 0.1024 - val_loss: 3.7043 - val_accuracy: 0.2143\n",
            "Epoch 2/30\n",
            "61/61 [==============================] - 13s 214ms/step - loss: 3.1814 - accuracy: 0.3283 - val_loss: 3.4255 - val_accuracy: 0.3033\n",
            "Epoch 3/30\n",
            "61/61 [==============================] - 13s 211ms/step - loss: 2.8141 - accuracy: 0.4252 - val_loss: 3.1832 - val_accuracy: 0.3313\n",
            "Epoch 4/30\n",
            "61/61 [==============================] - 16s 264ms/step - loss: 2.5749 - accuracy: 0.4776 - val_loss: 3.1936 - val_accuracy: 0.3256\n",
            "Epoch 5/30\n",
            "61/61 [==============================] - 11s 187ms/step - loss: 2.4048 - accuracy: 0.5173 - val_loss: 2.7200 - val_accuracy: 0.4534\n",
            "Epoch 6/30\n",
            "61/61 [==============================] - 13s 205ms/step - loss: 2.2683 - accuracy: 0.5483 - val_loss: 2.5897 - val_accuracy: 0.4591\n",
            "Epoch 7/30\n",
            "61/61 [==============================] - 13s 220ms/step - loss: 2.1165 - accuracy: 0.5791 - val_loss: 2.9826 - val_accuracy: 0.3701\n",
            "Epoch 8/30\n",
            "61/61 [==============================] - 13s 221ms/step - loss: 2.0467 - accuracy: 0.5987 - val_loss: 2.5839 - val_accuracy: 0.4436\n",
            "Epoch 9/30\n",
            "61/61 [==============================] - 14s 227ms/step - loss: 1.9442 - accuracy: 0.6207 - val_loss: 2.3571 - val_accuracy: 0.5238\n",
            "Epoch 10/30\n",
            "61/61 [==============================] - 11s 187ms/step - loss: 1.8656 - accuracy: 0.6373 - val_loss: 2.4761 - val_accuracy: 0.5078\n",
            "Epoch 11/30\n",
            "61/61 [==============================] - 11s 182ms/step - loss: 1.7796 - accuracy: 0.6654 - val_loss: 2.4854 - val_accuracy: 0.5192\n",
            "Epoch 12/30\n",
            "61/61 [==============================] - 13s 210ms/step - loss: 1.7089 - accuracy: 0.6783 - val_loss: 2.1382 - val_accuracy: 0.5642\n",
            "Epoch 13/30\n",
            "61/61 [==============================] - 13s 212ms/step - loss: 1.6650 - accuracy: 0.6843 - val_loss: 2.1469 - val_accuracy: 0.5699\n",
            "Epoch 14/30\n",
            "61/61 [==============================] - 12s 192ms/step - loss: 1.6071 - accuracy: 0.7051 - val_loss: 2.2779 - val_accuracy: 0.5435\n",
            "Epoch 15/30\n",
            "61/61 [==============================] - 12s 189ms/step - loss: 1.5314 - accuracy: 0.7177 - val_loss: 2.0552 - val_accuracy: 0.6004\n",
            "Epoch 16/30\n",
            "61/61 [==============================] - 13s 213ms/step - loss: 1.5054 - accuracy: 0.7252 - val_loss: 2.5638 - val_accuracy: 0.4943\n",
            "Epoch 17/30\n",
            "61/61 [==============================] - 13s 216ms/step - loss: 1.4559 - accuracy: 0.7391 - val_loss: 1.8917 - val_accuracy: 0.6180\n",
            "Epoch 18/30\n",
            "61/61 [==============================] - 13s 206ms/step - loss: 1.4051 - accuracy: 0.7512 - val_loss: 1.9287 - val_accuracy: 0.6242\n",
            "Epoch 19/30\n",
            "61/61 [==============================] - 11s 179ms/step - loss: 1.3567 - accuracy: 0.7605 - val_loss: 1.9365 - val_accuracy: 0.6128\n",
            "Epoch 20/30\n",
            "61/61 [==============================] - 13s 205ms/step - loss: 1.3375 - accuracy: 0.7637 - val_loss: 1.9362 - val_accuracy: 0.6273\n",
            "Epoch 21/30\n",
            "61/61 [==============================] - 13s 210ms/step - loss: 1.2859 - accuracy: 0.7726 - val_loss: 2.1504 - val_accuracy: 0.5663\n",
            "Epoch 22/30\n",
            "61/61 [==============================] - 12s 199ms/step - loss: 1.2571 - accuracy: 0.7869 - val_loss: 1.9751 - val_accuracy: 0.6087\n",
            "Epoch 23/30\n",
            "61/61 [==============================] - 11s 186ms/step - loss: 1.2761 - accuracy: 0.7821 - val_loss: 1.9647 - val_accuracy: 0.6273\n",
            "Epoch 24/30\n",
            "61/61 [==============================] - 11s 187ms/step - loss: 1.1897 - accuracy: 0.8031 - val_loss: 2.3815 - val_accuracy: 0.5492\n",
            "Epoch 25/30\n",
            "61/61 [==============================] - 13s 216ms/step - loss: 1.2167 - accuracy: 0.7928 - val_loss: 1.7955 - val_accuracy: 0.6708\n",
            "Epoch 26/30\n",
            "61/61 [==============================] - 13s 214ms/step - loss: 1.1592 - accuracy: 0.8043 - val_loss: 2.1817 - val_accuracy: 0.5875\n",
            "Epoch 27/30\n",
            "61/61 [==============================] - 13s 207ms/step - loss: 1.1222 - accuracy: 0.8219 - val_loss: 2.0218 - val_accuracy: 0.6242\n",
            "Epoch 28/30\n",
            "61/61 [==============================] - 11s 184ms/step - loss: 1.1247 - accuracy: 0.8169 - val_loss: 1.9140 - val_accuracy: 0.6372\n",
            "Epoch 29/30\n",
            "61/61 [==============================] - 13s 205ms/step - loss: 1.0952 - accuracy: 0.8216 - val_loss: 1.8546 - val_accuracy: 0.6579\n",
            "Epoch 30/30\n",
            "61/61 [==============================] - 13s 211ms/step - loss: 1.0603 - accuracy: 0.8329 - val_loss: 2.4092 - val_accuracy: 0.5543\n"
          ]
        }
      ]
    },
    {
      "cell_type": "code",
      "source": [
        "plot_loss(history10)"
      ],
      "metadata": {
        "colab": {
          "base_uri": "https://localhost:8080/",
          "height": 472
        },
        "id": "QHzlGUygEQF9",
        "outputId": "eb5488f9-81b2-47f8-c4cb-b9c5f59858d7"
      },
      "execution_count": null,
      "outputs": [
        {
          "output_type": "display_data",
          "data": {
            "text/plain": [
              "<Figure size 640x480 with 1 Axes>"
            ],
            "image/png": "[encoded data removed]"
          },
          "metadata": {}
        }
      ]
    },
    {
      "cell_type": "code",
      "source": [
        "model1_loss, model1_acc = model10.evaluate(test_images, test_labels)\n",
        "\n",
        "print('model10_acc:', model1_acc)"
      ],
      "metadata": {
        "colab": {
          "base_uri": "https://localhost:8080/"
        },
        "id": "oJT0XTovEd3A",
        "outputId": "b94ac5f9-5f65-4bc3-a8f4-e94e07efd0c4"
      },
      "execution_count": null,
      "outputs": [
        {
          "output_type": "stream",
          "name": "stdout",
          "text": [
            "76/76 [==============================] - 2s 21ms/step - loss: 2.3498 - accuracy: 0.5867\n",
            "model10_acc: 0.5867494940757751\n"
          ]
        }
      ]
    },
    {
      "cell_type": "markdown",
      "source": [
        "正規化の場所が悪い"
      ],
      "metadata": {
        "id": "LmbPvgdAawLT"
      }
    },
    {
      "cell_type": "code",
      "source": [
        "from tensorflow.keras import regularizers\n",
        "\n",
        "inputs = keras.Input(shape=(127*128,))\n",
        "\n",
        "# dense layers\n",
        "x = layers.Dense(512, activation='gelu')(inputs)\n",
        "x = layers.Dense(512, kernel_regularizer=regularizers.l2(0.02), activation='gelu')(x)\n",
        "x = layers.Dense(256, activation='gelu')(x)\n",
        "outputs = layers.Dense(75, activation='softmax')(x)\n",
        "\n",
        "# create a model\n",
        "modelL2 = keras.Model(inputs=inputs, outputs=outputs, name=\"modelL2\")\n",
        "\n",
        "# show the model1\n",
        "keras.utils.plot_model(modelL2, \"modelL2.png\", show_shapes=True)\n",
        "modelL2.summary()\n",
        "\n",
        "modelL2.compile(\n",
        "    loss='categorical_crossentropy',\n",
        "    optimizer='rmsprop',\n",
        "    metrics=['accuracy']\n",
        ")\n",
        "\n",
        "callback = tf.keras.callbacks.EarlyStopping(monitor='val_loss', patience=10, restore_best_weights=True) # Early stop if val_loss sees no improvement\n",
        "\n",
        "historyL2 = modelL2.fit(train_images, train_labels, validation_split=0.2, epochs=30, batch_size=128, callbacks=[callback])"
      ],
      "metadata": {
        "colab": {
          "base_uri": "https://localhost:8080/"
        },
        "id": "HajfLy7eapBo",
        "outputId": "565f12eb-a0ce-4a91-dce1-c2e23a01671d"
      },
      "execution_count": null,
      "outputs": [
        {
          "output_type": "stream",
          "name": "stdout",
          "text": [
            "Model: \"modelL2\"\n",
            "_________________________________________________________________\n",
            " Layer (type)                Output Shape              Param #   \n",
            "=================================================================\n",
            " input_1 (InputLayer)        [(None, 16256)]           0         \n",
            "                                                                 \n",
            " dense (Dense)               (None, 512)               8323584   \n",
            "                                                                 \n",
            " dense_1 (Dense)             (None, 512)               262656    \n",
            "                                                                 \n",
            " dense_2 (Dense)             (None, 256)               131328    \n",
            "                                                                 \n",
            " dense_3 (Dense)             (None, 75)                19275     \n",
            "                                                                 \n",
            "=================================================================\n",
            "Total params: 8,736,843\n",
            "Trainable params: 8,736,843\n",
            "Non-trainable params: 0\n",
            "_________________________________________________________________\n",
            "Epoch 1/30\n",
            "61/61 [==============================] - 15s 219ms/step - loss: 6.5420 - accuracy: 0.1403 - val_loss: 3.6878 - val_accuracy: 0.2681\n",
            "Epoch 2/30\n",
            "61/61 [==============================] - 11s 183ms/step - loss: 2.6205 - accuracy: 0.4459 - val_loss: 2.6121 - val_accuracy: 0.4327\n",
            "Epoch 3/30\n",
            "61/61 [==============================] - 13s 214ms/step - loss: 1.8933 - accuracy: 0.5813 - val_loss: 2.5328 - val_accuracy: 0.4099\n",
            "Epoch 4/30\n",
            "61/61 [==============================] - 14s 223ms/step - loss: 1.5172 - accuracy: 0.6593 - val_loss: 2.4290 - val_accuracy: 0.4270\n",
            "Epoch 5/30\n",
            "61/61 [==============================] - 14s 230ms/step - loss: 1.2619 - accuracy: 0.7187 - val_loss: 2.0941 - val_accuracy: 0.5067\n",
            "Epoch 6/30\n",
            "61/61 [==============================] - 11s 184ms/step - loss: 1.0785 - accuracy: 0.7654 - val_loss: 1.7356 - val_accuracy: 0.5859\n",
            "Epoch 7/30\n",
            "61/61 [==============================] - 12s 193ms/step - loss: 0.9265 - accuracy: 0.8049 - val_loss: 1.6363 - val_accuracy: 0.6253\n",
            "Epoch 8/30\n",
            "61/61 [==============================] - 13s 214ms/step - loss: 0.8099 - accuracy: 0.8275 - val_loss: 1.7295 - val_accuracy: 0.5942\n",
            "Epoch 9/30\n",
            "61/61 [==============================] - 13s 213ms/step - loss: 0.7199 - accuracy: 0.8574 - val_loss: 1.5382 - val_accuracy: 0.6361\n",
            "Epoch 10/30\n",
            "61/61 [==============================] - 17s 280ms/step - loss: 0.6338 - accuracy: 0.8800 - val_loss: 1.7396 - val_accuracy: 0.6025\n",
            "Epoch 11/30\n",
            "61/61 [==============================] - 11s 176ms/step - loss: 0.5776 - accuracy: 0.8962 - val_loss: 1.4409 - val_accuracy: 0.6687\n",
            "Epoch 12/30\n",
            "61/61 [==============================] - 13s 217ms/step - loss: 0.5096 - accuracy: 0.9080 - val_loss: 1.5201 - val_accuracy: 0.6501\n",
            "Epoch 13/30\n",
            "61/61 [==============================] - 13s 206ms/step - loss: 0.4687 - accuracy: 0.9224 - val_loss: 1.4880 - val_accuracy: 0.6439\n",
            "Epoch 14/30\n",
            "61/61 [==============================] - 13s 209ms/step - loss: 0.4203 - accuracy: 0.9340 - val_loss: 1.5385 - val_accuracy: 0.6579\n",
            "Epoch 15/30\n",
            "61/61 [==============================] - 11s 180ms/step - loss: 0.4014 - accuracy: 0.9352 - val_loss: 1.4974 - val_accuracy: 0.6620\n",
            "Epoch 16/30\n",
            "61/61 [==============================] - 12s 203ms/step - loss: 0.3419 - accuracy: 0.9511 - val_loss: 1.5545 - val_accuracy: 0.6460\n",
            "Epoch 17/30\n",
            "61/61 [==============================] - 13s 218ms/step - loss: 0.3484 - accuracy: 0.9511 - val_loss: 1.6507 - val_accuracy: 0.6475\n",
            "Epoch 18/30\n",
            "61/61 [==============================] - 13s 219ms/step - loss: 0.3082 - accuracy: 0.9603 - val_loss: 1.6107 - val_accuracy: 0.6542\n",
            "Epoch 19/30\n",
            "61/61 [==============================] - 12s 198ms/step - loss: 0.3150 - accuracy: 0.9572 - val_loss: 1.5256 - val_accuracy: 0.6672\n",
            "Epoch 20/30\n",
            "61/61 [==============================] - 12s 193ms/step - loss: 0.3006 - accuracy: 0.9620 - val_loss: 1.4087 - val_accuracy: 0.6951\n",
            "Epoch 21/30\n",
            "61/61 [==============================] - 13s 213ms/step - loss: 0.2798 - accuracy: 0.9631 - val_loss: 1.4063 - val_accuracy: 0.7045\n",
            "Epoch 22/30\n",
            "61/61 [==============================] - 13s 217ms/step - loss: 0.2435 - accuracy: 0.9731 - val_loss: 1.5288 - val_accuracy: 0.6827\n",
            "Epoch 23/30\n",
            "61/61 [==============================] - 13s 212ms/step - loss: 0.2356 - accuracy: 0.9730 - val_loss: 1.7906 - val_accuracy: 0.6304\n",
            "Epoch 24/30\n",
            "61/61 [==============================] - 11s 178ms/step - loss: 0.2268 - accuracy: 0.9754 - val_loss: 1.6414 - val_accuracy: 0.6661\n",
            "Epoch 25/30\n",
            "61/61 [==============================] - 13s 212ms/step - loss: 0.2409 - accuracy: 0.9714 - val_loss: 1.5000 - val_accuracy: 0.6874\n",
            "Epoch 26/30\n",
            "61/61 [==============================] - 13s 218ms/step - loss: 0.2180 - accuracy: 0.9775 - val_loss: 1.8742 - val_accuracy: 0.6413\n",
            "Epoch 27/30\n",
            "61/61 [==============================] - 13s 220ms/step - loss: 0.2256 - accuracy: 0.9758 - val_loss: 1.8558 - val_accuracy: 0.6237\n",
            "Epoch 28/30\n",
            "61/61 [==============================] - 13s 208ms/step - loss: 0.1937 - accuracy: 0.9818 - val_loss: 1.6923 - val_accuracy: 0.6739\n",
            "Epoch 29/30\n",
            "61/61 [==============================] - 11s 185ms/step - loss: 0.2095 - accuracy: 0.9762 - val_loss: 2.5470 - val_accuracy: 0.5606\n",
            "Epoch 30/30\n",
            "61/61 [==============================] - 13s 210ms/step - loss: 0.2029 - accuracy: 0.9812 - val_loss: 1.4230 - val_accuracy: 0.7039\n"
          ]
        }
      ]
    },
    {
      "cell_type": "code",
      "source": [
        "plot_loss(historyL2)"
      ],
      "metadata": {
        "colab": {
          "base_uri": "https://localhost:8080/",
          "height": 472
        },
        "id": "zMKHKsY0a84q",
        "outputId": "f5a7671b-0bd2-4052-f30e-bee3a11e50b7"
      },
      "execution_count": null,
      "outputs": [
        {
          "output_type": "display_data",
          "data": {
            "text/plain": [
              "<Figure size 640x480 with 1 Axes>"
            ],
            "image/png": "[encoded data removed]"
          },
          "metadata": {}
        }
      ]
    },
    {
      "cell_type": "code",
      "source": [
        "model1_loss, model1_acc = modelL2.evaluate(test_images, test_labels)\n",
        "\n",
        "print('modelL2_acc:', model1_acc)"
      ],
      "metadata": {
        "colab": {
          "base_uri": "https://localhost:8080/"
        },
        "id": "d0Ca1Fk0a9Yi",
        "outputId": "7033eb52-59b6-479f-d857-d5c3fdaaa7fd"
      },
      "execution_count": null,
      "outputs": [
        {
          "output_type": "stream",
          "name": "stdout",
          "text": [
            "76/76 [==============================] - 2s 25ms/step - loss: 1.2928 - accuracy: 0.7453\n",
            "modelL2_acc: 0.7453415989875793\n"
          ]
        }
      ]
    },
    {
      "cell_type": "markdown",
      "source": [
        "dropout"
      ],
      "metadata": {
        "id": "pxtpB8WA_kz1"
      }
    },
    {
      "cell_type": "code",
      "source": [
        "inputs = keras.Input(shape=(127*128,))\n",
        "\n",
        "# dense layers\n",
        "dense = layers.Dense(512, activation='gelu') #gelu\n",
        "x = dense(inputs)\n",
        "x = layers.Dropout(0.5)(x)\n",
        "x = layers.Dense(512, activation='gelu')(x)\n",
        "x = layers.Dropout(0.5)(x)\n",
        "x = layers.Dense(256, activation='gelu')(x)\n",
        "x = layers.Dropout(0.5)(x)\n",
        "outputs = layers.Dense(75, activation='softmax')(x)\n",
        "\n",
        "# create a model\n",
        "model11 = keras.Model(inputs=inputs, outputs=outputs, name=\"model11\")\n",
        "\n",
        "# show the model1\n",
        "keras.utils.plot_model(model11, \"model10.png\", show_shapes=True)\n",
        "model11.summary()\n",
        "\n",
        "model11.compile(\n",
        "    loss='categorical_crossentropy',\n",
        "    optimizer='rmsprop',\n",
        "    metrics=['accuracy']\n",
        ")"
      ],
      "metadata": {
        "colab": {
          "base_uri": "https://localhost:8080/"
        },
        "id": "-S6BH8sj_jcD",
        "outputId": "146b4813-834a-4174-ddb0-3993de789d02"
      },
      "execution_count": null,
      "outputs": [
        {
          "output_type": "stream",
          "name": "stdout",
          "text": [
            "Model: \"model11\"\n",
            "_________________________________________________________________\n",
            " Layer (type)                Output Shape              Param #   \n",
            "=================================================================\n",
            " input_5 (InputLayer)        [(None, 16256)]           0         \n",
            "                                                                 \n",
            " dense_20 (Dense)            (None, 512)               8323584   \n",
            "                                                                 \n",
            " dropout_3 (Dropout)         (None, 512)               0         \n",
            "                                                                 \n",
            " dense_21 (Dense)            (None, 512)               262656    \n",
            "                                                                 \n",
            " dropout_4 (Dropout)         (None, 512)               0         \n",
            "                                                                 \n",
            " dense_22 (Dense)            (None, 256)               131328    \n",
            "                                                                 \n",
            " dropout_5 (Dropout)         (None, 256)               0         \n",
            "                                                                 \n",
            " dense_23 (Dense)            (None, 75)                19275     \n",
            "                                                                 \n",
            "=================================================================\n",
            "Total params: 8,736,843\n",
            "Trainable params: 8,736,843\n",
            "Non-trainable params: 0\n",
            "_________________________________________________________________\n"
          ]
        }
      ]
    },
    {
      "cell_type": "code",
      "source": [
        "callback = tf.keras.callbacks.EarlyStopping(monitor='val_loss', patience=10, restore_best_weights=True) # Early stop if val_loss sees no improvement\n",
        "\n",
        "history11 = model11.fit(train_images, train_labels, validation_split=0.2, epochs=30, batch_size=128, callbacks=[callback])"
      ],
      "metadata": {
        "colab": {
          "base_uri": "https://localhost:8080/"
        },
        "id": "oe4MmnewAXP6",
        "outputId": "6fe48a93-de60-4229-e1bb-0f7d20a559ee"
      },
      "execution_count": null,
      "outputs": [
        {
          "output_type": "stream",
          "name": "stdout",
          "text": [
            "Epoch 1/30\n",
            "61/61 [==============================] - 13s 204ms/step - loss: 3.7584 - accuracy: 0.1090 - val_loss: 3.0721 - val_accuracy: 0.3235\n",
            "Epoch 2/30\n",
            "61/61 [==============================] - 11s 179ms/step - loss: 2.6325 - accuracy: 0.3222 - val_loss: 2.3013 - val_accuracy: 0.4720\n",
            "Epoch 3/30\n",
            "61/61 [==============================] - 19s 313ms/step - loss: 2.0011 - accuracy: 0.4613 - val_loss: 1.8750 - val_accuracy: 0.5388\n",
            "Epoch 4/30\n",
            "61/61 [==============================] - 13s 205ms/step - loss: 1.6236 - accuracy: 0.5424 - val_loss: 1.5780 - val_accuracy: 0.5968\n",
            "Epoch 5/30\n",
            "61/61 [==============================] - 13s 222ms/step - loss: 1.3380 - accuracy: 0.6132 - val_loss: 1.4206 - val_accuracy: 0.6190\n",
            "Epoch 6/30\n",
            "61/61 [==============================] - 12s 205ms/step - loss: 1.1670 - accuracy: 0.6497 - val_loss: 1.3147 - val_accuracy: 0.6335\n",
            "Epoch 7/30\n",
            "61/61 [==============================] - 12s 199ms/step - loss: 0.9775 - accuracy: 0.7013 - val_loss: 1.2392 - val_accuracy: 0.6605\n",
            "Epoch 8/30\n",
            "61/61 [==============================] - 11s 176ms/step - loss: 0.8362 - accuracy: 0.7457 - val_loss: 1.1799 - val_accuracy: 0.6744\n",
            "Epoch 9/30\n",
            "61/61 [==============================] - 12s 193ms/step - loss: 0.7386 - accuracy: 0.7605 - val_loss: 1.1563 - val_accuracy: 0.6848\n",
            "Epoch 10/30\n",
            "61/61 [==============================] - 13s 218ms/step - loss: 0.6553 - accuracy: 0.7901 - val_loss: 1.1212 - val_accuracy: 0.6936\n",
            "Epoch 11/30\n",
            "61/61 [==============================] - 13s 219ms/step - loss: 0.5804 - accuracy: 0.8148 - val_loss: 1.1454 - val_accuracy: 0.6869\n",
            "Epoch 12/30\n",
            "61/61 [==============================] - 12s 202ms/step - loss: 0.5429 - accuracy: 0.8283 - val_loss: 1.1005 - val_accuracy: 0.7019\n",
            "Epoch 13/30\n",
            "61/61 [==============================] - 11s 185ms/step - loss: 0.4871 - accuracy: 0.8412 - val_loss: 1.0700 - val_accuracy: 0.7101\n",
            "Epoch 14/30\n",
            "61/61 [==============================] - 13s 213ms/step - loss: 0.4341 - accuracy: 0.8618 - val_loss: 1.1020 - val_accuracy: 0.7039\n",
            "Epoch 15/30\n",
            "61/61 [==============================] - 13s 211ms/step - loss: 0.4114 - accuracy: 0.8678 - val_loss: 1.1720 - val_accuracy: 0.7029\n",
            "Epoch 16/30\n",
            "61/61 [==============================] - 12s 201ms/step - loss: 0.3943 - accuracy: 0.8729 - val_loss: 1.1272 - val_accuracy: 0.7096\n",
            "Epoch 17/30\n",
            "61/61 [==============================] - 11s 174ms/step - loss: 0.3467 - accuracy: 0.8866 - val_loss: 1.1272 - val_accuracy: 0.7174\n",
            "Epoch 18/30\n",
            "61/61 [==============================] - 13s 207ms/step - loss: 0.3361 - accuracy: 0.8896 - val_loss: 1.1196 - val_accuracy: 0.7096\n",
            "Epoch 19/30\n",
            "61/61 [==============================] - 13s 209ms/step - loss: 0.3263 - accuracy: 0.8954 - val_loss: 1.1158 - val_accuracy: 0.7215\n",
            "Epoch 20/30\n",
            "61/61 [==============================] - 13s 213ms/step - loss: 0.3117 - accuracy: 0.8976 - val_loss: 1.1619 - val_accuracy: 0.7195\n",
            "Epoch 21/30\n",
            "61/61 [==============================] - 12s 192ms/step - loss: 0.2927 - accuracy: 0.9037 - val_loss: 1.1133 - val_accuracy: 0.7174\n",
            "Epoch 22/30\n",
            "61/61 [==============================] - 12s 192ms/step - loss: 0.2749 - accuracy: 0.9105 - val_loss: 1.1972 - val_accuracy: 0.7091\n",
            "Epoch 23/30\n",
            "61/61 [==============================] - 13s 213ms/step - loss: 0.2708 - accuracy: 0.9173 - val_loss: 1.1577 - val_accuracy: 0.7195\n"
          ]
        }
      ]
    },
    {
      "cell_type": "code",
      "source": [
        "plot_loss(history11)"
      ],
      "metadata": {
        "colab": {
          "base_uri": "https://localhost:8080/",
          "height": 472
        },
        "id": "XJYym3QjHji8",
        "outputId": "dc85d41d-2d34-41c1-e35c-5110c55375a7"
      },
      "execution_count": null,
      "outputs": [
        {
          "output_type": "display_data",
          "data": {
            "text/plain": [
              "<Figure size 640x480 with 1 Axes>"
            ],
            "image/png": "[encoded data removed]"
          },
          "metadata": {}
        }
      ]
    },
    {
      "cell_type": "code",
      "source": [
        "model1_loss, model1_acc = model11.evaluate(test_images, test_labels)\n",
        "\n",
        "print('model11_acc:', model1_acc)"
      ],
      "metadata": {
        "colab": {
          "base_uri": "https://localhost:8080/"
        },
        "id": "lP3gRJjgHpqI",
        "outputId": "e723b1de-cf82-4be5-cc05-f07d8c19bc0a"
      },
      "execution_count": null,
      "outputs": [
        {
          "output_type": "stream",
          "name": "stdout",
          "text": [
            "76/76 [==============================] - 3s 32ms/step - loss: 0.8878 - accuracy: 0.7565\n",
            "model11_acc: 0.7565217614173889\n"
          ]
        }
      ]
    },
    {
      "cell_type": "code",
      "source": [
        "inputs = keras.Input(shape=(127*128,))\n",
        "\n",
        "# dense layers\n",
        "dense = layers.Dense(512, activation='gelu') #gelu\n",
        "x = dense(inputs)\n",
        "x = layers.Dropout(0.5)(x)\n",
        "x = layers.Dense(512, kernel_regularizer=regularizers.l2(0.02), activation='gelu')(x)\n",
        "x = layers.Dense(256, activation='gelu')(x)\n",
        "x = layers.Dropout(0.5)(x)\n",
        "outputs = layers.Dense(75, activation='softmax')(x)\n",
        "\n",
        "# create a model\n",
        "model12 = keras.Model(inputs=inputs, outputs=outputs, name=\"model12\")\n",
        "\n",
        "# show the model1\n",
        "# keras.utils.plot_model(model12, \"model12.png\", show_shapes=True)\n",
        "model12.summary()\n",
        "\n",
        "model12.compile(\n",
        "    loss='categorical_crossentropy',\n",
        "    optimizer='rmsprop',\n",
        "    metrics=['accuracy']\n",
        ")"
      ],
      "metadata": {
        "colab": {
          "base_uri": "https://localhost:8080/"
        },
        "id": "Xzt4_XyceLVU",
        "outputId": "a34da233-a0b1-4c04-fbdd-15b8bb89086a"
      },
      "execution_count": null,
      "outputs": [
        {
          "output_type": "stream",
          "name": "stdout",
          "text": [
            "Model: \"model12\"\n",
            "_________________________________________________________________\n",
            " Layer (type)                Output Shape              Param #   \n",
            "=================================================================\n",
            " input_2 (InputLayer)        [(None, 16256)]           0         \n",
            "                                                                 \n",
            " dense_4 (Dense)             (None, 512)               8323584   \n",
            "                                                                 \n",
            " dropout (Dropout)           (None, 512)               0         \n",
            "                                                                 \n",
            " dense_5 (Dense)             (None, 512)               262656    \n",
            "                                                                 \n",
            " dense_6 (Dense)             (None, 256)               131328    \n",
            "                                                                 \n",
            " dropout_1 (Dropout)         (None, 256)               0         \n",
            "                                                                 \n",
            " dense_7 (Dense)             (None, 75)                19275     \n",
            "                                                                 \n",
            "=================================================================\n",
            "Total params: 8,736,843\n",
            "Trainable params: 8,736,843\n",
            "Non-trainable params: 0\n",
            "_________________________________________________________________\n"
          ]
        }
      ]
    },
    {
      "cell_type": "code",
      "source": [
        "callback = tf.keras.callbacks.EarlyStopping(monitor='val_loss', patience=10, restore_best_weights=True) # Early stop if val_loss sees no improvement\n",
        "\n",
        "history12 = model12.fit(train_images, train_labels, validation_split=0.2, epochs=40, batch_size=128, callbacks=[callback])"
      ],
      "metadata": {
        "colab": {
          "base_uri": "https://localhost:8080/"
        },
        "id": "kH24RQXxerNR",
        "outputId": "3ad2adc3-9428-450e-c056-b65bf5bef06f"
      },
      "execution_count": null,
      "outputs": [
        {
          "output_type": "stream",
          "name": "stdout",
          "text": [
            "Epoch 1/40\n",
            "61/61 [==============================] - 14s 202ms/step - loss: 6.8287 - accuracy: 0.0855 - val_loss: 4.0556 - val_accuracy: 0.2143\n",
            "Epoch 2/40\n",
            "61/61 [==============================] - 15s 240ms/step - loss: 3.2588 - accuracy: 0.2878 - val_loss: 2.9468 - val_accuracy: 0.4327\n",
            "Epoch 3/40\n",
            "61/61 [==============================] - 14s 234ms/step - loss: 2.5229 - accuracy: 0.4242 - val_loss: 2.5646 - val_accuracy: 0.4700\n",
            "Epoch 4/40\n",
            "61/61 [==============================] - 14s 224ms/step - loss: 2.1438 - accuracy: 0.5163 - val_loss: 2.2959 - val_accuracy: 0.5129\n",
            "Epoch 5/40\n",
            "61/61 [==============================] - 17s 278ms/step - loss: 1.8856 - accuracy: 0.5697 - val_loss: 2.0390 - val_accuracy: 0.5559\n",
            "Epoch 6/40\n",
            "61/61 [==============================] - 13s 219ms/step - loss: 1.6663 - accuracy: 0.6149 - val_loss: 1.8699 - val_accuracy: 0.5989\n",
            "Epoch 7/40\n",
            "61/61 [==============================] - 11s 185ms/step - loss: 1.4958 - accuracy: 0.6659 - val_loss: 1.8653 - val_accuracy: 0.5782\n",
            "Epoch 8/40\n",
            "61/61 [==============================] - 13s 207ms/step - loss: 1.3554 - accuracy: 0.6958 - val_loss: 1.7094 - val_accuracy: 0.6087\n",
            "Epoch 9/40\n",
            "61/61 [==============================] - 13s 210ms/step - loss: 1.2565 - accuracy: 0.7164 - val_loss: 1.7280 - val_accuracy: 0.6056\n",
            "Epoch 10/40\n",
            "61/61 [==============================] - 13s 217ms/step - loss: 1.1614 - accuracy: 0.7422 - val_loss: 1.5571 - val_accuracy: 0.6454\n",
            "Epoch 11/40\n",
            "61/61 [==============================] - 13s 213ms/step - loss: 1.0792 - accuracy: 0.7714 - val_loss: 1.5061 - val_accuracy: 0.6615\n",
            "Epoch 12/40\n",
            "61/61 [==============================] - 11s 184ms/step - loss: 1.0169 - accuracy: 0.7743 - val_loss: 1.4981 - val_accuracy: 0.6563\n",
            "Epoch 13/40\n",
            "61/61 [==============================] - 13s 210ms/step - loss: 0.9420 - accuracy: 0.8045 - val_loss: 1.5091 - val_accuracy: 0.6558\n",
            "Epoch 14/40\n",
            "61/61 [==============================] - 14s 230ms/step - loss: 0.9009 - accuracy: 0.8055 - val_loss: 1.4377 - val_accuracy: 0.6718\n",
            "Epoch 15/40\n",
            "61/61 [==============================] - 13s 220ms/step - loss: 0.8408 - accuracy: 0.8263 - val_loss: 1.4926 - val_accuracy: 0.6527\n",
            "Epoch 16/40\n",
            "61/61 [==============================] - 12s 200ms/step - loss: 0.8147 - accuracy: 0.8337 - val_loss: 1.4386 - val_accuracy: 0.6760\n",
            "Epoch 17/40\n",
            "61/61 [==============================] - 12s 190ms/step - loss: 0.7838 - accuracy: 0.8381 - val_loss: 1.4307 - val_accuracy: 0.6724\n",
            "Epoch 18/40\n",
            "61/61 [==============================] - 13s 205ms/step - loss: 0.7382 - accuracy: 0.8543 - val_loss: 1.4435 - val_accuracy: 0.6801\n",
            "Epoch 19/40\n",
            "61/61 [==============================] - 13s 214ms/step - loss: 0.7091 - accuracy: 0.8641 - val_loss: 1.3984 - val_accuracy: 0.6765\n",
            "Epoch 20/40\n",
            "61/61 [==============================] - 13s 207ms/step - loss: 0.6817 - accuracy: 0.8693 - val_loss: 1.4270 - val_accuracy: 0.6729\n",
            "Epoch 21/40\n",
            "61/61 [==============================] - 12s 189ms/step - loss: 0.6546 - accuracy: 0.8804 - val_loss: 1.4453 - val_accuracy: 0.6775\n",
            "Epoch 22/40\n",
            "61/61 [==============================] - 13s 204ms/step - loss: 0.6150 - accuracy: 0.8899 - val_loss: 1.3765 - val_accuracy: 0.6972\n",
            "Epoch 23/40\n",
            "61/61 [==============================] - 13s 215ms/step - loss: 0.5987 - accuracy: 0.8908 - val_loss: 1.4272 - val_accuracy: 0.6884\n",
            "Epoch 24/40\n",
            "61/61 [==============================] - 13s 212ms/step - loss: 0.5892 - accuracy: 0.8939 - val_loss: 1.4357 - val_accuracy: 0.6744\n",
            "Epoch 25/40\n",
            "61/61 [==============================] - 12s 198ms/step - loss: 0.5800 - accuracy: 0.8960 - val_loss: 1.4205 - val_accuracy: 0.6879\n",
            "Epoch 26/40\n",
            "61/61 [==============================] - 11s 188ms/step - loss: 0.5553 - accuracy: 0.9027 - val_loss: 1.4413 - val_accuracy: 0.6791\n",
            "Epoch 27/40\n",
            "61/61 [==============================] - 13s 215ms/step - loss: 0.5339 - accuracy: 0.9072 - val_loss: 1.4207 - val_accuracy: 0.6858\n",
            "Epoch 28/40\n",
            "61/61 [==============================] - 13s 215ms/step - loss: 0.5329 - accuracy: 0.9088 - val_loss: 1.4386 - val_accuracy: 0.6806\n",
            "Epoch 29/40\n",
            "61/61 [==============================] - 12s 199ms/step - loss: 0.5201 - accuracy: 0.9119 - val_loss: 1.4493 - val_accuracy: 0.6951\n",
            "Epoch 30/40\n",
            "61/61 [==============================] - 11s 171ms/step - loss: 0.5020 - accuracy: 0.9180 - val_loss: 1.4373 - val_accuracy: 0.6900\n",
            "Epoch 31/40\n",
            "61/61 [==============================] - 13s 215ms/step - loss: 0.4888 - accuracy: 0.9200 - val_loss: 1.4940 - val_accuracy: 0.6687\n",
            "Epoch 32/40\n",
            "61/61 [==============================] - 13s 214ms/step - loss: 0.4967 - accuracy: 0.9167 - val_loss: 1.4767 - val_accuracy: 0.6894\n"
          ]
        }
      ]
    },
    {
      "cell_type": "code",
      "source": [
        "plot_loss(history12)"
      ],
      "metadata": {
        "colab": {
          "base_uri": "https://localhost:8080/",
          "height": 472
        },
        "id": "nYJHNdApe4bX",
        "outputId": "1eb831f3-b025-4f64-bff7-c7473caf4e41"
      },
      "execution_count": null,
      "outputs": [
        {
          "output_type": "display_data",
          "data": {
            "text/plain": [
              "<Figure size 640x480 with 1 Axes>"
            ],
            "image/png": "[encoded data removed]"
          },
          "metadata": {}
        }
      ]
    },
    {
      "cell_type": "code",
      "source": [
        "model1_loss, model1_acc = model12.evaluate(test_images, test_labels)\n",
        "\n",
        "print('model12_acc:', model1_acc)"
      ],
      "metadata": {
        "colab": {
          "base_uri": "https://localhost:8080/"
        },
        "id": "s2DjwlHLe5Cz",
        "outputId": "9d51e692-3b5d-4588-f2c8-25503dd18cf4"
      },
      "execution_count": null,
      "outputs": [
        {
          "output_type": "stream",
          "name": "stdout",
          "text": [
            "76/76 [==============================] - 3s 38ms/step - loss: 1.2617 - accuracy: 0.7391\n",
            "model12_acc: 0.739130437374115\n"
          ]
        }
      ]
    }
  ]
}